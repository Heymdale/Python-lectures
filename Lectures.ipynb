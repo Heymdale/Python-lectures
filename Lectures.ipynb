{
  "nbformat": 4,
  "nbformat_minor": 0,
  "metadata": {
    "colab": {
      "name": "Lectures.ipynb",
      "provenance": [],
      "collapsed_sections": [
        "sGA79I6R4kww",
        "vnYUkflE5FF-",
        "1EGpg-qW8XlU",
        "vOr_tgTjbD6U",
        "Vn9_OIjQf8vV",
        "ixRvmSUJ0X78",
        "i4IshTDQIeeU",
        "zM51HGnIef47",
        "HUAUKNZ-ivTV"
      ],
      "authorship_tag": "ABX9TyOa3KytfQ+G+3tF4ejY7z4k",
      "include_colab_link": true
    },
    "kernelspec": {
      "name": "python3",
      "display_name": "Python 3"
    },
    "language_info": {
      "name": "python"
    }
  },
  "cells": [
    {
      "cell_type": "markdown",
      "metadata": {
        "id": "view-in-github",
        "colab_type": "text"
      },
      "source": [
        "<a href=\"https://colab.research.google.com/github/Heymdale/Python-lectures/blob/main/Lectures.ipynb\" target=\"_parent\"><img src=\"https://colab.research.google.com/assets/colab-badge.svg\" alt=\"Open In Colab\"/></a>"
      ]
    },
    {
      "cell_type": "markdown",
      "source": [
        "# Лекции Хирьянова"
      ],
      "metadata": {
        "id": "sGA79I6R4kww"
      }
    },
    {
      "cell_type": "markdown",
      "source": [
        "## Лекция 1"
      ],
      "metadata": {
        "id": "vnYUkflE5FF-"
      }
    },
    {
      "cell_type": "markdown",
      "source": [
        "Моя очередная попытка чему-нибудь научиться.\n",
        "\n",
        "Снова первые программки на питоне. Вспоминаем про динамическую типизацию.\n",
        "\n",
        "```\n",
        "# Выбран кодовый формат\n",
        "```\n",
        "\n"
      ],
      "metadata": {
        "id": "P_W-xucw5fI4"
      }
    },
    {
      "cell_type": "code",
      "source": [
        "print(\"Hello, World\")\n",
        "x = \"Hello, World\"\n",
        "print(x)\n",
        "print(type(x))\n",
        "x = 1 + 2 + 3 + 2\n",
        "print(type(x))"
      ],
      "metadata": {
        "colab": {
          "base_uri": "https://localhost:8080/"
        },
        "id": "5kXps1Zi5rn_",
        "outputId": "7966bf08-3f44-4f7a-e88d-4e277a2a6ddc"
      },
      "execution_count": null,
      "outputs": [
        {
          "output_type": "stream",
          "name": "stdout",
          "text": [
            "Hello, World\n",
            "Hello, World\n",
            "<class 'str'>\n",
            "<class 'int'>\n"
          ]
        }
      ]
    },
    {
      "cell_type": "markdown",
      "source": [
        "Обмен значениями переменных. Без третьей переменной и кортежами."
      ],
      "metadata": {
        "id": "wu8HjCJr6qWO"
      }
    },
    {
      "cell_type": "code",
      "source": [
        "a = 2\n",
        "b = 5\n",
        "a = a + b\n",
        "b = a - b\n",
        "a = a - b\n",
        "print(a, \" \", b)\n",
        "# Обмен через кортежи (tuple)\n",
        "a, b = b, a\n",
        "print(a, \" \", b)"
      ],
      "metadata": {
        "colab": {
          "base_uri": "https://localhost:8080/"
        },
        "id": "XgMnWPuY688z",
        "outputId": "bc925c68-0982-4747-ec59-05f021afc001"
      },
      "execution_count": null,
      "outputs": [
        {
          "output_type": "stream",
          "name": "stdout",
          "text": [
            "5   2\n",
            "2   5\n"
          ]
        }
      ]
    },
    {
      "cell_type": "markdown",
      "source": [
        "Вспоминаем основные арифметические операции."
      ],
      "metadata": {
        "id": "9zuDtZEi7J12"
      }
    },
    {
      "cell_type": "code",
      "source": [
        "print(\"Pow(a, b) as a**b = \", a**b)\n",
        "    # В отличии от С# int/int = float\n",
        "print(\"a/b = \", a/b, ' -float')\n",
        "    # Целочисленное деление //\n",
        "print(\"a//b = \", a//b, ' -integer')\n",
        "    # Остаток такой же как в C#\n",
        "print(\"a%b = \", a % b, ' -modulo')\n",
        "    # WTF I didn't know it, must try it in C#\n",
        "print('-11//10 = ', -11//10, sep='')\n",
        "print('-11%10 = ', -11 % 10)"
      ],
      "metadata": {
        "id": "D6jkpuD87myn"
      },
      "execution_count": null,
      "outputs": []
    },
    {
      "cell_type": "markdown",
      "source": [
        "Цикл while и его сахар в виде цикла for"
      ],
      "metadata": {
        "id": "7KYklg1w9FsX"
      }
    },
    {
      "cell_type": "code",
      "source": [
        "# Cycle with else after cycle, which don't execute if break\n",
        "x = 1\n",
        "while x < 10:\n",
        "  x += 1\n",
        "  if int(input()) == 1:\n",
        "        break\n",
        "else:\n",
        "    x = 2\n",
        "print(x)\n",
        "# Уже забыл, в range конец интервала не включается, но в панде, по-моему включается >:(\n",
        "for i in range (2, 3, 1):\n",
        "    print(\"range (2, 3, 1)\", i)\n",
        "for i in range(3, 3, 1):\n",
        "    print(\"range (3, 3, 1)\", i)"
      ],
      "metadata": {
        "id": "7mYWjMVW9Kus"
      },
      "execution_count": null,
      "outputs": []
    },
    {
      "cell_type": "markdown",
      "source": [
        "## Лекция 2. Алгебра логики."
      ],
      "metadata": {
        "id": "1EGpg-qW8XlU"
      }
    },
    {
      "cell_type": "markdown",
      "source": [
        "Логические высказавыния:\n",
        "\n",
        "\n",
        "1.   Инверсия. Не А. \"-А\"\n",
        "2.   Конъюнкция. А и В. \"А*В\"\n",
        "3.   Дизъюнкция. А или В. \"А+В\"\n",
        "4.   Импликация. Следование. А=>В.\n",
        "5.   Эквиваленция. А<=>В.\n",
        "6.   XOR. Исключающее ИЛИ. Сложение по модулю 2. Антиэквиваленция.\n",
        "\n",
        "\n"
      ],
      "metadata": {
        "id": "mbmJq6dlM2AB"
      }
    },
    {
      "cell_type": "markdown",
      "source": [
        "Таблица истинности\n"
      ],
      "metadata": {
        "id": "MJKDPrHpOeOn"
      }
    },
    {
      "metadata": {
        "id": "1qqZ2wiOwTbp",
        "colab": {
          "base_uri": "https://localhost:8080/",
          "height": 314
        },
        "outputId": "bfd6f53e-9bbd-4168-8fe9-beeaa30b045b"
      },
      "source": [
        "# Необхожимо вспомнить панду\n",
        "import pandas as pd\n",
        "\n",
        "\n",
        "def to_bool(list_of_nums):\n",
        "  for el in range(len(list_of_nums)):\n",
        "    list_of_nums[el] = bool(list_of_nums[el])\n",
        "  return list_of_nums\n",
        "\n",
        "def func_and (x, y):\n",
        "  # В панде используют & вместо and, как в остальном питоне\n",
        "  return x & y\n",
        "\n",
        "\n",
        "def func_or (x, y):\n",
        "  # В панде используют | вместо or, как в остальном питоне\n",
        "  return x | y\n",
        "\n",
        "\n",
        "def func_implication (x, y):\n",
        "  # Импликацию выражаем через Дизъюнктивную нормальную форму, \n",
        "  # т.е. приводим к сумме трёх логических функций (по количеству True в столбце),\n",
        "  # использую только not, or, and. Но могли бы использовать \"~x | y\".\n",
        "  return ~x & ~y | ~x & y | x & y\n",
        "\n",
        "\n",
        "def func_equality (x, y):\n",
        "  # Можно использовать \"x&y | ~x&~y\"\n",
        "  return x == y\n",
        "\n",
        "\n",
        "def func_xor (x, y):\n",
        "  # В панде используют ~ вместо not, как в остальном питоне\n",
        "  return ~(x==y)\n",
        "\n",
        "df = pd.DataFrame({'x': to_bool([0, 0, 1, 1])})\n",
        "df = pd.concat([df, pd.DataFrame({'y': to_bool([0, 1, 0, 1])})], axis=1)\n",
        "x = df['x'] \n",
        "y = df['y']\n",
        "df['А*В'] = func_and(x,y)\n",
        "df['А+В'] = func_or(x,y)\n",
        "df['А=>В'] = func_implication(x,y)\n",
        "df['А<=>В'] = func_equality(x,y)\n",
        "df['XOR'] = func_xor(x,y)\n",
        "print('Table with True/False values')\n",
        "print(df)\n",
        "df = df + 1 - 1\n",
        "print()\n",
        "print('Table with 1 and 0 values')\n",
        "df"
      ],
      "cell_type": "code",
      "execution_count": null,
      "outputs": [
        {
          "output_type": "stream",
          "name": "stdout",
          "text": [
            "Table with True/False values\n",
            "       x      y    А*В    А+В   А=>В  А<=>В    XOR\n",
            "0  False  False  False  False   True   True  False\n",
            "1  False   True  False   True   True  False   True\n",
            "2   True  False  False   True  False  False   True\n",
            "3   True   True   True   True   True   True  False\n",
            "\n",
            "Table with 1 and 0 values\n"
          ]
        },
        {
          "output_type": "execute_result",
          "data": {
            "text/html": [
              "\n",
              "  <div id=\"df-50e64c58-5788-4b22-b64c-7f2906d65a7e\">\n",
              "    <div class=\"colab-df-container\">\n",
              "      <div>\n",
              "<style scoped>\n",
              "    .dataframe tbody tr th:only-of-type {\n",
              "        vertical-align: middle;\n",
              "    }\n",
              "\n",
              "    .dataframe tbody tr th {\n",
              "        vertical-align: top;\n",
              "    }\n",
              "\n",
              "    .dataframe thead th {\n",
              "        text-align: right;\n",
              "    }\n",
              "</style>\n",
              "<table border=\"1\" class=\"dataframe\">\n",
              "  <thead>\n",
              "    <tr style=\"text-align: right;\">\n",
              "      <th></th>\n",
              "      <th>x</th>\n",
              "      <th>y</th>\n",
              "      <th>А*В</th>\n",
              "      <th>А+В</th>\n",
              "      <th>А=&gt;В</th>\n",
              "      <th>А&lt;=&gt;В</th>\n",
              "      <th>XOR</th>\n",
              "    </tr>\n",
              "  </thead>\n",
              "  <tbody>\n",
              "    <tr>\n",
              "      <th>0</th>\n",
              "      <td>0</td>\n",
              "      <td>0</td>\n",
              "      <td>0</td>\n",
              "      <td>0</td>\n",
              "      <td>1</td>\n",
              "      <td>1</td>\n",
              "      <td>0</td>\n",
              "    </tr>\n",
              "    <tr>\n",
              "      <th>1</th>\n",
              "      <td>0</td>\n",
              "      <td>1</td>\n",
              "      <td>0</td>\n",
              "      <td>1</td>\n",
              "      <td>1</td>\n",
              "      <td>0</td>\n",
              "      <td>1</td>\n",
              "    </tr>\n",
              "    <tr>\n",
              "      <th>2</th>\n",
              "      <td>1</td>\n",
              "      <td>0</td>\n",
              "      <td>0</td>\n",
              "      <td>1</td>\n",
              "      <td>0</td>\n",
              "      <td>0</td>\n",
              "      <td>1</td>\n",
              "    </tr>\n",
              "    <tr>\n",
              "      <th>3</th>\n",
              "      <td>1</td>\n",
              "      <td>1</td>\n",
              "      <td>1</td>\n",
              "      <td>1</td>\n",
              "      <td>1</td>\n",
              "      <td>1</td>\n",
              "      <td>0</td>\n",
              "    </tr>\n",
              "  </tbody>\n",
              "</table>\n",
              "</div>\n",
              "      <button class=\"colab-df-convert\" onclick=\"convertToInteractive('df-50e64c58-5788-4b22-b64c-7f2906d65a7e')\"\n",
              "              title=\"Convert this dataframe to an interactive table.\"\n",
              "              style=\"display:none;\">\n",
              "        \n",
              "  <svg xmlns=\"http://www.w3.org/2000/svg\" height=\"24px\"viewBox=\"0 0 24 24\"\n",
              "       width=\"24px\">\n",
              "    <path d=\"M0 0h24v24H0V0z\" fill=\"none\"/>\n",
              "    <path d=\"M18.56 5.44l.94 2.06.94-2.06 2.06-.94-2.06-.94-.94-2.06-.94 2.06-2.06.94zm-11 1L8.5 8.5l.94-2.06 2.06-.94-2.06-.94L8.5 2.5l-.94 2.06-2.06.94zm10 10l.94 2.06.94-2.06 2.06-.94-2.06-.94-.94-2.06-.94 2.06-2.06.94z\"/><path d=\"M17.41 7.96l-1.37-1.37c-.4-.4-.92-.59-1.43-.59-.52 0-1.04.2-1.43.59L10.3 9.45l-7.72 7.72c-.78.78-.78 2.05 0 2.83L4 21.41c.39.39.9.59 1.41.59.51 0 1.02-.2 1.41-.59l7.78-7.78 2.81-2.81c.8-.78.8-2.07 0-2.86zM5.41 20L4 18.59l7.72-7.72 1.47 1.35L5.41 20z\"/>\n",
              "  </svg>\n",
              "      </button>\n",
              "      \n",
              "  <style>\n",
              "    .colab-df-container {\n",
              "      display:flex;\n",
              "      flex-wrap:wrap;\n",
              "      gap: 12px;\n",
              "    }\n",
              "\n",
              "    .colab-df-convert {\n",
              "      background-color: #E8F0FE;\n",
              "      border: none;\n",
              "      border-radius: 50%;\n",
              "      cursor: pointer;\n",
              "      display: none;\n",
              "      fill: #1967D2;\n",
              "      height: 32px;\n",
              "      padding: 0 0 0 0;\n",
              "      width: 32px;\n",
              "    }\n",
              "\n",
              "    .colab-df-convert:hover {\n",
              "      background-color: #E2EBFA;\n",
              "      box-shadow: 0px 1px 2px rgba(60, 64, 67, 0.3), 0px 1px 3px 1px rgba(60, 64, 67, 0.15);\n",
              "      fill: #174EA6;\n",
              "    }\n",
              "\n",
              "    [theme=dark] .colab-df-convert {\n",
              "      background-color: #3B4455;\n",
              "      fill: #D2E3FC;\n",
              "    }\n",
              "\n",
              "    [theme=dark] .colab-df-convert:hover {\n",
              "      background-color: #434B5C;\n",
              "      box-shadow: 0px 1px 3px 1px rgba(0, 0, 0, 0.15);\n",
              "      filter: drop-shadow(0px 1px 2px rgba(0, 0, 0, 0.3));\n",
              "      fill: #FFFFFF;\n",
              "    }\n",
              "  </style>\n",
              "\n",
              "      <script>\n",
              "        const buttonEl =\n",
              "          document.querySelector('#df-50e64c58-5788-4b22-b64c-7f2906d65a7e button.colab-df-convert');\n",
              "        buttonEl.style.display =\n",
              "          google.colab.kernel.accessAllowed ? 'block' : 'none';\n",
              "\n",
              "        async function convertToInteractive(key) {\n",
              "          const element = document.querySelector('#df-50e64c58-5788-4b22-b64c-7f2906d65a7e');\n",
              "          const dataTable =\n",
              "            await google.colab.kernel.invokeFunction('convertToInteractive',\n",
              "                                                     [key], {});\n",
              "          if (!dataTable) return;\n",
              "\n",
              "          const docLinkHtml = 'Like what you see? Visit the ' +\n",
              "            '<a target=\"_blank\" href=https://colab.research.google.com/notebooks/data_table.ipynb>data table notebook</a>'\n",
              "            + ' to learn more about interactive tables.';\n",
              "          element.innerHTML = '';\n",
              "          dataTable['output_type'] = 'display_data';\n",
              "          await google.colab.output.renderOutput(dataTable, element);\n",
              "          const docLink = document.createElement('div');\n",
              "          docLink.innerHTML = docLinkHtml;\n",
              "          element.appendChild(docLink);\n",
              "        }\n",
              "      </script>\n",
              "    </div>\n",
              "  </div>\n",
              "  "
            ],
            "text/plain": [
              "   x  y  А*В  А+В  А=>В  А<=>В  XOR\n",
              "0  0  0    0    0     1      1    0\n",
              "1  0  1    0    1     1      0    1\n",
              "2  1  0    0    1     0      0    1\n",
              "3  1  1    1    1     1      1    0"
            ]
          },
          "metadata": {},
          "execution_count": 39
        }
      ]
    },
    {
      "cell_type": "markdown",
      "source": [
        "**Законы Алгебры Логики**\n",
        "\n",
        "0+A=A; 1+A=1; 0*A=0; 1*A=A.\n",
        "A*A=A+A=A; A+-A=1; A*-A=0;\n",
        "A*(A+B)=A; A+A*B=A.\n",
        "\n",
        "**Свойства \"и\" и \"или\"**\n",
        "\n",
        "(A*B)*C=A*(B*C)=A*B*C\n",
        "\n",
        "(A+B)+C=A+(B+C)\n",
        "\n",
        "A*B=B*A    A+B=B+A\n",
        "\n",
        "A*(B+C)=A*B+A*C\n",
        "\n",
        "A+B*C=A+(B*C)=(A*B)+(A*C)"
      ],
      "metadata": {
        "id": "3_gFE5dsTnZF"
      }
    },
    {
      "cell_type": "markdown",
      "source": [
        "## Лекция 3. Системы счисления."
      ],
      "metadata": {
        "id": "vOr_tgTjbD6U"
      }
    },
    {
      "cell_type": "markdown",
      "source": [
        "Почти нечего записать, рзве что про таблицы быстрого перехода двоичная-четверичная-восьмиричная-шестнадцатиричная. Диады 2системы повторяются в 4сестеме, триады в 8системе и тетрады в 16системе. "
      ],
      "metadata": {
        "id": "7Qyag5U56197"
      }
    },
    {
      "cell_type": "code",
      "source": [
        "# Функция перевода целых чисел из десятичной системы \n",
        "# в систему с базой от 2 до 10\n",
        "def to_xbase(num, base):\n",
        "  if not(2 <= base <= 10):\n",
        "    return 'Error base isn\\'t in range 2:10'\n",
        "  num_xbase=''\n",
        "  while num // base > 0:\n",
        "    num_xbase = str(num % base) + num_xbase\n",
        "    num//= base\n",
        "  num_xbase = str(num) + num_xbase\n",
        "  return num_xbase\n",
        "\n",
        "print('----2---|---4--|---8--|--16--')\n",
        "for i in range(16):\n",
        "  print('{:>8}|{:>6}|{:>6}|{:>6}'.format(to_xbase(i, 2), to_xbase(i, 4), to_xbase(i,8), hex(i)))"
      ],
      "metadata": {
        "colab": {
          "base_uri": "https://localhost:8080/"
        },
        "id": "Ad6AK_LY7Yib",
        "outputId": "c0cfbf14-3f09-47cb-a752-d1a3437a379d"
      },
      "execution_count": null,
      "outputs": [
        {
          "output_type": "stream",
          "name": "stdout",
          "text": [
            "----2---|---4--|---8--|--16--\n",
            "       0|     0|     0|   0x0\n",
            "       1|     1|     1|   0x1\n",
            "      10|     2|     2|   0x2\n",
            "      11|     3|     3|   0x3\n",
            "     100|    10|     4|   0x4\n",
            "     101|    11|     5|   0x5\n",
            "     110|    12|     6|   0x6\n",
            "     111|    13|     7|   0x7\n",
            "    1000|    20|    10|   0x8\n",
            "    1001|    21|    11|   0x9\n",
            "    1010|    22|    12|   0xa\n",
            "    1011|    23|    13|   0xb\n",
            "    1100|    30|    14|   0xc\n",
            "    1101|    31|    15|   0xd\n",
            "    1110|    32|    16|   0xe\n",
            "    1111|    33|    17|   0xf\n"
          ]
        }
      ]
    },
    {
      "cell_type": "markdown",
      "source": [
        "В питоне можно записывать числа в напрямую в некоторых системах счисления.\n",
        "\n",
        "0b - двоичная\n",
        "\n",
        "0o - восмеричная\n",
        "\n",
        "0x - шестнадцатиричная\n",
        "\n",
        "Стандартные функции перевода из dec: bin(), oct(), hex().\n",
        "\n",
        "Из любой системы вплоть до основания 36 в dec можно перевести командой int(num, base)"
      ],
      "metadata": {
        "id": "WrsBJDdIMCz1"
      }
    },
    {
      "cell_type": "markdown",
      "source": [
        "**Однопроходные функции**\n",
        "\n",
        "Определение - функции от некоторого количества аргументов n, для которых, зная значение F[х1...x(n-1)] -> y(n-1), можно найти значение F(y(n-1),xn) -> yn\n",
        "\n",
        "\n",
        "```\n",
        "Функция          | [ ] |  Переход\n",
        "_____________________________________________\n",
        "подсчет         n|   0   |  n += 1\n",
        "\n",
        "сумма           s|   0   |  s += x\n",
        "\n",
        "произведение    p|   1   |  p *= x\n",
        "\n",
        "максимум        m|       |  m = max(m, x)\n",
        "\n",
        "поиск числа     f| False |  f = f or x==x0\n",
        "```"
      ],
      "metadata": {
        "id": "Wg1Rf-EPUNAF"
      }
    },
    {
      "cell_type": "markdown",
      "source": [
        "## Лекция 4. Функции. Структурное программирование."
      ],
      "metadata": {
        "id": "Vn9_OIjQf8vV"
      }
    },
    {
      "cell_type": "markdown",
      "source": [
        "Питон позволяет использовать в аргументах функции (формальных параметрах) значения по-умолчанию, данное значение будет использованно, если функции не будет передан фактический параметр. \n",
        "В программе указание функции без круглых скобок не выполняет данную функцию, но ммы можем присвоить её переменной данным способом.  "
      ],
      "metadata": {
        "id": "jtj41p17g7gb"
      }
    },
    {
      "cell_type": "code",
      "source": [
        "def hello(name = 'World'): # name - формальный параметр\n",
        "  print('Hello,', name)\n",
        "\n",
        "\n",
        "hello(\"Jenny\") # Передаем фактический параметр \"Jenny\"\n",
        "hello # Just name function\n",
        "f = hello # Присваиваем функцию переменной\n",
        "f() # Вызываем функцию без фактического параметра\n",
        "z = hello('Test') # Проверяем как присваивается функция с фактическим параметром\n",
        "# z() - вызывает ошибку 'NoneType' object is not callable\n",
        "# z('WTF') - вызывает ошибку 'NoneType' object is not callable\n",
        "# Судя по всему интерпретатор пытается присвоить переменной z значение функции,\n",
        "# но у hello()  у нас процедура, не возвращающая данных."
      ],
      "metadata": {
        "colab": {
          "base_uri": "https://localhost:8080/"
        },
        "id": "cz_nX3diio6F",
        "outputId": "9d127088-c066-4e73-836d-a3f2e3afcea3"
      },
      "execution_count": null,
      "outputs": [
        {
          "output_type": "stream",
          "name": "stdout",
          "text": [
            "Hello, Jenny\n",
            "Hello, World\n",
            "Hello, Test\n"
          ]
        }
      ]
    },
    {
      "cell_type": "markdown",
      "source": [
        "Duck typing - если что-то выглядит как утка, крякает как утка, то это утка. Это позволяет, например, использовать строки в сравнениях."
      ],
      "metadata": {
        "id": "6b9Ye_KVoifV"
      }
    },
    {
      "cell_type": "code",
      "source": [
        "def max2(x, y):\n",
        "  if x > y:\n",
        "    return x\n",
        "  return y\n",
        "\n",
        "\n",
        "print(max2(34, 45.5))\n",
        "print(max2('abc','abcd'))\n",
        "print(max2('abd', 'abcd'))"
      ],
      "metadata": {
        "colab": {
          "base_uri": "https://localhost:8080/"
        },
        "id": "qZua8cvyo7DW",
        "outputId": "3b1aa5c3-b891-4504-cdbb-2e4fef6d6e0b"
      },
      "execution_count": null,
      "outputs": [
        {
          "output_type": "stream",
          "name": "stdout",
          "text": [
            "45.5\n",
            "abcd\n",
            "abd\n"
          ]
        }
      ]
    },
    {
      "cell_type": "markdown",
      "source": [
        "Питон использует именнованные параметры, в частности у функции print() есть параметр sep, по-умолчанию равный \" \", его можно задать по имени. Именнованные параметры указываются после неименнованных в любом порядке."
      ],
      "metadata": {
        "id": "hRRWItnEp-DP"
      }
    },
    {
      "cell_type": "code",
      "source": [
        "print('Hello', 'World', sep='8888',)"
      ],
      "metadata": {
        "colab": {
          "base_uri": "https://localhost:8080/"
        },
        "id": "pmI6B90xqWgd",
        "outputId": "ae7bf0c1-ba90-4a91-8ea9-abe9e973f551"
      },
      "execution_count": null,
      "outputs": [
        {
          "output_type": "stream",
          "name": "stdout",
          "text": [
            "Hello8888World\n"
          ]
        }
      ]
    },
    {
      "cell_type": "markdown",
      "source": [
        "Call stack - стек вызовов.\n",
        "main -> a -> b -> c\n",
        "В \"стакан\" вызовов набрасываются адреса возврата.\n",
        "\n",
        "с\n",
        "\n",
        "b, строка из которой вызвана функция с\n",
        "\n",
        "а,строка из которой вызвана функция b\n",
        "\n",
        "main, строка из которой вызвана функция а\n",
        "\n",
        "Есть предельный уровень заполнения данного стека, им можно управлять. При ошибках вызывается весь стек и это хорошо."
      ],
      "metadata": {
        "id": "dugKpNjur-T2"
      }
    },
    {
      "cell_type": "markdown",
      "source": [
        "**Проектирование сверху вниз**\n",
        "\n",
        "Сначала идея, затем продумываем интерфейс взаимодействия с функцией. которая должна реализовать данную идею, т.е. какие параметры мы должны передать. Далее продумываем как функция должна реализовать идею через подфункции. Можно построить шаблон програмы на процедурах с командой pass. Основная творческая работа, названия функций обязаны отражать то, что функция выполняет. Не следует забывать про тестирование."
      ],
      "metadata": {
        "id": "-S4t9fsmt5yG"
      }
    },
    {
      "cell_type": "markdown",
      "source": [
        "**Метод грубой силы. BruteForce**\n",
        "\n",
        "определение - метод предполагает перебор всех ответов.\n",
        "Например, функция тест простоты числа."
      ],
      "metadata": {
        "id": "9qZEXPyJxqSG"
      }
    },
    {
      "cell_type": "code",
      "source": [
        "def is_simple_number(x):\n",
        "  \"\"\"Определяет, является лм число простым.\n",
        "  х - целое положительное число.\n",
        "  Если простое, возвращает True,\n",
        "  а иначе - False\n",
        "  \"\"\"\n",
        "  divisor = 2\n",
        "  while divisor < x:\n",
        "    if x%divisor == 0:\n",
        "      return False\n",
        "    divisor += 1\n",
        "  return True\n",
        "\n",
        "\n",
        "print(is_simple_number(int(input())))"
      ],
      "metadata": {
        "colab": {
          "base_uri": "https://localhost:8080/"
        },
        "id": "1singdi1yP8c",
        "outputId": "1c790014-5cf8-45b2-fd0d-9a0dc5da31e1"
      },
      "execution_count": null,
      "outputs": [
        {
          "output_type": "stream",
          "name": "stdout",
          "text": [
            "4\n",
            "False\n"
          ]
        }
      ]
    },
    {
      "cell_type": "markdown",
      "source": [
        "# Лекция 5. "
      ],
      "metadata": {
        "id": "ixRvmSUJ0X78"
      }
    },
    {
      "cell_type": "markdown",
      "source": [
        "##  Массивы (вернее list, он же список)\n",
        "Задание списка:\n"
      ],
      "metadata": {
        "id": "i4IshTDQIeeU"
      }
    },
    {
      "cell_type": "code",
      "source": [
        "A = [1, 2, 3, 4]\n",
        "B = [0] * 1000\n",
        "for i in A:\n",
        "  print(i)\n",
        "print(B)"
      ],
      "metadata": {
        "colab": {
          "base_uri": "https://localhost:8080/"
        },
        "id": "sWVDmsUgJHjU",
        "outputId": "40ecb048-3f4a-43d8-dc79-e54160339e30"
      },
      "execution_count": null,
      "outputs": [
        {
          "output_type": "stream",
          "name": "stdout",
          "text": [
            "1\n",
            "2\n",
            "3\n",
            "4\n",
            "[0, 0, 0, 0, 0, 0, 0, 0, 0, 0, 0, 0, 0, 0, 0, 0, 0, 0, 0, 0, 0, 0, 0, 0, 0, 0, 0, 0, 0, 0, 0, 0, 0, 0, 0, 0, 0, 0, 0, 0, 0, 0, 0, 0, 0, 0, 0, 0, 0, 0, 0, 0, 0, 0, 0, 0, 0, 0, 0, 0, 0, 0, 0, 0, 0, 0, 0, 0, 0, 0, 0, 0, 0, 0, 0, 0, 0, 0, 0, 0, 0, 0, 0, 0, 0, 0, 0, 0, 0, 0, 0, 0, 0, 0, 0, 0, 0, 0, 0, 0, 0, 0, 0, 0, 0, 0, 0, 0, 0, 0, 0, 0, 0, 0, 0, 0, 0, 0, 0, 0, 0, 0, 0, 0, 0, 0, 0, 0, 0, 0, 0, 0, 0, 0, 0, 0, 0, 0, 0, 0, 0, 0, 0, 0, 0, 0, 0, 0, 0, 0, 0, 0, 0, 0, 0, 0, 0, 0, 0, 0, 0, 0, 0, 0, 0, 0, 0, 0, 0, 0, 0, 0, 0, 0, 0, 0, 0, 0, 0, 0, 0, 0, 0, 0, 0, 0, 0, 0, 0, 0, 0, 0, 0, 0, 0, 0, 0, 0, 0, 0, 0, 0, 0, 0, 0, 0, 0, 0, 0, 0, 0, 0, 0, 0, 0, 0, 0, 0, 0, 0, 0, 0, 0, 0, 0, 0, 0, 0, 0, 0, 0, 0, 0, 0, 0, 0, 0, 0, 0, 0, 0, 0, 0, 0, 0, 0, 0, 0, 0, 0, 0, 0, 0, 0, 0, 0, 0, 0, 0, 0, 0, 0, 0, 0, 0, 0, 0, 0, 0, 0, 0, 0, 0, 0, 0, 0, 0, 0, 0, 0, 0, 0, 0, 0, 0, 0, 0, 0, 0, 0, 0, 0, 0, 0, 0, 0, 0, 0, 0, 0, 0, 0, 0, 0, 0, 0, 0, 0, 0, 0, 0, 0, 0, 0, 0, 0, 0, 0, 0, 0, 0, 0, 0, 0, 0, 0, 0, 0, 0, 0, 0, 0, 0, 0, 0, 0, 0, 0, 0, 0, 0, 0, 0, 0, 0, 0, 0, 0, 0, 0, 0, 0, 0, 0, 0, 0, 0, 0, 0, 0, 0, 0, 0, 0, 0, 0, 0, 0, 0, 0, 0, 0, 0, 0, 0, 0, 0, 0, 0, 0, 0, 0, 0, 0, 0, 0, 0, 0, 0, 0, 0, 0, 0, 0, 0, 0, 0, 0, 0, 0, 0, 0, 0, 0, 0, 0, 0, 0, 0, 0, 0, 0, 0, 0, 0, 0, 0, 0, 0, 0, 0, 0, 0, 0, 0, 0, 0, 0, 0, 0, 0, 0, 0, 0, 0, 0, 0, 0, 0, 0, 0, 0, 0, 0, 0, 0, 0, 0, 0, 0, 0, 0, 0, 0, 0, 0, 0, 0, 0, 0, 0, 0, 0, 0, 0, 0, 0, 0, 0, 0, 0, 0, 0, 0, 0, 0, 0, 0, 0, 0, 0, 0, 0, 0, 0, 0, 0, 0, 0, 0, 0, 0, 0, 0, 0, 0, 0, 0, 0, 0, 0, 0, 0, 0, 0, 0, 0, 0, 0, 0, 0, 0, 0, 0, 0, 0, 0, 0, 0, 0, 0, 0, 0, 0, 0, 0, 0, 0, 0, 0, 0, 0, 0, 0, 0, 0, 0, 0, 0, 0, 0, 0, 0, 0, 0, 0, 0, 0, 0, 0, 0, 0, 0, 0, 0, 0, 0, 0, 0, 0, 0, 0, 0, 0, 0, 0, 0, 0, 0, 0, 0, 0, 0, 0, 0, 0, 0, 0, 0, 0, 0, 0, 0, 0, 0, 0, 0, 0, 0, 0, 0, 0, 0, 0, 0, 0, 0, 0, 0, 0, 0, 0, 0, 0, 0, 0, 0, 0, 0, 0, 0, 0, 0, 0, 0, 0, 0, 0, 0, 0, 0, 0, 0, 0, 0, 0, 0, 0, 0, 0, 0, 0, 0, 0, 0, 0, 0, 0, 0, 0, 0, 0, 0, 0, 0, 0, 0, 0, 0, 0, 0, 0, 0, 0, 0, 0, 0, 0, 0, 0, 0, 0, 0, 0, 0, 0, 0, 0, 0, 0, 0, 0, 0, 0, 0, 0, 0, 0, 0, 0, 0, 0, 0, 0, 0, 0, 0, 0, 0, 0, 0, 0, 0, 0, 0, 0, 0, 0, 0, 0, 0, 0, 0, 0, 0, 0, 0, 0, 0, 0, 0, 0, 0, 0, 0, 0, 0, 0, 0, 0, 0, 0, 0, 0, 0, 0, 0, 0, 0, 0, 0, 0, 0, 0, 0, 0, 0, 0, 0, 0, 0, 0, 0, 0, 0, 0, 0, 0, 0, 0, 0, 0, 0, 0, 0, 0, 0, 0, 0, 0, 0, 0, 0, 0, 0, 0, 0, 0, 0, 0, 0, 0, 0, 0, 0, 0, 0, 0, 0, 0, 0, 0, 0, 0, 0, 0, 0, 0, 0, 0, 0, 0, 0, 0, 0, 0, 0, 0, 0, 0, 0, 0, 0, 0, 0, 0, 0, 0, 0, 0, 0, 0, 0, 0, 0, 0, 0, 0, 0, 0, 0, 0, 0, 0, 0, 0, 0, 0, 0, 0, 0, 0, 0, 0, 0, 0, 0, 0, 0, 0, 0, 0, 0, 0, 0, 0, 0, 0, 0, 0, 0, 0, 0, 0, 0, 0, 0, 0, 0, 0, 0, 0, 0, 0, 0, 0, 0, 0, 0, 0, 0, 0, 0, 0, 0, 0, 0, 0, 0, 0, 0, 0, 0, 0, 0, 0, 0, 0, 0, 0, 0, 0, 0, 0, 0, 0, 0, 0, 0, 0, 0, 0, 0, 0, 0, 0, 0, 0, 0, 0, 0, 0, 0, 0, 0, 0, 0, 0, 0, 0, 0, 0, 0, 0, 0, 0, 0, 0, 0, 0, 0, 0, 0, 0, 0, 0, 0, 0, 0, 0, 0, 0, 0, 0, 0, 0, 0, 0, 0, 0, 0, 0, 0, 0, 0, 0, 0, 0, 0, 0, 0, 0, 0, 0, 0, 0, 0, 0, 0, 0, 0, 0, 0, 0, 0, 0, 0, 0, 0, 0, 0, 0, 0, 0, 0, 0, 0, 0, 0, 0, 0, 0, 0, 0, 0, 0, 0, 0, 0, 0]\n"
          ]
        }
      ]
    },
    {
      "cell_type": "markdown",
      "source": [
        "Копирование массива.\n"
      ],
      "metadata": {
        "id": "jHHGU03EMh3U"
      }
    },
    {
      "cell_type": "code",
      "source": [
        "n = int(input())\n",
        "A = [0] * n\n",
        "B = [0] * n\n",
        "for k in range(n):\n",
        "  A[k] = int(input())\n",
        "for k in range(n):\n",
        "  B[k] = A[k]\n",
        "C = A # C всего лишь ссылка, а В отдельный массив\n",
        "C = list(A) # Конструктор строит список С на основе списка А"
      ],
      "metadata": {
        "id": "bPTtL5P2MmW7"
      },
      "execution_count": null,
      "outputs": []
    },
    {
      "cell_type": "markdown",
      "source": [
        "Линейный поиск в массиве"
      ],
      "metadata": {
        "id": "SEbFm_60NfwV"
      }
    },
    {
      "cell_type": "code",
      "source": [
        "def array_search(a:list, N:int, x:int):\n",
        "  \"\"\" Осуществляет поиск числа х в массиве А\n",
        "  от 0 до N-1 индекса включительно.\n",
        "  Возвращает индекс элемента х в массиве А.\n",
        "  Или -1, если такого нет.\n",
        "  Если в массиве несколько элементов, равных\n",
        "  х, то вернуть индекс первого по счёту.\n",
        "  \"\"\"\n",
        "  for k in range(N):\n",
        "    if a[k] == x:\n",
        "      return k\n",
        "\n",
        "  return -1\n",
        "\n",
        "\n",
        "def test_array_search():\n",
        "  A1 = [1, 2, 3, 4, 5]\n",
        "  m = array_search(A1, 5, 8)\n",
        "  if m == -1:\n",
        "    print(\"#test1 - ok\")\n",
        "  else:\n",
        "    print(\"#test1 - fail\")\n",
        "  A2 = [-1, -2, -3, -4, -5]\n",
        "  m = array_search(A2, 5, -3)\n",
        "  if m == 2:\n",
        "    print(\"#test2 - ok\")\n",
        "  else:\n",
        "    print(\"#test2 - fail\")\n",
        "  A3 = [10, 20, 30, 10, 40]\n",
        "  m = array_search(A3, 5, 10)\n",
        "  if m == 0:\n",
        "    print(\"#test3 - ok\")\n",
        "  else:\n",
        "    print(\"#test3 - fail\")\n",
        "\n",
        "\n",
        "test_array_search()"
      ],
      "metadata": {
        "colab": {
          "base_uri": "https://localhost:8080/"
        },
        "id": "JVllIJ0ZN_D9",
        "outputId": "c44eda1c-7237-455c-f615-64228474d23c"
      },
      "execution_count": null,
      "outputs": [
        {
          "output_type": "stream",
          "name": "stdout",
          "text": [
            "#test1 - ok\n",
            "#test2 - ok\n",
            "#test3 - ok\n"
          ]
        }
      ]
    },
    {
      "cell_type": "markdown",
      "source": [
        "Инверсия массива"
      ],
      "metadata": {
        "id": "QyF5QcU4SK_T"
      }
    },
    {
      "cell_type": "code",
      "source": [
        "def invert_array(A:list, N:int):\n",
        "  \"\"\" Обращение массива в рамках индексов от 0 до N-1\n",
        "  \"\"\"\n",
        "\n",
        "  for i in range(N//2):\n",
        "     A[i], A[N-1-i] = A[N-1-i], A[i]\n",
        "  \n",
        "  \n",
        "def test_invert_array():\n",
        "  A1 = [1, 2, 3, 4, 5]\n",
        "  print(A1)\n",
        "  invert_array(A1, 5)\n",
        "  print(A1)\n",
        "  if A1 == [5, 4, 3, 2, 1]:\n",
        "    print(\"#test1 - ok\")\n",
        "  else:\n",
        "    print(\"#test1 - fail\")\n",
        "  \n",
        "  A2 = [0, 0, 0, 0, 0, 0, 0, 10]\n",
        "  print(A2)\n",
        "  invert_array(A2, 8)\n",
        "  print(A2)\n",
        "  if A2 == [10, 0, 0, 0, 0, 0, 0, 0]:\n",
        "    print(\"#test1 - ok\")\n",
        "  else:\n",
        "    print(\"#test1 - fail\")\n",
        "\n",
        "\n",
        "test_invert_array()"
      ],
      "metadata": {
        "colab": {
          "base_uri": "https://localhost:8080/"
        },
        "id": "QybZaTEqSI4F",
        "outputId": "32d0e50f-339b-486d-914f-3135f0d0f7dd"
      },
      "execution_count": null,
      "outputs": [
        {
          "output_type": "stream",
          "name": "stdout",
          "text": [
            "[1, 2, 3, 4, 5]\n",
            "[5, 4, 3, 2, 1]\n",
            "#test1 - ok\n",
            "[0, 0, 0, 0, 0, 0, 0, 10]\n",
            "[10, 0, 0, 0, 0, 0, 0, 0]\n",
            "#test1 - ok\n"
          ]
        }
      ]
    },
    {
      "cell_type": "markdown",
      "source": [
        "Циклический сдвиг"
      ],
      "metadata": {
        "id": "O0viHauKZZh9"
      }
    },
    {
      "cell_type": "code",
      "source": [
        "a = [1, 2, 3, 4, 5]\n",
        "print(a, \"Исходный массив\")\n",
        "# сдвиг влево\n",
        "tmp = a[0]\n",
        "for i in range(len(a)-1):\n",
        "  a[i] = a[i+1]\n",
        "a[len(a)-1] = tmp\n",
        "print(a, \"Исходный массив сдвиг влево\")\n",
        "# сдвиг вправо\n",
        "tmp = a[len(a)-1]\n",
        "for i in range(len(a)-1, 0, -1):\n",
        "  a[i] = a[i-1]\n",
        "a[0] = tmp\n",
        "print(a, \"новый массив сдвиг вправо\")"
      ],
      "metadata": {
        "colab": {
          "base_uri": "https://localhost:8080/"
        },
        "id": "TJepivpUSKN0",
        "outputId": "f490db1c-f736-459d-ef29-acd59cb20250"
      },
      "execution_count": null,
      "outputs": [
        {
          "output_type": "stream",
          "name": "stdout",
          "text": [
            "[1, 2, 3, 4, 5] Исходный массив\n",
            "[2, 3, 4, 5, 1] Исходный массив сдвиг влево\n",
            "[1, 2, 3, 4, 5] новый массив сдвиг вправо\n"
          ]
        }
      ]
    },
    {
      "cell_type": "markdown",
      "source": [
        "Решето Эратосфена\n"
      ],
      "metadata": {
        "id": "kLmcVbdXcQI9"
      }
    },
    {
      "cell_type": "code",
      "source": [
        "n = int(input())\n",
        "a = [True] * n\n",
        "a[0] = a[1] = False\n",
        "for k in range(2, n):\n",
        "  if a[k]:\n",
        "    for m in range(2*k, n, k):\n",
        "      a[m]=False\n",
        "for k in range(n):\n",
        "  print(k, \"-\", \"простое\" if a[k] else \"составное\")"
      ],
      "metadata": {
        "colab": {
          "base_uri": "https://localhost:8080/"
        },
        "id": "fCgamcr-cS5T",
        "outputId": "43850e21-fe47-4117-fc13-2bfd2ff245d4"
      },
      "execution_count": null,
      "outputs": [
        {
          "output_type": "stream",
          "name": "stdout",
          "text": [
            "11\n",
            "0 - составное\n",
            "1 - составное\n",
            "2 - простое\n",
            "3 - простое\n",
            "4 - составное\n",
            "5 - простое\n",
            "6 - составное\n",
            "7 - простое\n",
            "8 - составное\n",
            "9 - составное\n",
            "10 - составное\n"
          ]
        }
      ]
    },
    {
      "cell_type": "markdown",
      "source": [
        "# Лекция 6."
      ],
      "metadata": {
        "id": "zM51HGnIef47"
      }
    },
    {
      "cell_type": "markdown",
      "source": [
        "** Рассматриваем list  как list.**\n",
        "\n",
        "list не array\n"
      ],
      "metadata": {
        "id": "KLHu_Wumek93"
      }
    },
    {
      "cell_type": "code",
      "source": [
        "A = []\n",
        "x=int(input())\n",
        "A.append(x) # добавление в конец\n",
        "n = len(A)\n",
        "x=A.pop() # удаление с конца\n"
      ],
      "metadata": {
        "id": "XPdKDEmIfdy9"
      },
      "execution_count": null,
      "outputs": []
    },
    {
      "cell_type": "markdown",
      "source": [
        "list comprehention (краткая форма записи создания списка):"
      ],
      "metadata": {
        "id": "dpcC9oeSffCo"
      }
    },
    {
      "cell_type": "code",
      "source": [
        "A = [x**2 for x in range(10)] # comprehention\n",
        "print(A)\n",
        "B = []                        # not comprehention\n",
        "for i in range(10):\n",
        "  B.append(i**2)\n",
        "print(B)"
      ],
      "metadata": {
        "colab": {
          "base_uri": "https://localhost:8080/"
        },
        "id": "IMxXBwVHfpfs",
        "outputId": "0ce359ee-c25a-4d8f-feb7-45e494912ec8"
      },
      "execution_count": null,
      "outputs": [
        {
          "output_type": "stream",
          "name": "stdout",
          "text": [
            "[0, 1, 4, 9, 16, 25, 36, 49, 64, 81]\n",
            "[0, 1, 4, 9, 16, 25, 36, 49, 64, 81]\n"
          ]
        }
      ]
    },
    {
      "cell_type": "markdown",
      "source": [
        "Пример компрехэншн с условием:\n",
        "\n",
        "`B=[x**2 for x in A if x%2 == 0]`\n",
        "\n",
        "Пример компрехэншн с ternar operator:\n",
        "\n",
        "`B=[0 if x<0 else x**2 for x in A]`\n",
        "\n"
      ],
      "metadata": {
        "id": "y06tFlBLhX_n"
      }
    },
    {
      "cell_type": "markdown",
      "source": [
        "## Квадратичные сортировки"
      ],
      "metadata": {
        "id": "HUAUKNZ-ivTV"
      }
    },
    {
      "cell_type": "markdown",
      "source": [
        "определение - требуют n^2 операций или памяти."
      ],
      "metadata": {
        "id": "QLhkZny5i0sU"
      }
    },
    {
      "cell_type": "markdown",
      "source": [
        "1.   Сортировка вставками ( insert sort )\n",
        "2.   Сортировка методом выбора ( choise sort )\n",
        "3.   Сортировка методом пузырька ( bubble sort )\n",
        "\n",
        "\n"
      ],
      "metadata": {
        "id": "ol98VBJ4jEl9"
      }
    },
    {
      "cell_type": "code",
      "source": [
        "class bcolors:\n",
        "    HEADER = '\\033[95m'\n",
        "    OKBLUE = '\\033[94m'\n",
        "    OKCYAN = '\\033[96m'\n",
        "    OKGREEN = '\\033[92m'\n",
        "    WARNING = '\\033[93m'\n",
        "    FAIL = '\\033[91m'\n",
        "    ENDC = '\\033[0m'\n",
        "    BOLD = '\\033[1m'\n",
        "    UNDERLINE = '\\033[4m'\n",
        "\n",
        "\n",
        "def color_vin(l:list, x: int, y:int, color=bcolors.OKCYAN):\n",
        "  for i in range(len(l)):\n",
        "    if i == x or i == y:\n",
        "      print(color + str(l[i]) + bcolors.ENDC, end=' ')\n",
        "    else:\n",
        "      print(l[i], end=' ')\n",
        "  print()\n",
        "  \n",
        "\n",
        "\n",
        "def insert_sort(A):\n",
        "  \"\"\" сортировка списка А вставками \"\"\"\n",
        "  n = len(A)\n",
        "  print(A)\n",
        "  for top in range(1, n):\n",
        "    k=top\n",
        "    color_vin(A, top, top - 1)\n",
        "    while k > 0 and A[k-1] > A[k]: \n",
        "    # and в питоне ленивое и не вычисляет \n",
        "    # вторую часть условия, если первое ложное, аналог & в C#, в отличии от &&,\n",
        "    # в связи с этим k > 0 стоит первым, чтобы не выйти за границы массива.\n",
        "      A[k], A[k-1] = A[k-1], A[k]\n",
        "      color_vin(A, k-1, k, color=bcolors.WARNING)\n",
        "      k -= 1\n",
        "\n",
        "\n",
        "def choise_sort(A):\n",
        "  \"\"\" сортировка списка А выбором \"\"\"\n",
        "  n = len(A)\n",
        "  print(A)\n",
        "  for pos in range(n-1):\n",
        "    for k in range(pos+1, n):\n",
        "      color_vin(A, k, pos)\n",
        "      if A[k] < A[pos]:\n",
        "        A[k], A[pos] = A[pos], A[k]\n",
        "        color_vin(A, pos, k, color=bcolors.WARNING)\n",
        "\n",
        "def bubble_sort(A):\n",
        "  \"\"\" сортировка списка А методом пузырька \"\"\"\n",
        "  n = len(A)\n",
        "  print(A)\n",
        "  for bypass in range(1, n):\n",
        "    for k in range(0, n-bypass):\n",
        "      color_vin(A, k, k+1)\n",
        "      if A[k] > A[k+1]:\n",
        "        A[k], A[k+1] = A[k+1], A[k]\n",
        "        color_vin(A, k+1, k, color=bcolors.WARNING)\n",
        "\n",
        "\n",
        "def test_sort(sort_algorithm):\n",
        "  print(\"Тестируем: \", sort_algorithm.__doc__)\n",
        "  A = [4, 2, 5, 1, 3]\n",
        "  A_sorted = [1, 2, 3, 4, 5]\n",
        "  sort_algorithm(A)\n",
        "  print('testcase #1: ', end='')\n",
        "  print('Ok' if A == A_sorted else 'Fail')\n",
        "  \n",
        "  A = list(range(10,20)) + list(range(0,10)) # A = B + C - создаёт новый список конкатенацией\n",
        "  A_sorted = list(range(20))\n",
        "  sort_algorithm(A)\n",
        "  print('testcase #2: ', end='')\n",
        "  print('Ok' if A == A_sorted else 'Fail')\n",
        "\n",
        "  print('testcase #3: ', end='')\n",
        "  A = [4, 2, 4, 2, 1]\n",
        "  A_sorted = [1, 2, 2, 4, 4]\n",
        "  sort_algorithm(A)\n",
        "  print('testcase #2: ', end='')\n",
        "  print('Ok' if A == A_sorted else 'Fail')\n",
        "     \n",
        "\n",
        "test_sort(insert_sort)\n",
        "test_sort(choise_sort)\n",
        "test_sort(bubble_sort)"
      ],
      "metadata": {
        "colab": {
          "base_uri": "https://localhost:8080/"
        },
        "id": "bAyJmhtinQPt",
        "outputId": "5eebf046-f43c-417e-c7c6-74944b9f54f8"
      },
      "execution_count": null,
      "outputs": [
        {
          "output_type": "stream",
          "name": "stdout",
          "text": [
            "Тестируем:   сортировка списка А вставками \n",
            "[4, 2, 5, 1, 3]\n",
            "\u001b[96m4\u001b[0m \u001b[96m2\u001b[0m 5 1 3 \n",
            "\u001b[93m2\u001b[0m \u001b[93m4\u001b[0m 5 1 3 \n",
            "2 \u001b[96m4\u001b[0m \u001b[96m5\u001b[0m 1 3 \n",
            "2 4 \u001b[96m5\u001b[0m \u001b[96m1\u001b[0m 3 \n",
            "2 4 \u001b[93m1\u001b[0m \u001b[93m5\u001b[0m 3 \n",
            "2 \u001b[93m1\u001b[0m \u001b[93m4\u001b[0m 5 3 \n",
            "\u001b[93m1\u001b[0m \u001b[93m2\u001b[0m 4 5 3 \n",
            "1 2 4 \u001b[96m5\u001b[0m \u001b[96m3\u001b[0m \n",
            "1 2 4 \u001b[93m3\u001b[0m \u001b[93m5\u001b[0m \n",
            "1 2 \u001b[93m3\u001b[0m \u001b[93m4\u001b[0m 5 \n",
            "testcase #1: Ok\n",
            "[10, 11, 12, 13, 14, 15, 16, 17, 18, 19, 0, 1, 2, 3, 4, 5, 6, 7, 8, 9]\n",
            "\u001b[96m10\u001b[0m \u001b[96m11\u001b[0m 12 13 14 15 16 17 18 19 0 1 2 3 4 5 6 7 8 9 \n",
            "10 \u001b[96m11\u001b[0m \u001b[96m12\u001b[0m 13 14 15 16 17 18 19 0 1 2 3 4 5 6 7 8 9 \n",
            "10 11 \u001b[96m12\u001b[0m \u001b[96m13\u001b[0m 14 15 16 17 18 19 0 1 2 3 4 5 6 7 8 9 \n",
            "10 11 12 \u001b[96m13\u001b[0m \u001b[96m14\u001b[0m 15 16 17 18 19 0 1 2 3 4 5 6 7 8 9 \n",
            "10 11 12 13 \u001b[96m14\u001b[0m \u001b[96m15\u001b[0m 16 17 18 19 0 1 2 3 4 5 6 7 8 9 \n",
            "10 11 12 13 14 \u001b[96m15\u001b[0m \u001b[96m16\u001b[0m 17 18 19 0 1 2 3 4 5 6 7 8 9 \n",
            "10 11 12 13 14 15 \u001b[96m16\u001b[0m \u001b[96m17\u001b[0m 18 19 0 1 2 3 4 5 6 7 8 9 \n",
            "10 11 12 13 14 15 16 \u001b[96m17\u001b[0m \u001b[96m18\u001b[0m 19 0 1 2 3 4 5 6 7 8 9 \n",
            "10 11 12 13 14 15 16 17 \u001b[96m18\u001b[0m \u001b[96m19\u001b[0m 0 1 2 3 4 5 6 7 8 9 \n",
            "10 11 12 13 14 15 16 17 18 \u001b[96m19\u001b[0m \u001b[96m0\u001b[0m 1 2 3 4 5 6 7 8 9 \n",
            "10 11 12 13 14 15 16 17 18 \u001b[93m0\u001b[0m \u001b[93m19\u001b[0m 1 2 3 4 5 6 7 8 9 \n",
            "10 11 12 13 14 15 16 17 \u001b[93m0\u001b[0m \u001b[93m18\u001b[0m 19 1 2 3 4 5 6 7 8 9 \n",
            "10 11 12 13 14 15 16 \u001b[93m0\u001b[0m \u001b[93m17\u001b[0m 18 19 1 2 3 4 5 6 7 8 9 \n",
            "10 11 12 13 14 15 \u001b[93m0\u001b[0m \u001b[93m16\u001b[0m 17 18 19 1 2 3 4 5 6 7 8 9 \n",
            "10 11 12 13 14 \u001b[93m0\u001b[0m \u001b[93m15\u001b[0m 16 17 18 19 1 2 3 4 5 6 7 8 9 \n",
            "10 11 12 13 \u001b[93m0\u001b[0m \u001b[93m14\u001b[0m 15 16 17 18 19 1 2 3 4 5 6 7 8 9 \n",
            "10 11 12 \u001b[93m0\u001b[0m \u001b[93m13\u001b[0m 14 15 16 17 18 19 1 2 3 4 5 6 7 8 9 \n",
            "10 11 \u001b[93m0\u001b[0m \u001b[93m12\u001b[0m 13 14 15 16 17 18 19 1 2 3 4 5 6 7 8 9 \n",
            "10 \u001b[93m0\u001b[0m \u001b[93m11\u001b[0m 12 13 14 15 16 17 18 19 1 2 3 4 5 6 7 8 9 \n",
            "\u001b[93m0\u001b[0m \u001b[93m10\u001b[0m 11 12 13 14 15 16 17 18 19 1 2 3 4 5 6 7 8 9 \n",
            "0 10 11 12 13 14 15 16 17 18 \u001b[96m19\u001b[0m \u001b[96m1\u001b[0m 2 3 4 5 6 7 8 9 \n",
            "0 10 11 12 13 14 15 16 17 18 \u001b[93m1\u001b[0m \u001b[93m19\u001b[0m 2 3 4 5 6 7 8 9 \n",
            "0 10 11 12 13 14 15 16 17 \u001b[93m1\u001b[0m \u001b[93m18\u001b[0m 19 2 3 4 5 6 7 8 9 \n",
            "0 10 11 12 13 14 15 16 \u001b[93m1\u001b[0m \u001b[93m17\u001b[0m 18 19 2 3 4 5 6 7 8 9 \n",
            "0 10 11 12 13 14 15 \u001b[93m1\u001b[0m \u001b[93m16\u001b[0m 17 18 19 2 3 4 5 6 7 8 9 \n",
            "0 10 11 12 13 14 \u001b[93m1\u001b[0m \u001b[93m15\u001b[0m 16 17 18 19 2 3 4 5 6 7 8 9 \n",
            "0 10 11 12 13 \u001b[93m1\u001b[0m \u001b[93m14\u001b[0m 15 16 17 18 19 2 3 4 5 6 7 8 9 \n",
            "0 10 11 12 \u001b[93m1\u001b[0m \u001b[93m13\u001b[0m 14 15 16 17 18 19 2 3 4 5 6 7 8 9 \n",
            "0 10 11 \u001b[93m1\u001b[0m \u001b[93m12\u001b[0m 13 14 15 16 17 18 19 2 3 4 5 6 7 8 9 \n",
            "0 10 \u001b[93m1\u001b[0m \u001b[93m11\u001b[0m 12 13 14 15 16 17 18 19 2 3 4 5 6 7 8 9 \n",
            "0 \u001b[93m1\u001b[0m \u001b[93m10\u001b[0m 11 12 13 14 15 16 17 18 19 2 3 4 5 6 7 8 9 \n",
            "0 1 10 11 12 13 14 15 16 17 18 \u001b[96m19\u001b[0m \u001b[96m2\u001b[0m 3 4 5 6 7 8 9 \n",
            "0 1 10 11 12 13 14 15 16 17 18 \u001b[93m2\u001b[0m \u001b[93m19\u001b[0m 3 4 5 6 7 8 9 \n",
            "0 1 10 11 12 13 14 15 16 17 \u001b[93m2\u001b[0m \u001b[93m18\u001b[0m 19 3 4 5 6 7 8 9 \n",
            "0 1 10 11 12 13 14 15 16 \u001b[93m2\u001b[0m \u001b[93m17\u001b[0m 18 19 3 4 5 6 7 8 9 \n",
            "0 1 10 11 12 13 14 15 \u001b[93m2\u001b[0m \u001b[93m16\u001b[0m 17 18 19 3 4 5 6 7 8 9 \n",
            "0 1 10 11 12 13 14 \u001b[93m2\u001b[0m \u001b[93m15\u001b[0m 16 17 18 19 3 4 5 6 7 8 9 \n",
            "0 1 10 11 12 13 \u001b[93m2\u001b[0m \u001b[93m14\u001b[0m 15 16 17 18 19 3 4 5 6 7 8 9 \n",
            "0 1 10 11 12 \u001b[93m2\u001b[0m \u001b[93m13\u001b[0m 14 15 16 17 18 19 3 4 5 6 7 8 9 \n",
            "0 1 10 11 \u001b[93m2\u001b[0m \u001b[93m12\u001b[0m 13 14 15 16 17 18 19 3 4 5 6 7 8 9 \n",
            "0 1 10 \u001b[93m2\u001b[0m \u001b[93m11\u001b[0m 12 13 14 15 16 17 18 19 3 4 5 6 7 8 9 \n",
            "0 1 \u001b[93m2\u001b[0m \u001b[93m10\u001b[0m 11 12 13 14 15 16 17 18 19 3 4 5 6 7 8 9 \n",
            "0 1 2 10 11 12 13 14 15 16 17 18 \u001b[96m19\u001b[0m \u001b[96m3\u001b[0m 4 5 6 7 8 9 \n",
            "0 1 2 10 11 12 13 14 15 16 17 18 \u001b[93m3\u001b[0m \u001b[93m19\u001b[0m 4 5 6 7 8 9 \n",
            "0 1 2 10 11 12 13 14 15 16 17 \u001b[93m3\u001b[0m \u001b[93m18\u001b[0m 19 4 5 6 7 8 9 \n",
            "0 1 2 10 11 12 13 14 15 16 \u001b[93m3\u001b[0m \u001b[93m17\u001b[0m 18 19 4 5 6 7 8 9 \n",
            "0 1 2 10 11 12 13 14 15 \u001b[93m3\u001b[0m \u001b[93m16\u001b[0m 17 18 19 4 5 6 7 8 9 \n",
            "0 1 2 10 11 12 13 14 \u001b[93m3\u001b[0m \u001b[93m15\u001b[0m 16 17 18 19 4 5 6 7 8 9 \n",
            "0 1 2 10 11 12 13 \u001b[93m3\u001b[0m \u001b[93m14\u001b[0m 15 16 17 18 19 4 5 6 7 8 9 \n",
            "0 1 2 10 11 12 \u001b[93m3\u001b[0m \u001b[93m13\u001b[0m 14 15 16 17 18 19 4 5 6 7 8 9 \n",
            "0 1 2 10 11 \u001b[93m3\u001b[0m \u001b[93m12\u001b[0m 13 14 15 16 17 18 19 4 5 6 7 8 9 \n",
            "0 1 2 10 \u001b[93m3\u001b[0m \u001b[93m11\u001b[0m 12 13 14 15 16 17 18 19 4 5 6 7 8 9 \n",
            "0 1 2 \u001b[93m3\u001b[0m \u001b[93m10\u001b[0m 11 12 13 14 15 16 17 18 19 4 5 6 7 8 9 \n",
            "0 1 2 3 10 11 12 13 14 15 16 17 18 \u001b[96m19\u001b[0m \u001b[96m4\u001b[0m 5 6 7 8 9 \n",
            "0 1 2 3 10 11 12 13 14 15 16 17 18 \u001b[93m4\u001b[0m \u001b[93m19\u001b[0m 5 6 7 8 9 \n",
            "0 1 2 3 10 11 12 13 14 15 16 17 \u001b[93m4\u001b[0m \u001b[93m18\u001b[0m 19 5 6 7 8 9 \n",
            "0 1 2 3 10 11 12 13 14 15 16 \u001b[93m4\u001b[0m \u001b[93m17\u001b[0m 18 19 5 6 7 8 9 \n",
            "0 1 2 3 10 11 12 13 14 15 \u001b[93m4\u001b[0m \u001b[93m16\u001b[0m 17 18 19 5 6 7 8 9 \n",
            "0 1 2 3 10 11 12 13 14 \u001b[93m4\u001b[0m \u001b[93m15\u001b[0m 16 17 18 19 5 6 7 8 9 \n",
            "0 1 2 3 10 11 12 13 \u001b[93m4\u001b[0m \u001b[93m14\u001b[0m 15 16 17 18 19 5 6 7 8 9 \n",
            "0 1 2 3 10 11 12 \u001b[93m4\u001b[0m \u001b[93m13\u001b[0m 14 15 16 17 18 19 5 6 7 8 9 \n",
            "0 1 2 3 10 11 \u001b[93m4\u001b[0m \u001b[93m12\u001b[0m 13 14 15 16 17 18 19 5 6 7 8 9 \n",
            "0 1 2 3 10 \u001b[93m4\u001b[0m \u001b[93m11\u001b[0m 12 13 14 15 16 17 18 19 5 6 7 8 9 \n",
            "0 1 2 3 \u001b[93m4\u001b[0m \u001b[93m10\u001b[0m 11 12 13 14 15 16 17 18 19 5 6 7 8 9 \n",
            "0 1 2 3 4 10 11 12 13 14 15 16 17 18 \u001b[96m19\u001b[0m \u001b[96m5\u001b[0m 6 7 8 9 \n",
            "0 1 2 3 4 10 11 12 13 14 15 16 17 18 \u001b[93m5\u001b[0m \u001b[93m19\u001b[0m 6 7 8 9 \n",
            "0 1 2 3 4 10 11 12 13 14 15 16 17 \u001b[93m5\u001b[0m \u001b[93m18\u001b[0m 19 6 7 8 9 \n",
            "0 1 2 3 4 10 11 12 13 14 15 16 \u001b[93m5\u001b[0m \u001b[93m17\u001b[0m 18 19 6 7 8 9 \n",
            "0 1 2 3 4 10 11 12 13 14 15 \u001b[93m5\u001b[0m \u001b[93m16\u001b[0m 17 18 19 6 7 8 9 \n",
            "0 1 2 3 4 10 11 12 13 14 \u001b[93m5\u001b[0m \u001b[93m15\u001b[0m 16 17 18 19 6 7 8 9 \n",
            "0 1 2 3 4 10 11 12 13 \u001b[93m5\u001b[0m \u001b[93m14\u001b[0m 15 16 17 18 19 6 7 8 9 \n",
            "0 1 2 3 4 10 11 12 \u001b[93m5\u001b[0m \u001b[93m13\u001b[0m 14 15 16 17 18 19 6 7 8 9 \n",
            "0 1 2 3 4 10 11 \u001b[93m5\u001b[0m \u001b[93m12\u001b[0m 13 14 15 16 17 18 19 6 7 8 9 \n",
            "0 1 2 3 4 10 \u001b[93m5\u001b[0m \u001b[93m11\u001b[0m 12 13 14 15 16 17 18 19 6 7 8 9 \n",
            "0 1 2 3 4 \u001b[93m5\u001b[0m \u001b[93m10\u001b[0m 11 12 13 14 15 16 17 18 19 6 7 8 9 \n",
            "0 1 2 3 4 5 10 11 12 13 14 15 16 17 18 \u001b[96m19\u001b[0m \u001b[96m6\u001b[0m 7 8 9 \n",
            "0 1 2 3 4 5 10 11 12 13 14 15 16 17 18 \u001b[93m6\u001b[0m \u001b[93m19\u001b[0m 7 8 9 \n",
            "0 1 2 3 4 5 10 11 12 13 14 15 16 17 \u001b[93m6\u001b[0m \u001b[93m18\u001b[0m 19 7 8 9 \n",
            "0 1 2 3 4 5 10 11 12 13 14 15 16 \u001b[93m6\u001b[0m \u001b[93m17\u001b[0m 18 19 7 8 9 \n",
            "0 1 2 3 4 5 10 11 12 13 14 15 \u001b[93m6\u001b[0m \u001b[93m16\u001b[0m 17 18 19 7 8 9 \n",
            "0 1 2 3 4 5 10 11 12 13 14 \u001b[93m6\u001b[0m \u001b[93m15\u001b[0m 16 17 18 19 7 8 9 \n",
            "0 1 2 3 4 5 10 11 12 13 \u001b[93m6\u001b[0m \u001b[93m14\u001b[0m 15 16 17 18 19 7 8 9 \n",
            "0 1 2 3 4 5 10 11 12 \u001b[93m6\u001b[0m \u001b[93m13\u001b[0m 14 15 16 17 18 19 7 8 9 \n",
            "0 1 2 3 4 5 10 11 \u001b[93m6\u001b[0m \u001b[93m12\u001b[0m 13 14 15 16 17 18 19 7 8 9 \n",
            "0 1 2 3 4 5 10 \u001b[93m6\u001b[0m \u001b[93m11\u001b[0m 12 13 14 15 16 17 18 19 7 8 9 \n",
            "0 1 2 3 4 5 \u001b[93m6\u001b[0m \u001b[93m10\u001b[0m 11 12 13 14 15 16 17 18 19 7 8 9 \n",
            "0 1 2 3 4 5 6 10 11 12 13 14 15 16 17 18 \u001b[96m19\u001b[0m \u001b[96m7\u001b[0m 8 9 \n",
            "0 1 2 3 4 5 6 10 11 12 13 14 15 16 17 18 \u001b[93m7\u001b[0m \u001b[93m19\u001b[0m 8 9 \n",
            "0 1 2 3 4 5 6 10 11 12 13 14 15 16 17 \u001b[93m7\u001b[0m \u001b[93m18\u001b[0m 19 8 9 \n",
            "0 1 2 3 4 5 6 10 11 12 13 14 15 16 \u001b[93m7\u001b[0m \u001b[93m17\u001b[0m 18 19 8 9 \n",
            "0 1 2 3 4 5 6 10 11 12 13 14 15 \u001b[93m7\u001b[0m \u001b[93m16\u001b[0m 17 18 19 8 9 \n",
            "0 1 2 3 4 5 6 10 11 12 13 14 \u001b[93m7\u001b[0m \u001b[93m15\u001b[0m 16 17 18 19 8 9 \n",
            "0 1 2 3 4 5 6 10 11 12 13 \u001b[93m7\u001b[0m \u001b[93m14\u001b[0m 15 16 17 18 19 8 9 \n",
            "0 1 2 3 4 5 6 10 11 12 \u001b[93m7\u001b[0m \u001b[93m13\u001b[0m 14 15 16 17 18 19 8 9 \n",
            "0 1 2 3 4 5 6 10 11 \u001b[93m7\u001b[0m \u001b[93m12\u001b[0m 13 14 15 16 17 18 19 8 9 \n",
            "0 1 2 3 4 5 6 10 \u001b[93m7\u001b[0m \u001b[93m11\u001b[0m 12 13 14 15 16 17 18 19 8 9 \n",
            "0 1 2 3 4 5 6 \u001b[93m7\u001b[0m \u001b[93m10\u001b[0m 11 12 13 14 15 16 17 18 19 8 9 \n",
            "0 1 2 3 4 5 6 7 10 11 12 13 14 15 16 17 18 \u001b[96m19\u001b[0m \u001b[96m8\u001b[0m 9 \n",
            "0 1 2 3 4 5 6 7 10 11 12 13 14 15 16 17 18 \u001b[93m8\u001b[0m \u001b[93m19\u001b[0m 9 \n",
            "0 1 2 3 4 5 6 7 10 11 12 13 14 15 16 17 \u001b[93m8\u001b[0m \u001b[93m18\u001b[0m 19 9 \n",
            "0 1 2 3 4 5 6 7 10 11 12 13 14 15 16 \u001b[93m8\u001b[0m \u001b[93m17\u001b[0m 18 19 9 \n",
            "0 1 2 3 4 5 6 7 10 11 12 13 14 15 \u001b[93m8\u001b[0m \u001b[93m16\u001b[0m 17 18 19 9 \n",
            "0 1 2 3 4 5 6 7 10 11 12 13 14 \u001b[93m8\u001b[0m \u001b[93m15\u001b[0m 16 17 18 19 9 \n",
            "0 1 2 3 4 5 6 7 10 11 12 13 \u001b[93m8\u001b[0m \u001b[93m14\u001b[0m 15 16 17 18 19 9 \n",
            "0 1 2 3 4 5 6 7 10 11 12 \u001b[93m8\u001b[0m \u001b[93m13\u001b[0m 14 15 16 17 18 19 9 \n",
            "0 1 2 3 4 5 6 7 10 11 \u001b[93m8\u001b[0m \u001b[93m12\u001b[0m 13 14 15 16 17 18 19 9 \n",
            "0 1 2 3 4 5 6 7 10 \u001b[93m8\u001b[0m \u001b[93m11\u001b[0m 12 13 14 15 16 17 18 19 9 \n",
            "0 1 2 3 4 5 6 7 \u001b[93m8\u001b[0m \u001b[93m10\u001b[0m 11 12 13 14 15 16 17 18 19 9 \n",
            "0 1 2 3 4 5 6 7 8 10 11 12 13 14 15 16 17 18 \u001b[96m19\u001b[0m \u001b[96m9\u001b[0m \n",
            "0 1 2 3 4 5 6 7 8 10 11 12 13 14 15 16 17 18 \u001b[93m9\u001b[0m \u001b[93m19\u001b[0m \n",
            "0 1 2 3 4 5 6 7 8 10 11 12 13 14 15 16 17 \u001b[93m9\u001b[0m \u001b[93m18\u001b[0m 19 \n",
            "0 1 2 3 4 5 6 7 8 10 11 12 13 14 15 16 \u001b[93m9\u001b[0m \u001b[93m17\u001b[0m 18 19 \n",
            "0 1 2 3 4 5 6 7 8 10 11 12 13 14 15 \u001b[93m9\u001b[0m \u001b[93m16\u001b[0m 17 18 19 \n",
            "0 1 2 3 4 5 6 7 8 10 11 12 13 14 \u001b[93m9\u001b[0m \u001b[93m15\u001b[0m 16 17 18 19 \n",
            "0 1 2 3 4 5 6 7 8 10 11 12 13 \u001b[93m9\u001b[0m \u001b[93m14\u001b[0m 15 16 17 18 19 \n",
            "0 1 2 3 4 5 6 7 8 10 11 12 \u001b[93m9\u001b[0m \u001b[93m13\u001b[0m 14 15 16 17 18 19 \n",
            "0 1 2 3 4 5 6 7 8 10 11 \u001b[93m9\u001b[0m \u001b[93m12\u001b[0m 13 14 15 16 17 18 19 \n",
            "0 1 2 3 4 5 6 7 8 10 \u001b[93m9\u001b[0m \u001b[93m11\u001b[0m 12 13 14 15 16 17 18 19 \n",
            "0 1 2 3 4 5 6 7 8 \u001b[93m9\u001b[0m \u001b[93m10\u001b[0m 11 12 13 14 15 16 17 18 19 \n",
            "testcase #2: Ok\n",
            "testcase #3: [4, 2, 4, 2, 1]\n",
            "\u001b[96m4\u001b[0m \u001b[96m2\u001b[0m 4 2 1 \n",
            "\u001b[93m2\u001b[0m \u001b[93m4\u001b[0m 4 2 1 \n",
            "2 \u001b[96m4\u001b[0m \u001b[96m4\u001b[0m 2 1 \n",
            "2 4 \u001b[96m4\u001b[0m \u001b[96m2\u001b[0m 1 \n",
            "2 4 \u001b[93m2\u001b[0m \u001b[93m4\u001b[0m 1 \n",
            "2 \u001b[93m2\u001b[0m \u001b[93m4\u001b[0m 4 1 \n",
            "2 2 4 \u001b[96m4\u001b[0m \u001b[96m1\u001b[0m \n",
            "2 2 4 \u001b[93m1\u001b[0m \u001b[93m4\u001b[0m \n",
            "2 2 \u001b[93m1\u001b[0m \u001b[93m4\u001b[0m 4 \n",
            "2 \u001b[93m1\u001b[0m \u001b[93m2\u001b[0m 4 4 \n",
            "\u001b[93m1\u001b[0m \u001b[93m2\u001b[0m 2 4 4 \n",
            "testcase #2: Ok\n",
            "Тестируем:   сортировка списка А выбором \n",
            "[4, 2, 5, 1, 3]\n",
            "\u001b[96m4\u001b[0m \u001b[96m2\u001b[0m 5 1 3 \n",
            "\u001b[93m2\u001b[0m \u001b[93m4\u001b[0m 5 1 3 \n",
            "\u001b[96m2\u001b[0m 4 \u001b[96m5\u001b[0m 1 3 \n",
            "\u001b[96m2\u001b[0m 4 5 \u001b[96m1\u001b[0m 3 \n",
            "\u001b[93m1\u001b[0m 4 5 \u001b[93m2\u001b[0m 3 \n",
            "\u001b[96m1\u001b[0m 4 5 2 \u001b[96m3\u001b[0m \n",
            "1 \u001b[96m4\u001b[0m \u001b[96m5\u001b[0m 2 3 \n",
            "1 \u001b[96m4\u001b[0m 5 \u001b[96m2\u001b[0m 3 \n",
            "1 \u001b[93m2\u001b[0m 5 \u001b[93m4\u001b[0m 3 \n",
            "1 \u001b[96m2\u001b[0m 5 4 \u001b[96m3\u001b[0m \n",
            "1 2 \u001b[96m5\u001b[0m \u001b[96m4\u001b[0m 3 \n",
            "1 2 \u001b[93m4\u001b[0m \u001b[93m5\u001b[0m 3 \n",
            "1 2 \u001b[96m4\u001b[0m 5 \u001b[96m3\u001b[0m \n",
            "1 2 \u001b[93m3\u001b[0m 5 \u001b[93m4\u001b[0m \n",
            "1 2 3 \u001b[96m5\u001b[0m \u001b[96m4\u001b[0m \n",
            "1 2 3 \u001b[93m4\u001b[0m \u001b[93m5\u001b[0m \n",
            "testcase #1: Ok\n",
            "[10, 11, 12, 13, 14, 15, 16, 17, 18, 19, 0, 1, 2, 3, 4, 5, 6, 7, 8, 9]\n",
            "\u001b[96m10\u001b[0m \u001b[96m11\u001b[0m 12 13 14 15 16 17 18 19 0 1 2 3 4 5 6 7 8 9 \n",
            "\u001b[96m10\u001b[0m 11 \u001b[96m12\u001b[0m 13 14 15 16 17 18 19 0 1 2 3 4 5 6 7 8 9 \n",
            "\u001b[96m10\u001b[0m 11 12 \u001b[96m13\u001b[0m 14 15 16 17 18 19 0 1 2 3 4 5 6 7 8 9 \n",
            "\u001b[96m10\u001b[0m 11 12 13 \u001b[96m14\u001b[0m 15 16 17 18 19 0 1 2 3 4 5 6 7 8 9 \n",
            "\u001b[96m10\u001b[0m 11 12 13 14 \u001b[96m15\u001b[0m 16 17 18 19 0 1 2 3 4 5 6 7 8 9 \n",
            "\u001b[96m10\u001b[0m 11 12 13 14 15 \u001b[96m16\u001b[0m 17 18 19 0 1 2 3 4 5 6 7 8 9 \n",
            "\u001b[96m10\u001b[0m 11 12 13 14 15 16 \u001b[96m17\u001b[0m 18 19 0 1 2 3 4 5 6 7 8 9 \n",
            "\u001b[96m10\u001b[0m 11 12 13 14 15 16 17 \u001b[96m18\u001b[0m 19 0 1 2 3 4 5 6 7 8 9 \n",
            "\u001b[96m10\u001b[0m 11 12 13 14 15 16 17 18 \u001b[96m19\u001b[0m 0 1 2 3 4 5 6 7 8 9 \n",
            "\u001b[96m10\u001b[0m 11 12 13 14 15 16 17 18 19 \u001b[96m0\u001b[0m 1 2 3 4 5 6 7 8 9 \n",
            "\u001b[93m0\u001b[0m 11 12 13 14 15 16 17 18 19 \u001b[93m10\u001b[0m 1 2 3 4 5 6 7 8 9 \n",
            "\u001b[96m0\u001b[0m 11 12 13 14 15 16 17 18 19 10 \u001b[96m1\u001b[0m 2 3 4 5 6 7 8 9 \n",
            "\u001b[96m0\u001b[0m 11 12 13 14 15 16 17 18 19 10 1 \u001b[96m2\u001b[0m 3 4 5 6 7 8 9 \n",
            "\u001b[96m0\u001b[0m 11 12 13 14 15 16 17 18 19 10 1 2 \u001b[96m3\u001b[0m 4 5 6 7 8 9 \n",
            "\u001b[96m0\u001b[0m 11 12 13 14 15 16 17 18 19 10 1 2 3 \u001b[96m4\u001b[0m 5 6 7 8 9 \n",
            "\u001b[96m0\u001b[0m 11 12 13 14 15 16 17 18 19 10 1 2 3 4 \u001b[96m5\u001b[0m 6 7 8 9 \n",
            "\u001b[96m0\u001b[0m 11 12 13 14 15 16 17 18 19 10 1 2 3 4 5 \u001b[96m6\u001b[0m 7 8 9 \n",
            "\u001b[96m0\u001b[0m 11 12 13 14 15 16 17 18 19 10 1 2 3 4 5 6 \u001b[96m7\u001b[0m 8 9 \n",
            "\u001b[96m0\u001b[0m 11 12 13 14 15 16 17 18 19 10 1 2 3 4 5 6 7 \u001b[96m8\u001b[0m 9 \n",
            "\u001b[96m0\u001b[0m 11 12 13 14 15 16 17 18 19 10 1 2 3 4 5 6 7 8 \u001b[96m9\u001b[0m \n",
            "0 \u001b[96m11\u001b[0m \u001b[96m12\u001b[0m 13 14 15 16 17 18 19 10 1 2 3 4 5 6 7 8 9 \n",
            "0 \u001b[96m11\u001b[0m 12 \u001b[96m13\u001b[0m 14 15 16 17 18 19 10 1 2 3 4 5 6 7 8 9 \n",
            "0 \u001b[96m11\u001b[0m 12 13 \u001b[96m14\u001b[0m 15 16 17 18 19 10 1 2 3 4 5 6 7 8 9 \n",
            "0 \u001b[96m11\u001b[0m 12 13 14 \u001b[96m15\u001b[0m 16 17 18 19 10 1 2 3 4 5 6 7 8 9 \n",
            "0 \u001b[96m11\u001b[0m 12 13 14 15 \u001b[96m16\u001b[0m 17 18 19 10 1 2 3 4 5 6 7 8 9 \n",
            "0 \u001b[96m11\u001b[0m 12 13 14 15 16 \u001b[96m17\u001b[0m 18 19 10 1 2 3 4 5 6 7 8 9 \n",
            "0 \u001b[96m11\u001b[0m 12 13 14 15 16 17 \u001b[96m18\u001b[0m 19 10 1 2 3 4 5 6 7 8 9 \n",
            "0 \u001b[96m11\u001b[0m 12 13 14 15 16 17 18 \u001b[96m19\u001b[0m 10 1 2 3 4 5 6 7 8 9 \n",
            "0 \u001b[96m11\u001b[0m 12 13 14 15 16 17 18 19 \u001b[96m10\u001b[0m 1 2 3 4 5 6 7 8 9 \n",
            "0 \u001b[93m10\u001b[0m 12 13 14 15 16 17 18 19 \u001b[93m11\u001b[0m 1 2 3 4 5 6 7 8 9 \n",
            "0 \u001b[96m10\u001b[0m 12 13 14 15 16 17 18 19 11 \u001b[96m1\u001b[0m 2 3 4 5 6 7 8 9 \n",
            "0 \u001b[93m1\u001b[0m 12 13 14 15 16 17 18 19 11 \u001b[93m10\u001b[0m 2 3 4 5 6 7 8 9 \n",
            "0 \u001b[96m1\u001b[0m 12 13 14 15 16 17 18 19 11 10 \u001b[96m2\u001b[0m 3 4 5 6 7 8 9 \n",
            "0 \u001b[96m1\u001b[0m 12 13 14 15 16 17 18 19 11 10 2 \u001b[96m3\u001b[0m 4 5 6 7 8 9 \n",
            "0 \u001b[96m1\u001b[0m 12 13 14 15 16 17 18 19 11 10 2 3 \u001b[96m4\u001b[0m 5 6 7 8 9 \n",
            "0 \u001b[96m1\u001b[0m 12 13 14 15 16 17 18 19 11 10 2 3 4 \u001b[96m5\u001b[0m 6 7 8 9 \n",
            "0 \u001b[96m1\u001b[0m 12 13 14 15 16 17 18 19 11 10 2 3 4 5 \u001b[96m6\u001b[0m 7 8 9 \n",
            "0 \u001b[96m1\u001b[0m 12 13 14 15 16 17 18 19 11 10 2 3 4 5 6 \u001b[96m7\u001b[0m 8 9 \n",
            "0 \u001b[96m1\u001b[0m 12 13 14 15 16 17 18 19 11 10 2 3 4 5 6 7 \u001b[96m8\u001b[0m 9 \n",
            "0 \u001b[96m1\u001b[0m 12 13 14 15 16 17 18 19 11 10 2 3 4 5 6 7 8 \u001b[96m9\u001b[0m \n",
            "0 1 \u001b[96m12\u001b[0m \u001b[96m13\u001b[0m 14 15 16 17 18 19 11 10 2 3 4 5 6 7 8 9 \n",
            "0 1 \u001b[96m12\u001b[0m 13 \u001b[96m14\u001b[0m 15 16 17 18 19 11 10 2 3 4 5 6 7 8 9 \n",
            "0 1 \u001b[96m12\u001b[0m 13 14 \u001b[96m15\u001b[0m 16 17 18 19 11 10 2 3 4 5 6 7 8 9 \n",
            "0 1 \u001b[96m12\u001b[0m 13 14 15 \u001b[96m16\u001b[0m 17 18 19 11 10 2 3 4 5 6 7 8 9 \n",
            "0 1 \u001b[96m12\u001b[0m 13 14 15 16 \u001b[96m17\u001b[0m 18 19 11 10 2 3 4 5 6 7 8 9 \n",
            "0 1 \u001b[96m12\u001b[0m 13 14 15 16 17 \u001b[96m18\u001b[0m 19 11 10 2 3 4 5 6 7 8 9 \n",
            "0 1 \u001b[96m12\u001b[0m 13 14 15 16 17 18 \u001b[96m19\u001b[0m 11 10 2 3 4 5 6 7 8 9 \n",
            "0 1 \u001b[96m12\u001b[0m 13 14 15 16 17 18 19 \u001b[96m11\u001b[0m 10 2 3 4 5 6 7 8 9 \n",
            "0 1 \u001b[93m11\u001b[0m 13 14 15 16 17 18 19 \u001b[93m12\u001b[0m 10 2 3 4 5 6 7 8 9 \n",
            "0 1 \u001b[96m11\u001b[0m 13 14 15 16 17 18 19 12 \u001b[96m10\u001b[0m 2 3 4 5 6 7 8 9 \n",
            "0 1 \u001b[93m10\u001b[0m 13 14 15 16 17 18 19 12 \u001b[93m11\u001b[0m 2 3 4 5 6 7 8 9 \n",
            "0 1 \u001b[96m10\u001b[0m 13 14 15 16 17 18 19 12 11 \u001b[96m2\u001b[0m 3 4 5 6 7 8 9 \n",
            "0 1 \u001b[93m2\u001b[0m 13 14 15 16 17 18 19 12 11 \u001b[93m10\u001b[0m 3 4 5 6 7 8 9 \n",
            "0 1 \u001b[96m2\u001b[0m 13 14 15 16 17 18 19 12 11 10 \u001b[96m3\u001b[0m 4 5 6 7 8 9 \n",
            "0 1 \u001b[96m2\u001b[0m 13 14 15 16 17 18 19 12 11 10 3 \u001b[96m4\u001b[0m 5 6 7 8 9 \n",
            "0 1 \u001b[96m2\u001b[0m 13 14 15 16 17 18 19 12 11 10 3 4 \u001b[96m5\u001b[0m 6 7 8 9 \n",
            "0 1 \u001b[96m2\u001b[0m 13 14 15 16 17 18 19 12 11 10 3 4 5 \u001b[96m6\u001b[0m 7 8 9 \n",
            "0 1 \u001b[96m2\u001b[0m 13 14 15 16 17 18 19 12 11 10 3 4 5 6 \u001b[96m7\u001b[0m 8 9 \n",
            "0 1 \u001b[96m2\u001b[0m 13 14 15 16 17 18 19 12 11 10 3 4 5 6 7 \u001b[96m8\u001b[0m 9 \n",
            "0 1 \u001b[96m2\u001b[0m 13 14 15 16 17 18 19 12 11 10 3 4 5 6 7 8 \u001b[96m9\u001b[0m \n",
            "0 1 2 \u001b[96m13\u001b[0m \u001b[96m14\u001b[0m 15 16 17 18 19 12 11 10 3 4 5 6 7 8 9 \n",
            "0 1 2 \u001b[96m13\u001b[0m 14 \u001b[96m15\u001b[0m 16 17 18 19 12 11 10 3 4 5 6 7 8 9 \n",
            "0 1 2 \u001b[96m13\u001b[0m 14 15 \u001b[96m16\u001b[0m 17 18 19 12 11 10 3 4 5 6 7 8 9 \n",
            "0 1 2 \u001b[96m13\u001b[0m 14 15 16 \u001b[96m17\u001b[0m 18 19 12 11 10 3 4 5 6 7 8 9 \n",
            "0 1 2 \u001b[96m13\u001b[0m 14 15 16 17 \u001b[96m18\u001b[0m 19 12 11 10 3 4 5 6 7 8 9 \n",
            "0 1 2 \u001b[96m13\u001b[0m 14 15 16 17 18 \u001b[96m19\u001b[0m 12 11 10 3 4 5 6 7 8 9 \n",
            "0 1 2 \u001b[96m13\u001b[0m 14 15 16 17 18 19 \u001b[96m12\u001b[0m 11 10 3 4 5 6 7 8 9 \n",
            "0 1 2 \u001b[93m12\u001b[0m 14 15 16 17 18 19 \u001b[93m13\u001b[0m 11 10 3 4 5 6 7 8 9 \n",
            "0 1 2 \u001b[96m12\u001b[0m 14 15 16 17 18 19 13 \u001b[96m11\u001b[0m 10 3 4 5 6 7 8 9 \n",
            "0 1 2 \u001b[93m11\u001b[0m 14 15 16 17 18 19 13 \u001b[93m12\u001b[0m 10 3 4 5 6 7 8 9 \n",
            "0 1 2 \u001b[96m11\u001b[0m 14 15 16 17 18 19 13 12 \u001b[96m10\u001b[0m 3 4 5 6 7 8 9 \n",
            "0 1 2 \u001b[93m10\u001b[0m 14 15 16 17 18 19 13 12 \u001b[93m11\u001b[0m 3 4 5 6 7 8 9 \n",
            "0 1 2 \u001b[96m10\u001b[0m 14 15 16 17 18 19 13 12 11 \u001b[96m3\u001b[0m 4 5 6 7 8 9 \n",
            "0 1 2 \u001b[93m3\u001b[0m 14 15 16 17 18 19 13 12 11 \u001b[93m10\u001b[0m 4 5 6 7 8 9 \n",
            "0 1 2 \u001b[96m3\u001b[0m 14 15 16 17 18 19 13 12 11 10 \u001b[96m4\u001b[0m 5 6 7 8 9 \n",
            "0 1 2 \u001b[96m3\u001b[0m 14 15 16 17 18 19 13 12 11 10 4 \u001b[96m5\u001b[0m 6 7 8 9 \n",
            "0 1 2 \u001b[96m3\u001b[0m 14 15 16 17 18 19 13 12 11 10 4 5 \u001b[96m6\u001b[0m 7 8 9 \n",
            "0 1 2 \u001b[96m3\u001b[0m 14 15 16 17 18 19 13 12 11 10 4 5 6 \u001b[96m7\u001b[0m 8 9 \n",
            "0 1 2 \u001b[96m3\u001b[0m 14 15 16 17 18 19 13 12 11 10 4 5 6 7 \u001b[96m8\u001b[0m 9 \n",
            "0 1 2 \u001b[96m3\u001b[0m 14 15 16 17 18 19 13 12 11 10 4 5 6 7 8 \u001b[96m9\u001b[0m \n",
            "0 1 2 3 \u001b[96m14\u001b[0m \u001b[96m15\u001b[0m 16 17 18 19 13 12 11 10 4 5 6 7 8 9 \n",
            "0 1 2 3 \u001b[96m14\u001b[0m 15 \u001b[96m16\u001b[0m 17 18 19 13 12 11 10 4 5 6 7 8 9 \n",
            "0 1 2 3 \u001b[96m14\u001b[0m 15 16 \u001b[96m17\u001b[0m 18 19 13 12 11 10 4 5 6 7 8 9 \n",
            "0 1 2 3 \u001b[96m14\u001b[0m 15 16 17 \u001b[96m18\u001b[0m 19 13 12 11 10 4 5 6 7 8 9 \n",
            "0 1 2 3 \u001b[96m14\u001b[0m 15 16 17 18 \u001b[96m19\u001b[0m 13 12 11 10 4 5 6 7 8 9 \n",
            "0 1 2 3 \u001b[96m14\u001b[0m 15 16 17 18 19 \u001b[96m13\u001b[0m 12 11 10 4 5 6 7 8 9 \n",
            "0 1 2 3 \u001b[93m13\u001b[0m 15 16 17 18 19 \u001b[93m14\u001b[0m 12 11 10 4 5 6 7 8 9 \n",
            "0 1 2 3 \u001b[96m13\u001b[0m 15 16 17 18 19 14 \u001b[96m12\u001b[0m 11 10 4 5 6 7 8 9 \n",
            "0 1 2 3 \u001b[93m12\u001b[0m 15 16 17 18 19 14 \u001b[93m13\u001b[0m 11 10 4 5 6 7 8 9 \n",
            "0 1 2 3 \u001b[96m12\u001b[0m 15 16 17 18 19 14 13 \u001b[96m11\u001b[0m 10 4 5 6 7 8 9 \n",
            "0 1 2 3 \u001b[93m11\u001b[0m 15 16 17 18 19 14 13 \u001b[93m12\u001b[0m 10 4 5 6 7 8 9 \n",
            "0 1 2 3 \u001b[96m11\u001b[0m 15 16 17 18 19 14 13 12 \u001b[96m10\u001b[0m 4 5 6 7 8 9 \n",
            "0 1 2 3 \u001b[93m10\u001b[0m 15 16 17 18 19 14 13 12 \u001b[93m11\u001b[0m 4 5 6 7 8 9 \n",
            "0 1 2 3 \u001b[96m10\u001b[0m 15 16 17 18 19 14 13 12 11 \u001b[96m4\u001b[0m 5 6 7 8 9 \n",
            "0 1 2 3 \u001b[93m4\u001b[0m 15 16 17 18 19 14 13 12 11 \u001b[93m10\u001b[0m 5 6 7 8 9 \n",
            "0 1 2 3 \u001b[96m4\u001b[0m 15 16 17 18 19 14 13 12 11 10 \u001b[96m5\u001b[0m 6 7 8 9 \n",
            "0 1 2 3 \u001b[96m4\u001b[0m 15 16 17 18 19 14 13 12 11 10 5 \u001b[96m6\u001b[0m 7 8 9 \n",
            "0 1 2 3 \u001b[96m4\u001b[0m 15 16 17 18 19 14 13 12 11 10 5 6 \u001b[96m7\u001b[0m 8 9 \n",
            "0 1 2 3 \u001b[96m4\u001b[0m 15 16 17 18 19 14 13 12 11 10 5 6 7 \u001b[96m8\u001b[0m 9 \n",
            "0 1 2 3 \u001b[96m4\u001b[0m 15 16 17 18 19 14 13 12 11 10 5 6 7 8 \u001b[96m9\u001b[0m \n",
            "0 1 2 3 4 \u001b[96m15\u001b[0m \u001b[96m16\u001b[0m 17 18 19 14 13 12 11 10 5 6 7 8 9 \n",
            "0 1 2 3 4 \u001b[96m15\u001b[0m 16 \u001b[96m17\u001b[0m 18 19 14 13 12 11 10 5 6 7 8 9 \n",
            "0 1 2 3 4 \u001b[96m15\u001b[0m 16 17 \u001b[96m18\u001b[0m 19 14 13 12 11 10 5 6 7 8 9 \n",
            "0 1 2 3 4 \u001b[96m15\u001b[0m 16 17 18 \u001b[96m19\u001b[0m 14 13 12 11 10 5 6 7 8 9 \n",
            "0 1 2 3 4 \u001b[96m15\u001b[0m 16 17 18 19 \u001b[96m14\u001b[0m 13 12 11 10 5 6 7 8 9 \n",
            "0 1 2 3 4 \u001b[93m14\u001b[0m 16 17 18 19 \u001b[93m15\u001b[0m 13 12 11 10 5 6 7 8 9 \n",
            "0 1 2 3 4 \u001b[96m14\u001b[0m 16 17 18 19 15 \u001b[96m13\u001b[0m 12 11 10 5 6 7 8 9 \n",
            "0 1 2 3 4 \u001b[93m13\u001b[0m 16 17 18 19 15 \u001b[93m14\u001b[0m 12 11 10 5 6 7 8 9 \n",
            "0 1 2 3 4 \u001b[96m13\u001b[0m 16 17 18 19 15 14 \u001b[96m12\u001b[0m 11 10 5 6 7 8 9 \n",
            "0 1 2 3 4 \u001b[93m12\u001b[0m 16 17 18 19 15 14 \u001b[93m13\u001b[0m 11 10 5 6 7 8 9 \n",
            "0 1 2 3 4 \u001b[96m12\u001b[0m 16 17 18 19 15 14 13 \u001b[96m11\u001b[0m 10 5 6 7 8 9 \n",
            "0 1 2 3 4 \u001b[93m11\u001b[0m 16 17 18 19 15 14 13 \u001b[93m12\u001b[0m 10 5 6 7 8 9 \n",
            "0 1 2 3 4 \u001b[96m11\u001b[0m 16 17 18 19 15 14 13 12 \u001b[96m10\u001b[0m 5 6 7 8 9 \n",
            "0 1 2 3 4 \u001b[93m10\u001b[0m 16 17 18 19 15 14 13 12 \u001b[93m11\u001b[0m 5 6 7 8 9 \n",
            "0 1 2 3 4 \u001b[96m10\u001b[0m 16 17 18 19 15 14 13 12 11 \u001b[96m5\u001b[0m 6 7 8 9 \n",
            "0 1 2 3 4 \u001b[93m5\u001b[0m 16 17 18 19 15 14 13 12 11 \u001b[93m10\u001b[0m 6 7 8 9 \n",
            "0 1 2 3 4 \u001b[96m5\u001b[0m 16 17 18 19 15 14 13 12 11 10 \u001b[96m6\u001b[0m 7 8 9 \n",
            "0 1 2 3 4 \u001b[96m5\u001b[0m 16 17 18 19 15 14 13 12 11 10 6 \u001b[96m7\u001b[0m 8 9 \n",
            "0 1 2 3 4 \u001b[96m5\u001b[0m 16 17 18 19 15 14 13 12 11 10 6 7 \u001b[96m8\u001b[0m 9 \n",
            "0 1 2 3 4 \u001b[96m5\u001b[0m 16 17 18 19 15 14 13 12 11 10 6 7 8 \u001b[96m9\u001b[0m \n",
            "0 1 2 3 4 5 \u001b[96m16\u001b[0m \u001b[96m17\u001b[0m 18 19 15 14 13 12 11 10 6 7 8 9 \n",
            "0 1 2 3 4 5 \u001b[96m16\u001b[0m 17 \u001b[96m18\u001b[0m 19 15 14 13 12 11 10 6 7 8 9 \n",
            "0 1 2 3 4 5 \u001b[96m16\u001b[0m 17 18 \u001b[96m19\u001b[0m 15 14 13 12 11 10 6 7 8 9 \n",
            "0 1 2 3 4 5 \u001b[96m16\u001b[0m 17 18 19 \u001b[96m15\u001b[0m 14 13 12 11 10 6 7 8 9 \n",
            "0 1 2 3 4 5 \u001b[93m15\u001b[0m 17 18 19 \u001b[93m16\u001b[0m 14 13 12 11 10 6 7 8 9 \n",
            "0 1 2 3 4 5 \u001b[96m15\u001b[0m 17 18 19 16 \u001b[96m14\u001b[0m 13 12 11 10 6 7 8 9 \n",
            "0 1 2 3 4 5 \u001b[93m14\u001b[0m 17 18 19 16 \u001b[93m15\u001b[0m 13 12 11 10 6 7 8 9 \n",
            "0 1 2 3 4 5 \u001b[96m14\u001b[0m 17 18 19 16 15 \u001b[96m13\u001b[0m 12 11 10 6 7 8 9 \n",
            "0 1 2 3 4 5 \u001b[93m13\u001b[0m 17 18 19 16 15 \u001b[93m14\u001b[0m 12 11 10 6 7 8 9 \n",
            "0 1 2 3 4 5 \u001b[96m13\u001b[0m 17 18 19 16 15 14 \u001b[96m12\u001b[0m 11 10 6 7 8 9 \n",
            "0 1 2 3 4 5 \u001b[93m12\u001b[0m 17 18 19 16 15 14 \u001b[93m13\u001b[0m 11 10 6 7 8 9 \n",
            "0 1 2 3 4 5 \u001b[96m12\u001b[0m 17 18 19 16 15 14 13 \u001b[96m11\u001b[0m 10 6 7 8 9 \n",
            "0 1 2 3 4 5 \u001b[93m11\u001b[0m 17 18 19 16 15 14 13 \u001b[93m12\u001b[0m 10 6 7 8 9 \n",
            "0 1 2 3 4 5 \u001b[96m11\u001b[0m 17 18 19 16 15 14 13 12 \u001b[96m10\u001b[0m 6 7 8 9 \n",
            "0 1 2 3 4 5 \u001b[93m10\u001b[0m 17 18 19 16 15 14 13 12 \u001b[93m11\u001b[0m 6 7 8 9 \n",
            "0 1 2 3 4 5 \u001b[96m10\u001b[0m 17 18 19 16 15 14 13 12 11 \u001b[96m6\u001b[0m 7 8 9 \n",
            "0 1 2 3 4 5 \u001b[93m6\u001b[0m 17 18 19 16 15 14 13 12 11 \u001b[93m10\u001b[0m 7 8 9 \n",
            "0 1 2 3 4 5 \u001b[96m6\u001b[0m 17 18 19 16 15 14 13 12 11 10 \u001b[96m7\u001b[0m 8 9 \n",
            "0 1 2 3 4 5 \u001b[96m6\u001b[0m 17 18 19 16 15 14 13 12 11 10 7 \u001b[96m8\u001b[0m 9 \n",
            "0 1 2 3 4 5 \u001b[96m6\u001b[0m 17 18 19 16 15 14 13 12 11 10 7 8 \u001b[96m9\u001b[0m \n",
            "0 1 2 3 4 5 6 \u001b[96m17\u001b[0m \u001b[96m18\u001b[0m 19 16 15 14 13 12 11 10 7 8 9 \n",
            "0 1 2 3 4 5 6 \u001b[96m17\u001b[0m 18 \u001b[96m19\u001b[0m 16 15 14 13 12 11 10 7 8 9 \n",
            "0 1 2 3 4 5 6 \u001b[96m17\u001b[0m 18 19 \u001b[96m16\u001b[0m 15 14 13 12 11 10 7 8 9 \n",
            "0 1 2 3 4 5 6 \u001b[93m16\u001b[0m 18 19 \u001b[93m17\u001b[0m 15 14 13 12 11 10 7 8 9 \n",
            "0 1 2 3 4 5 6 \u001b[96m16\u001b[0m 18 19 17 \u001b[96m15\u001b[0m 14 13 12 11 10 7 8 9 \n",
            "0 1 2 3 4 5 6 \u001b[93m15\u001b[0m 18 19 17 \u001b[93m16\u001b[0m 14 13 12 11 10 7 8 9 \n",
            "0 1 2 3 4 5 6 \u001b[96m15\u001b[0m 18 19 17 16 \u001b[96m14\u001b[0m 13 12 11 10 7 8 9 \n",
            "0 1 2 3 4 5 6 \u001b[93m14\u001b[0m 18 19 17 16 \u001b[93m15\u001b[0m 13 12 11 10 7 8 9 \n",
            "0 1 2 3 4 5 6 \u001b[96m14\u001b[0m 18 19 17 16 15 \u001b[96m13\u001b[0m 12 11 10 7 8 9 \n",
            "0 1 2 3 4 5 6 \u001b[93m13\u001b[0m 18 19 17 16 15 \u001b[93m14\u001b[0m 12 11 10 7 8 9 \n",
            "0 1 2 3 4 5 6 \u001b[96m13\u001b[0m 18 19 17 16 15 14 \u001b[96m12\u001b[0m 11 10 7 8 9 \n",
            "0 1 2 3 4 5 6 \u001b[93m12\u001b[0m 18 19 17 16 15 14 \u001b[93m13\u001b[0m 11 10 7 8 9 \n",
            "0 1 2 3 4 5 6 \u001b[96m12\u001b[0m 18 19 17 16 15 14 13 \u001b[96m11\u001b[0m 10 7 8 9 \n",
            "0 1 2 3 4 5 6 \u001b[93m11\u001b[0m 18 19 17 16 15 14 13 \u001b[93m12\u001b[0m 10 7 8 9 \n",
            "0 1 2 3 4 5 6 \u001b[96m11\u001b[0m 18 19 17 16 15 14 13 12 \u001b[96m10\u001b[0m 7 8 9 \n",
            "0 1 2 3 4 5 6 \u001b[93m10\u001b[0m 18 19 17 16 15 14 13 12 \u001b[93m11\u001b[0m 7 8 9 \n",
            "0 1 2 3 4 5 6 \u001b[96m10\u001b[0m 18 19 17 16 15 14 13 12 11 \u001b[96m7\u001b[0m 8 9 \n",
            "0 1 2 3 4 5 6 \u001b[93m7\u001b[0m 18 19 17 16 15 14 13 12 11 \u001b[93m10\u001b[0m 8 9 \n",
            "0 1 2 3 4 5 6 \u001b[96m7\u001b[0m 18 19 17 16 15 14 13 12 11 10 \u001b[96m8\u001b[0m 9 \n",
            "0 1 2 3 4 5 6 \u001b[96m7\u001b[0m 18 19 17 16 15 14 13 12 11 10 8 \u001b[96m9\u001b[0m \n",
            "0 1 2 3 4 5 6 7 \u001b[96m18\u001b[0m \u001b[96m19\u001b[0m 17 16 15 14 13 12 11 10 8 9 \n",
            "0 1 2 3 4 5 6 7 \u001b[96m18\u001b[0m 19 \u001b[96m17\u001b[0m 16 15 14 13 12 11 10 8 9 \n",
            "0 1 2 3 4 5 6 7 \u001b[93m17\u001b[0m 19 \u001b[93m18\u001b[0m 16 15 14 13 12 11 10 8 9 \n",
            "0 1 2 3 4 5 6 7 \u001b[96m17\u001b[0m 19 18 \u001b[96m16\u001b[0m 15 14 13 12 11 10 8 9 \n",
            "0 1 2 3 4 5 6 7 \u001b[93m16\u001b[0m 19 18 \u001b[93m17\u001b[0m 15 14 13 12 11 10 8 9 \n",
            "0 1 2 3 4 5 6 7 \u001b[96m16\u001b[0m 19 18 17 \u001b[96m15\u001b[0m 14 13 12 11 10 8 9 \n",
            "0 1 2 3 4 5 6 7 \u001b[93m15\u001b[0m 19 18 17 \u001b[93m16\u001b[0m 14 13 12 11 10 8 9 \n",
            "0 1 2 3 4 5 6 7 \u001b[96m15\u001b[0m 19 18 17 16 \u001b[96m14\u001b[0m 13 12 11 10 8 9 \n",
            "0 1 2 3 4 5 6 7 \u001b[93m14\u001b[0m 19 18 17 16 \u001b[93m15\u001b[0m 13 12 11 10 8 9 \n",
            "0 1 2 3 4 5 6 7 \u001b[96m14\u001b[0m 19 18 17 16 15 \u001b[96m13\u001b[0m 12 11 10 8 9 \n",
            "0 1 2 3 4 5 6 7 \u001b[93m13\u001b[0m 19 18 17 16 15 \u001b[93m14\u001b[0m 12 11 10 8 9 \n",
            "0 1 2 3 4 5 6 7 \u001b[96m13\u001b[0m 19 18 17 16 15 14 \u001b[96m12\u001b[0m 11 10 8 9 \n",
            "0 1 2 3 4 5 6 7 \u001b[93m12\u001b[0m 19 18 17 16 15 14 \u001b[93m13\u001b[0m 11 10 8 9 \n",
            "0 1 2 3 4 5 6 7 \u001b[96m12\u001b[0m 19 18 17 16 15 14 13 \u001b[96m11\u001b[0m 10 8 9 \n",
            "0 1 2 3 4 5 6 7 \u001b[93m11\u001b[0m 19 18 17 16 15 14 13 \u001b[93m12\u001b[0m 10 8 9 \n",
            "0 1 2 3 4 5 6 7 \u001b[96m11\u001b[0m 19 18 17 16 15 14 13 12 \u001b[96m10\u001b[0m 8 9 \n",
            "0 1 2 3 4 5 6 7 \u001b[93m10\u001b[0m 19 18 17 16 15 14 13 12 \u001b[93m11\u001b[0m 8 9 \n",
            "0 1 2 3 4 5 6 7 \u001b[96m10\u001b[0m 19 18 17 16 15 14 13 12 11 \u001b[96m8\u001b[0m 9 \n",
            "0 1 2 3 4 5 6 7 \u001b[93m8\u001b[0m 19 18 17 16 15 14 13 12 11 \u001b[93m10\u001b[0m 9 \n",
            "0 1 2 3 4 5 6 7 \u001b[96m8\u001b[0m 19 18 17 16 15 14 13 12 11 10 \u001b[96m9\u001b[0m \n",
            "0 1 2 3 4 5 6 7 8 \u001b[96m19\u001b[0m \u001b[96m18\u001b[0m 17 16 15 14 13 12 11 10 9 \n",
            "0 1 2 3 4 5 6 7 8 \u001b[93m18\u001b[0m \u001b[93m19\u001b[0m 17 16 15 14 13 12 11 10 9 \n",
            "0 1 2 3 4 5 6 7 8 \u001b[96m18\u001b[0m 19 \u001b[96m17\u001b[0m 16 15 14 13 12 11 10 9 \n",
            "0 1 2 3 4 5 6 7 8 \u001b[93m17\u001b[0m 19 \u001b[93m18\u001b[0m 16 15 14 13 12 11 10 9 \n",
            "0 1 2 3 4 5 6 7 8 \u001b[96m17\u001b[0m 19 18 \u001b[96m16\u001b[0m 15 14 13 12 11 10 9 \n",
            "0 1 2 3 4 5 6 7 8 \u001b[93m16\u001b[0m 19 18 \u001b[93m17\u001b[0m 15 14 13 12 11 10 9 \n",
            "0 1 2 3 4 5 6 7 8 \u001b[96m16\u001b[0m 19 18 17 \u001b[96m15\u001b[0m 14 13 12 11 10 9 \n",
            "0 1 2 3 4 5 6 7 8 \u001b[93m15\u001b[0m 19 18 17 \u001b[93m16\u001b[0m 14 13 12 11 10 9 \n",
            "0 1 2 3 4 5 6 7 8 \u001b[96m15\u001b[0m 19 18 17 16 \u001b[96m14\u001b[0m 13 12 11 10 9 \n",
            "0 1 2 3 4 5 6 7 8 \u001b[93m14\u001b[0m 19 18 17 16 \u001b[93m15\u001b[0m 13 12 11 10 9 \n",
            "0 1 2 3 4 5 6 7 8 \u001b[96m14\u001b[0m 19 18 17 16 15 \u001b[96m13\u001b[0m 12 11 10 9 \n",
            "0 1 2 3 4 5 6 7 8 \u001b[93m13\u001b[0m 19 18 17 16 15 \u001b[93m14\u001b[0m 12 11 10 9 \n",
            "0 1 2 3 4 5 6 7 8 \u001b[96m13\u001b[0m 19 18 17 16 15 14 \u001b[96m12\u001b[0m 11 10 9 \n",
            "0 1 2 3 4 5 6 7 8 \u001b[93m12\u001b[0m 19 18 17 16 15 14 \u001b[93m13\u001b[0m 11 10 9 \n",
            "0 1 2 3 4 5 6 7 8 \u001b[96m12\u001b[0m 19 18 17 16 15 14 13 \u001b[96m11\u001b[0m 10 9 \n",
            "0 1 2 3 4 5 6 7 8 \u001b[93m11\u001b[0m 19 18 17 16 15 14 13 \u001b[93m12\u001b[0m 10 9 \n",
            "0 1 2 3 4 5 6 7 8 \u001b[96m11\u001b[0m 19 18 17 16 15 14 13 12 \u001b[96m10\u001b[0m 9 \n",
            "0 1 2 3 4 5 6 7 8 \u001b[93m10\u001b[0m 19 18 17 16 15 14 13 12 \u001b[93m11\u001b[0m 9 \n",
            "0 1 2 3 4 5 6 7 8 \u001b[96m10\u001b[0m 19 18 17 16 15 14 13 12 11 \u001b[96m9\u001b[0m \n",
            "0 1 2 3 4 5 6 7 8 \u001b[93m9\u001b[0m 19 18 17 16 15 14 13 12 11 \u001b[93m10\u001b[0m \n",
            "0 1 2 3 4 5 6 7 8 9 \u001b[96m19\u001b[0m \u001b[96m18\u001b[0m 17 16 15 14 13 12 11 10 \n",
            "0 1 2 3 4 5 6 7 8 9 \u001b[93m18\u001b[0m \u001b[93m19\u001b[0m 17 16 15 14 13 12 11 10 \n",
            "0 1 2 3 4 5 6 7 8 9 \u001b[96m18\u001b[0m 19 \u001b[96m17\u001b[0m 16 15 14 13 12 11 10 \n",
            "0 1 2 3 4 5 6 7 8 9 \u001b[93m17\u001b[0m 19 \u001b[93m18\u001b[0m 16 15 14 13 12 11 10 \n",
            "0 1 2 3 4 5 6 7 8 9 \u001b[96m17\u001b[0m 19 18 \u001b[96m16\u001b[0m 15 14 13 12 11 10 \n",
            "0 1 2 3 4 5 6 7 8 9 \u001b[93m16\u001b[0m 19 18 \u001b[93m17\u001b[0m 15 14 13 12 11 10 \n",
            "0 1 2 3 4 5 6 7 8 9 \u001b[96m16\u001b[0m 19 18 17 \u001b[96m15\u001b[0m 14 13 12 11 10 \n",
            "0 1 2 3 4 5 6 7 8 9 \u001b[93m15\u001b[0m 19 18 17 \u001b[93m16\u001b[0m 14 13 12 11 10 \n",
            "0 1 2 3 4 5 6 7 8 9 \u001b[96m15\u001b[0m 19 18 17 16 \u001b[96m14\u001b[0m 13 12 11 10 \n",
            "0 1 2 3 4 5 6 7 8 9 \u001b[93m14\u001b[0m 19 18 17 16 \u001b[93m15\u001b[0m 13 12 11 10 \n",
            "0 1 2 3 4 5 6 7 8 9 \u001b[96m14\u001b[0m 19 18 17 16 15 \u001b[96m13\u001b[0m 12 11 10 \n",
            "0 1 2 3 4 5 6 7 8 9 \u001b[93m13\u001b[0m 19 18 17 16 15 \u001b[93m14\u001b[0m 12 11 10 \n",
            "0 1 2 3 4 5 6 7 8 9 \u001b[96m13\u001b[0m 19 18 17 16 15 14 \u001b[96m12\u001b[0m 11 10 \n",
            "0 1 2 3 4 5 6 7 8 9 \u001b[93m12\u001b[0m 19 18 17 16 15 14 \u001b[93m13\u001b[0m 11 10 \n",
            "0 1 2 3 4 5 6 7 8 9 \u001b[96m12\u001b[0m 19 18 17 16 15 14 13 \u001b[96m11\u001b[0m 10 \n",
            "0 1 2 3 4 5 6 7 8 9 \u001b[93m11\u001b[0m 19 18 17 16 15 14 13 \u001b[93m12\u001b[0m 10 \n",
            "0 1 2 3 4 5 6 7 8 9 \u001b[96m11\u001b[0m 19 18 17 16 15 14 13 12 \u001b[96m10\u001b[0m \n",
            "0 1 2 3 4 5 6 7 8 9 \u001b[93m10\u001b[0m 19 18 17 16 15 14 13 12 \u001b[93m11\u001b[0m \n",
            "0 1 2 3 4 5 6 7 8 9 10 \u001b[96m19\u001b[0m \u001b[96m18\u001b[0m 17 16 15 14 13 12 11 \n",
            "0 1 2 3 4 5 6 7 8 9 10 \u001b[93m18\u001b[0m \u001b[93m19\u001b[0m 17 16 15 14 13 12 11 \n",
            "0 1 2 3 4 5 6 7 8 9 10 \u001b[96m18\u001b[0m 19 \u001b[96m17\u001b[0m 16 15 14 13 12 11 \n",
            "0 1 2 3 4 5 6 7 8 9 10 \u001b[93m17\u001b[0m 19 \u001b[93m18\u001b[0m 16 15 14 13 12 11 \n",
            "0 1 2 3 4 5 6 7 8 9 10 \u001b[96m17\u001b[0m 19 18 \u001b[96m16\u001b[0m 15 14 13 12 11 \n",
            "0 1 2 3 4 5 6 7 8 9 10 \u001b[93m16\u001b[0m 19 18 \u001b[93m17\u001b[0m 15 14 13 12 11 \n",
            "0 1 2 3 4 5 6 7 8 9 10 \u001b[96m16\u001b[0m 19 18 17 \u001b[96m15\u001b[0m 14 13 12 11 \n",
            "0 1 2 3 4 5 6 7 8 9 10 \u001b[93m15\u001b[0m 19 18 17 \u001b[93m16\u001b[0m 14 13 12 11 \n",
            "0 1 2 3 4 5 6 7 8 9 10 \u001b[96m15\u001b[0m 19 18 17 16 \u001b[96m14\u001b[0m 13 12 11 \n",
            "0 1 2 3 4 5 6 7 8 9 10 \u001b[93m14\u001b[0m 19 18 17 16 \u001b[93m15\u001b[0m 13 12 11 \n",
            "0 1 2 3 4 5 6 7 8 9 10 \u001b[96m14\u001b[0m 19 18 17 16 15 \u001b[96m13\u001b[0m 12 11 \n",
            "0 1 2 3 4 5 6 7 8 9 10 \u001b[93m13\u001b[0m 19 18 17 16 15 \u001b[93m14\u001b[0m 12 11 \n",
            "0 1 2 3 4 5 6 7 8 9 10 \u001b[96m13\u001b[0m 19 18 17 16 15 14 \u001b[96m12\u001b[0m 11 \n",
            "0 1 2 3 4 5 6 7 8 9 10 \u001b[93m12\u001b[0m 19 18 17 16 15 14 \u001b[93m13\u001b[0m 11 \n",
            "0 1 2 3 4 5 6 7 8 9 10 \u001b[96m12\u001b[0m 19 18 17 16 15 14 13 \u001b[96m11\u001b[0m \n",
            "0 1 2 3 4 5 6 7 8 9 10 \u001b[93m11\u001b[0m 19 18 17 16 15 14 13 \u001b[93m12\u001b[0m \n",
            "0 1 2 3 4 5 6 7 8 9 10 11 \u001b[96m19\u001b[0m \u001b[96m18\u001b[0m 17 16 15 14 13 12 \n",
            "0 1 2 3 4 5 6 7 8 9 10 11 \u001b[93m18\u001b[0m \u001b[93m19\u001b[0m 17 16 15 14 13 12 \n",
            "0 1 2 3 4 5 6 7 8 9 10 11 \u001b[96m18\u001b[0m 19 \u001b[96m17\u001b[0m 16 15 14 13 12 \n",
            "0 1 2 3 4 5 6 7 8 9 10 11 \u001b[93m17\u001b[0m 19 \u001b[93m18\u001b[0m 16 15 14 13 12 \n",
            "0 1 2 3 4 5 6 7 8 9 10 11 \u001b[96m17\u001b[0m 19 18 \u001b[96m16\u001b[0m 15 14 13 12 \n",
            "0 1 2 3 4 5 6 7 8 9 10 11 \u001b[93m16\u001b[0m 19 18 \u001b[93m17\u001b[0m 15 14 13 12 \n",
            "0 1 2 3 4 5 6 7 8 9 10 11 \u001b[96m16\u001b[0m 19 18 17 \u001b[96m15\u001b[0m 14 13 12 \n",
            "0 1 2 3 4 5 6 7 8 9 10 11 \u001b[93m15\u001b[0m 19 18 17 \u001b[93m16\u001b[0m 14 13 12 \n",
            "0 1 2 3 4 5 6 7 8 9 10 11 \u001b[96m15\u001b[0m 19 18 17 16 \u001b[96m14\u001b[0m 13 12 \n",
            "0 1 2 3 4 5 6 7 8 9 10 11 \u001b[93m14\u001b[0m 19 18 17 16 \u001b[93m15\u001b[0m 13 12 \n",
            "0 1 2 3 4 5 6 7 8 9 10 11 \u001b[96m14\u001b[0m 19 18 17 16 15 \u001b[96m13\u001b[0m 12 \n",
            "0 1 2 3 4 5 6 7 8 9 10 11 \u001b[93m13\u001b[0m 19 18 17 16 15 \u001b[93m14\u001b[0m 12 \n",
            "0 1 2 3 4 5 6 7 8 9 10 11 \u001b[96m13\u001b[0m 19 18 17 16 15 14 \u001b[96m12\u001b[0m \n",
            "0 1 2 3 4 5 6 7 8 9 10 11 \u001b[93m12\u001b[0m 19 18 17 16 15 14 \u001b[93m13\u001b[0m \n",
            "0 1 2 3 4 5 6 7 8 9 10 11 12 \u001b[96m19\u001b[0m \u001b[96m18\u001b[0m 17 16 15 14 13 \n",
            "0 1 2 3 4 5 6 7 8 9 10 11 12 \u001b[93m18\u001b[0m \u001b[93m19\u001b[0m 17 16 15 14 13 \n",
            "0 1 2 3 4 5 6 7 8 9 10 11 12 \u001b[96m18\u001b[0m 19 \u001b[96m17\u001b[0m 16 15 14 13 \n",
            "0 1 2 3 4 5 6 7 8 9 10 11 12 \u001b[93m17\u001b[0m 19 \u001b[93m18\u001b[0m 16 15 14 13 \n",
            "0 1 2 3 4 5 6 7 8 9 10 11 12 \u001b[96m17\u001b[0m 19 18 \u001b[96m16\u001b[0m 15 14 13 \n",
            "0 1 2 3 4 5 6 7 8 9 10 11 12 \u001b[93m16\u001b[0m 19 18 \u001b[93m17\u001b[0m 15 14 13 \n",
            "0 1 2 3 4 5 6 7 8 9 10 11 12 \u001b[96m16\u001b[0m 19 18 17 \u001b[96m15\u001b[0m 14 13 \n",
            "0 1 2 3 4 5 6 7 8 9 10 11 12 \u001b[93m15\u001b[0m 19 18 17 \u001b[93m16\u001b[0m 14 13 \n",
            "0 1 2 3 4 5 6 7 8 9 10 11 12 \u001b[96m15\u001b[0m 19 18 17 16 \u001b[96m14\u001b[0m 13 \n",
            "0 1 2 3 4 5 6 7 8 9 10 11 12 \u001b[93m14\u001b[0m 19 18 17 16 \u001b[93m15\u001b[0m 13 \n",
            "0 1 2 3 4 5 6 7 8 9 10 11 12 \u001b[96m14\u001b[0m 19 18 17 16 15 \u001b[96m13\u001b[0m \n",
            "0 1 2 3 4 5 6 7 8 9 10 11 12 \u001b[93m13\u001b[0m 19 18 17 16 15 \u001b[93m14\u001b[0m \n",
            "0 1 2 3 4 5 6 7 8 9 10 11 12 13 \u001b[96m19\u001b[0m \u001b[96m18\u001b[0m 17 16 15 14 \n",
            "0 1 2 3 4 5 6 7 8 9 10 11 12 13 \u001b[93m18\u001b[0m \u001b[93m19\u001b[0m 17 16 15 14 \n",
            "0 1 2 3 4 5 6 7 8 9 10 11 12 13 \u001b[96m18\u001b[0m 19 \u001b[96m17\u001b[0m 16 15 14 \n",
            "0 1 2 3 4 5 6 7 8 9 10 11 12 13 \u001b[93m17\u001b[0m 19 \u001b[93m18\u001b[0m 16 15 14 \n",
            "0 1 2 3 4 5 6 7 8 9 10 11 12 13 \u001b[96m17\u001b[0m 19 18 \u001b[96m16\u001b[0m 15 14 \n",
            "0 1 2 3 4 5 6 7 8 9 10 11 12 13 \u001b[93m16\u001b[0m 19 18 \u001b[93m17\u001b[0m 15 14 \n",
            "0 1 2 3 4 5 6 7 8 9 10 11 12 13 \u001b[96m16\u001b[0m 19 18 17 \u001b[96m15\u001b[0m 14 \n",
            "0 1 2 3 4 5 6 7 8 9 10 11 12 13 \u001b[93m15\u001b[0m 19 18 17 \u001b[93m16\u001b[0m 14 \n",
            "0 1 2 3 4 5 6 7 8 9 10 11 12 13 \u001b[96m15\u001b[0m 19 18 17 16 \u001b[96m14\u001b[0m \n",
            "0 1 2 3 4 5 6 7 8 9 10 11 12 13 \u001b[93m14\u001b[0m 19 18 17 16 \u001b[93m15\u001b[0m \n",
            "0 1 2 3 4 5 6 7 8 9 10 11 12 13 14 \u001b[96m19\u001b[0m \u001b[96m18\u001b[0m 17 16 15 \n",
            "0 1 2 3 4 5 6 7 8 9 10 11 12 13 14 \u001b[93m18\u001b[0m \u001b[93m19\u001b[0m 17 16 15 \n",
            "0 1 2 3 4 5 6 7 8 9 10 11 12 13 14 \u001b[96m18\u001b[0m 19 \u001b[96m17\u001b[0m 16 15 \n",
            "0 1 2 3 4 5 6 7 8 9 10 11 12 13 14 \u001b[93m17\u001b[0m 19 \u001b[93m18\u001b[0m 16 15 \n",
            "0 1 2 3 4 5 6 7 8 9 10 11 12 13 14 \u001b[96m17\u001b[0m 19 18 \u001b[96m16\u001b[0m 15 \n",
            "0 1 2 3 4 5 6 7 8 9 10 11 12 13 14 \u001b[93m16\u001b[0m 19 18 \u001b[93m17\u001b[0m 15 \n",
            "0 1 2 3 4 5 6 7 8 9 10 11 12 13 14 \u001b[96m16\u001b[0m 19 18 17 \u001b[96m15\u001b[0m \n",
            "0 1 2 3 4 5 6 7 8 9 10 11 12 13 14 \u001b[93m15\u001b[0m 19 18 17 \u001b[93m16\u001b[0m \n",
            "0 1 2 3 4 5 6 7 8 9 10 11 12 13 14 15 \u001b[96m19\u001b[0m \u001b[96m18\u001b[0m 17 16 \n",
            "0 1 2 3 4 5 6 7 8 9 10 11 12 13 14 15 \u001b[93m18\u001b[0m \u001b[93m19\u001b[0m 17 16 \n",
            "0 1 2 3 4 5 6 7 8 9 10 11 12 13 14 15 \u001b[96m18\u001b[0m 19 \u001b[96m17\u001b[0m 16 \n",
            "0 1 2 3 4 5 6 7 8 9 10 11 12 13 14 15 \u001b[93m17\u001b[0m 19 \u001b[93m18\u001b[0m 16 \n",
            "0 1 2 3 4 5 6 7 8 9 10 11 12 13 14 15 \u001b[96m17\u001b[0m 19 18 \u001b[96m16\u001b[0m \n",
            "0 1 2 3 4 5 6 7 8 9 10 11 12 13 14 15 \u001b[93m16\u001b[0m 19 18 \u001b[93m17\u001b[0m \n",
            "0 1 2 3 4 5 6 7 8 9 10 11 12 13 14 15 16 \u001b[96m19\u001b[0m \u001b[96m18\u001b[0m 17 \n",
            "0 1 2 3 4 5 6 7 8 9 10 11 12 13 14 15 16 \u001b[93m18\u001b[0m \u001b[93m19\u001b[0m 17 \n",
            "0 1 2 3 4 5 6 7 8 9 10 11 12 13 14 15 16 \u001b[96m18\u001b[0m 19 \u001b[96m17\u001b[0m \n",
            "0 1 2 3 4 5 6 7 8 9 10 11 12 13 14 15 16 \u001b[93m17\u001b[0m 19 \u001b[93m18\u001b[0m \n",
            "0 1 2 3 4 5 6 7 8 9 10 11 12 13 14 15 16 17 \u001b[96m19\u001b[0m \u001b[96m18\u001b[0m \n",
            "0 1 2 3 4 5 6 7 8 9 10 11 12 13 14 15 16 17 \u001b[93m18\u001b[0m \u001b[93m19\u001b[0m \n",
            "testcase #2: Ok\n",
            "testcase #3: [4, 2, 4, 2, 1]\n",
            "\u001b[96m4\u001b[0m \u001b[96m2\u001b[0m 4 2 1 \n",
            "\u001b[93m2\u001b[0m \u001b[93m4\u001b[0m 4 2 1 \n",
            "\u001b[96m2\u001b[0m 4 \u001b[96m4\u001b[0m 2 1 \n",
            "\u001b[96m2\u001b[0m 4 4 \u001b[96m2\u001b[0m 1 \n",
            "\u001b[96m2\u001b[0m 4 4 2 \u001b[96m1\u001b[0m \n",
            "\u001b[93m1\u001b[0m 4 4 2 \u001b[93m2\u001b[0m \n",
            "1 \u001b[96m4\u001b[0m \u001b[96m4\u001b[0m 2 2 \n",
            "1 \u001b[96m4\u001b[0m 4 \u001b[96m2\u001b[0m 2 \n",
            "1 \u001b[93m2\u001b[0m 4 \u001b[93m4\u001b[0m 2 \n",
            "1 \u001b[96m2\u001b[0m 4 4 \u001b[96m2\u001b[0m \n",
            "1 2 \u001b[96m4\u001b[0m \u001b[96m4\u001b[0m 2 \n",
            "1 2 \u001b[96m4\u001b[0m 4 \u001b[96m2\u001b[0m \n",
            "1 2 \u001b[93m2\u001b[0m 4 \u001b[93m4\u001b[0m \n",
            "1 2 2 \u001b[96m4\u001b[0m \u001b[96m4\u001b[0m \n",
            "testcase #2: Ok\n",
            "Тестируем:   сортировка списка А методом пузырька \n",
            "[4, 2, 5, 1, 3]\n",
            "\u001b[96m4\u001b[0m \u001b[96m2\u001b[0m 5 1 3 \n",
            "\u001b[93m2\u001b[0m \u001b[93m4\u001b[0m 5 1 3 \n",
            "2 \u001b[96m4\u001b[0m \u001b[96m5\u001b[0m 1 3 \n",
            "2 4 \u001b[96m5\u001b[0m \u001b[96m1\u001b[0m 3 \n",
            "2 4 \u001b[93m1\u001b[0m \u001b[93m5\u001b[0m 3 \n",
            "2 4 1 \u001b[96m5\u001b[0m \u001b[96m3\u001b[0m \n",
            "2 4 1 \u001b[93m3\u001b[0m \u001b[93m5\u001b[0m \n",
            "\u001b[96m2\u001b[0m \u001b[96m4\u001b[0m 1 3 5 \n",
            "2 \u001b[96m4\u001b[0m \u001b[96m1\u001b[0m 3 5 \n",
            "2 \u001b[93m1\u001b[0m \u001b[93m4\u001b[0m 3 5 \n",
            "2 1 \u001b[96m4\u001b[0m \u001b[96m3\u001b[0m 5 \n",
            "2 1 \u001b[93m3\u001b[0m \u001b[93m4\u001b[0m 5 \n",
            "\u001b[96m2\u001b[0m \u001b[96m1\u001b[0m 3 4 5 \n",
            "\u001b[93m1\u001b[0m \u001b[93m2\u001b[0m 3 4 5 \n",
            "1 \u001b[96m2\u001b[0m \u001b[96m3\u001b[0m 4 5 \n",
            "\u001b[96m1\u001b[0m \u001b[96m2\u001b[0m 3 4 5 \n",
            "testcase #1: Ok\n",
            "[10, 11, 12, 13, 14, 15, 16, 17, 18, 19, 0, 1, 2, 3, 4, 5, 6, 7, 8, 9]\n",
            "\u001b[96m10\u001b[0m \u001b[96m11\u001b[0m 12 13 14 15 16 17 18 19 0 1 2 3 4 5 6 7 8 9 \n",
            "10 \u001b[96m11\u001b[0m \u001b[96m12\u001b[0m 13 14 15 16 17 18 19 0 1 2 3 4 5 6 7 8 9 \n",
            "10 11 \u001b[96m12\u001b[0m \u001b[96m13\u001b[0m 14 15 16 17 18 19 0 1 2 3 4 5 6 7 8 9 \n",
            "10 11 12 \u001b[96m13\u001b[0m \u001b[96m14\u001b[0m 15 16 17 18 19 0 1 2 3 4 5 6 7 8 9 \n",
            "10 11 12 13 \u001b[96m14\u001b[0m \u001b[96m15\u001b[0m 16 17 18 19 0 1 2 3 4 5 6 7 8 9 \n",
            "10 11 12 13 14 \u001b[96m15\u001b[0m \u001b[96m16\u001b[0m 17 18 19 0 1 2 3 4 5 6 7 8 9 \n",
            "10 11 12 13 14 15 \u001b[96m16\u001b[0m \u001b[96m17\u001b[0m 18 19 0 1 2 3 4 5 6 7 8 9 \n",
            "10 11 12 13 14 15 16 \u001b[96m17\u001b[0m \u001b[96m18\u001b[0m 19 0 1 2 3 4 5 6 7 8 9 \n",
            "10 11 12 13 14 15 16 17 \u001b[96m18\u001b[0m \u001b[96m19\u001b[0m 0 1 2 3 4 5 6 7 8 9 \n",
            "10 11 12 13 14 15 16 17 18 \u001b[96m19\u001b[0m \u001b[96m0\u001b[0m 1 2 3 4 5 6 7 8 9 \n",
            "10 11 12 13 14 15 16 17 18 \u001b[93m0\u001b[0m \u001b[93m19\u001b[0m 1 2 3 4 5 6 7 8 9 \n",
            "10 11 12 13 14 15 16 17 18 0 \u001b[96m19\u001b[0m \u001b[96m1\u001b[0m 2 3 4 5 6 7 8 9 \n",
            "10 11 12 13 14 15 16 17 18 0 \u001b[93m1\u001b[0m \u001b[93m19\u001b[0m 2 3 4 5 6 7 8 9 \n",
            "10 11 12 13 14 15 16 17 18 0 1 \u001b[96m19\u001b[0m \u001b[96m2\u001b[0m 3 4 5 6 7 8 9 \n",
            "10 11 12 13 14 15 16 17 18 0 1 \u001b[93m2\u001b[0m \u001b[93m19\u001b[0m 3 4 5 6 7 8 9 \n",
            "10 11 12 13 14 15 16 17 18 0 1 2 \u001b[96m19\u001b[0m \u001b[96m3\u001b[0m 4 5 6 7 8 9 \n",
            "10 11 12 13 14 15 16 17 18 0 1 2 \u001b[93m3\u001b[0m \u001b[93m19\u001b[0m 4 5 6 7 8 9 \n",
            "10 11 12 13 14 15 16 17 18 0 1 2 3 \u001b[96m19\u001b[0m \u001b[96m4\u001b[0m 5 6 7 8 9 \n",
            "10 11 12 13 14 15 16 17 18 0 1 2 3 \u001b[93m4\u001b[0m \u001b[93m19\u001b[0m 5 6 7 8 9 \n",
            "10 11 12 13 14 15 16 17 18 0 1 2 3 4 \u001b[96m19\u001b[0m \u001b[96m5\u001b[0m 6 7 8 9 \n",
            "10 11 12 13 14 15 16 17 18 0 1 2 3 4 \u001b[93m5\u001b[0m \u001b[93m19\u001b[0m 6 7 8 9 \n",
            "10 11 12 13 14 15 16 17 18 0 1 2 3 4 5 \u001b[96m19\u001b[0m \u001b[96m6\u001b[0m 7 8 9 \n",
            "10 11 12 13 14 15 16 17 18 0 1 2 3 4 5 \u001b[93m6\u001b[0m \u001b[93m19\u001b[0m 7 8 9 \n",
            "10 11 12 13 14 15 16 17 18 0 1 2 3 4 5 6 \u001b[96m19\u001b[0m \u001b[96m7\u001b[0m 8 9 \n",
            "10 11 12 13 14 15 16 17 18 0 1 2 3 4 5 6 \u001b[93m7\u001b[0m \u001b[93m19\u001b[0m 8 9 \n",
            "10 11 12 13 14 15 16 17 18 0 1 2 3 4 5 6 7 \u001b[96m19\u001b[0m \u001b[96m8\u001b[0m 9 \n",
            "10 11 12 13 14 15 16 17 18 0 1 2 3 4 5 6 7 \u001b[93m8\u001b[0m \u001b[93m19\u001b[0m 9 \n",
            "10 11 12 13 14 15 16 17 18 0 1 2 3 4 5 6 7 8 \u001b[96m19\u001b[0m \u001b[96m9\u001b[0m \n",
            "10 11 12 13 14 15 16 17 18 0 1 2 3 4 5 6 7 8 \u001b[93m9\u001b[0m \u001b[93m19\u001b[0m \n",
            "\u001b[96m10\u001b[0m \u001b[96m11\u001b[0m 12 13 14 15 16 17 18 0 1 2 3 4 5 6 7 8 9 19 \n",
            "10 \u001b[96m11\u001b[0m \u001b[96m12\u001b[0m 13 14 15 16 17 18 0 1 2 3 4 5 6 7 8 9 19 \n",
            "10 11 \u001b[96m12\u001b[0m \u001b[96m13\u001b[0m 14 15 16 17 18 0 1 2 3 4 5 6 7 8 9 19 \n",
            "10 11 12 \u001b[96m13\u001b[0m \u001b[96m14\u001b[0m 15 16 17 18 0 1 2 3 4 5 6 7 8 9 19 \n",
            "10 11 12 13 \u001b[96m14\u001b[0m \u001b[96m15\u001b[0m 16 17 18 0 1 2 3 4 5 6 7 8 9 19 \n",
            "10 11 12 13 14 \u001b[96m15\u001b[0m \u001b[96m16\u001b[0m 17 18 0 1 2 3 4 5 6 7 8 9 19 \n",
            "10 11 12 13 14 15 \u001b[96m16\u001b[0m \u001b[96m17\u001b[0m 18 0 1 2 3 4 5 6 7 8 9 19 \n",
            "10 11 12 13 14 15 16 \u001b[96m17\u001b[0m \u001b[96m18\u001b[0m 0 1 2 3 4 5 6 7 8 9 19 \n",
            "10 11 12 13 14 15 16 17 \u001b[96m18\u001b[0m \u001b[96m0\u001b[0m 1 2 3 4 5 6 7 8 9 19 \n",
            "10 11 12 13 14 15 16 17 \u001b[93m0\u001b[0m \u001b[93m18\u001b[0m 1 2 3 4 5 6 7 8 9 19 \n",
            "10 11 12 13 14 15 16 17 0 \u001b[96m18\u001b[0m \u001b[96m1\u001b[0m 2 3 4 5 6 7 8 9 19 \n",
            "10 11 12 13 14 15 16 17 0 \u001b[93m1\u001b[0m \u001b[93m18\u001b[0m 2 3 4 5 6 7 8 9 19 \n",
            "10 11 12 13 14 15 16 17 0 1 \u001b[96m18\u001b[0m \u001b[96m2\u001b[0m 3 4 5 6 7 8 9 19 \n",
            "10 11 12 13 14 15 16 17 0 1 \u001b[93m2\u001b[0m \u001b[93m18\u001b[0m 3 4 5 6 7 8 9 19 \n",
            "10 11 12 13 14 15 16 17 0 1 2 \u001b[96m18\u001b[0m \u001b[96m3\u001b[0m 4 5 6 7 8 9 19 \n",
            "10 11 12 13 14 15 16 17 0 1 2 \u001b[93m3\u001b[0m \u001b[93m18\u001b[0m 4 5 6 7 8 9 19 \n",
            "10 11 12 13 14 15 16 17 0 1 2 3 \u001b[96m18\u001b[0m \u001b[96m4\u001b[0m 5 6 7 8 9 19 \n",
            "10 11 12 13 14 15 16 17 0 1 2 3 \u001b[93m4\u001b[0m \u001b[93m18\u001b[0m 5 6 7 8 9 19 \n",
            "10 11 12 13 14 15 16 17 0 1 2 3 4 \u001b[96m18\u001b[0m \u001b[96m5\u001b[0m 6 7 8 9 19 \n",
            "10 11 12 13 14 15 16 17 0 1 2 3 4 \u001b[93m5\u001b[0m \u001b[93m18\u001b[0m 6 7 8 9 19 \n",
            "10 11 12 13 14 15 16 17 0 1 2 3 4 5 \u001b[96m18\u001b[0m \u001b[96m6\u001b[0m 7 8 9 19 \n",
            "10 11 12 13 14 15 16 17 0 1 2 3 4 5 \u001b[93m6\u001b[0m \u001b[93m18\u001b[0m 7 8 9 19 \n",
            "10 11 12 13 14 15 16 17 0 1 2 3 4 5 6 \u001b[96m18\u001b[0m \u001b[96m7\u001b[0m 8 9 19 \n",
            "10 11 12 13 14 15 16 17 0 1 2 3 4 5 6 \u001b[93m7\u001b[0m \u001b[93m18\u001b[0m 8 9 19 \n",
            "10 11 12 13 14 15 16 17 0 1 2 3 4 5 6 7 \u001b[96m18\u001b[0m \u001b[96m8\u001b[0m 9 19 \n",
            "10 11 12 13 14 15 16 17 0 1 2 3 4 5 6 7 \u001b[93m8\u001b[0m \u001b[93m18\u001b[0m 9 19 \n",
            "10 11 12 13 14 15 16 17 0 1 2 3 4 5 6 7 8 \u001b[96m18\u001b[0m \u001b[96m9\u001b[0m 19 \n",
            "10 11 12 13 14 15 16 17 0 1 2 3 4 5 6 7 8 \u001b[93m9\u001b[0m \u001b[93m18\u001b[0m 19 \n",
            "\u001b[96m10\u001b[0m \u001b[96m11\u001b[0m 12 13 14 15 16 17 0 1 2 3 4 5 6 7 8 9 18 19 \n",
            "10 \u001b[96m11\u001b[0m \u001b[96m12\u001b[0m 13 14 15 16 17 0 1 2 3 4 5 6 7 8 9 18 19 \n",
            "10 11 \u001b[96m12\u001b[0m \u001b[96m13\u001b[0m 14 15 16 17 0 1 2 3 4 5 6 7 8 9 18 19 \n",
            "10 11 12 \u001b[96m13\u001b[0m \u001b[96m14\u001b[0m 15 16 17 0 1 2 3 4 5 6 7 8 9 18 19 \n",
            "10 11 12 13 \u001b[96m14\u001b[0m \u001b[96m15\u001b[0m 16 17 0 1 2 3 4 5 6 7 8 9 18 19 \n",
            "10 11 12 13 14 \u001b[96m15\u001b[0m \u001b[96m16\u001b[0m 17 0 1 2 3 4 5 6 7 8 9 18 19 \n",
            "10 11 12 13 14 15 \u001b[96m16\u001b[0m \u001b[96m17\u001b[0m 0 1 2 3 4 5 6 7 8 9 18 19 \n",
            "10 11 12 13 14 15 16 \u001b[96m17\u001b[0m \u001b[96m0\u001b[0m 1 2 3 4 5 6 7 8 9 18 19 \n",
            "10 11 12 13 14 15 16 \u001b[93m0\u001b[0m \u001b[93m17\u001b[0m 1 2 3 4 5 6 7 8 9 18 19 \n",
            "10 11 12 13 14 15 16 0 \u001b[96m17\u001b[0m \u001b[96m1\u001b[0m 2 3 4 5 6 7 8 9 18 19 \n",
            "10 11 12 13 14 15 16 0 \u001b[93m1\u001b[0m \u001b[93m17\u001b[0m 2 3 4 5 6 7 8 9 18 19 \n",
            "10 11 12 13 14 15 16 0 1 \u001b[96m17\u001b[0m \u001b[96m2\u001b[0m 3 4 5 6 7 8 9 18 19 \n",
            "10 11 12 13 14 15 16 0 1 \u001b[93m2\u001b[0m \u001b[93m17\u001b[0m 3 4 5 6 7 8 9 18 19 \n",
            "10 11 12 13 14 15 16 0 1 2 \u001b[96m17\u001b[0m \u001b[96m3\u001b[0m 4 5 6 7 8 9 18 19 \n",
            "10 11 12 13 14 15 16 0 1 2 \u001b[93m3\u001b[0m \u001b[93m17\u001b[0m 4 5 6 7 8 9 18 19 \n",
            "10 11 12 13 14 15 16 0 1 2 3 \u001b[96m17\u001b[0m \u001b[96m4\u001b[0m 5 6 7 8 9 18 19 \n",
            "10 11 12 13 14 15 16 0 1 2 3 \u001b[93m4\u001b[0m \u001b[93m17\u001b[0m 5 6 7 8 9 18 19 \n",
            "10 11 12 13 14 15 16 0 1 2 3 4 \u001b[96m17\u001b[0m \u001b[96m5\u001b[0m 6 7 8 9 18 19 \n",
            "10 11 12 13 14 15 16 0 1 2 3 4 \u001b[93m5\u001b[0m \u001b[93m17\u001b[0m 6 7 8 9 18 19 \n",
            "10 11 12 13 14 15 16 0 1 2 3 4 5 \u001b[96m17\u001b[0m \u001b[96m6\u001b[0m 7 8 9 18 19 \n",
            "10 11 12 13 14 15 16 0 1 2 3 4 5 \u001b[93m6\u001b[0m \u001b[93m17\u001b[0m 7 8 9 18 19 \n",
            "10 11 12 13 14 15 16 0 1 2 3 4 5 6 \u001b[96m17\u001b[0m \u001b[96m7\u001b[0m 8 9 18 19 \n",
            "10 11 12 13 14 15 16 0 1 2 3 4 5 6 \u001b[93m7\u001b[0m \u001b[93m17\u001b[0m 8 9 18 19 \n",
            "10 11 12 13 14 15 16 0 1 2 3 4 5 6 7 \u001b[96m17\u001b[0m \u001b[96m8\u001b[0m 9 18 19 \n",
            "10 11 12 13 14 15 16 0 1 2 3 4 5 6 7 \u001b[93m8\u001b[0m \u001b[93m17\u001b[0m 9 18 19 \n",
            "10 11 12 13 14 15 16 0 1 2 3 4 5 6 7 8 \u001b[96m17\u001b[0m \u001b[96m9\u001b[0m 18 19 \n",
            "10 11 12 13 14 15 16 0 1 2 3 4 5 6 7 8 \u001b[93m9\u001b[0m \u001b[93m17\u001b[0m 18 19 \n",
            "\u001b[96m10\u001b[0m \u001b[96m11\u001b[0m 12 13 14 15 16 0 1 2 3 4 5 6 7 8 9 17 18 19 \n",
            "10 \u001b[96m11\u001b[0m \u001b[96m12\u001b[0m 13 14 15 16 0 1 2 3 4 5 6 7 8 9 17 18 19 \n",
            "10 11 \u001b[96m12\u001b[0m \u001b[96m13\u001b[0m 14 15 16 0 1 2 3 4 5 6 7 8 9 17 18 19 \n",
            "10 11 12 \u001b[96m13\u001b[0m \u001b[96m14\u001b[0m 15 16 0 1 2 3 4 5 6 7 8 9 17 18 19 \n",
            "10 11 12 13 \u001b[96m14\u001b[0m \u001b[96m15\u001b[0m 16 0 1 2 3 4 5 6 7 8 9 17 18 19 \n",
            "10 11 12 13 14 \u001b[96m15\u001b[0m \u001b[96m16\u001b[0m 0 1 2 3 4 5 6 7 8 9 17 18 19 \n",
            "10 11 12 13 14 15 \u001b[96m16\u001b[0m \u001b[96m0\u001b[0m 1 2 3 4 5 6 7 8 9 17 18 19 \n",
            "10 11 12 13 14 15 \u001b[93m0\u001b[0m \u001b[93m16\u001b[0m 1 2 3 4 5 6 7 8 9 17 18 19 \n",
            "10 11 12 13 14 15 0 \u001b[96m16\u001b[0m \u001b[96m1\u001b[0m 2 3 4 5 6 7 8 9 17 18 19 \n",
            "10 11 12 13 14 15 0 \u001b[93m1\u001b[0m \u001b[93m16\u001b[0m 2 3 4 5 6 7 8 9 17 18 19 \n",
            "10 11 12 13 14 15 0 1 \u001b[96m16\u001b[0m \u001b[96m2\u001b[0m 3 4 5 6 7 8 9 17 18 19 \n",
            "10 11 12 13 14 15 0 1 \u001b[93m2\u001b[0m \u001b[93m16\u001b[0m 3 4 5 6 7 8 9 17 18 19 \n",
            "10 11 12 13 14 15 0 1 2 \u001b[96m16\u001b[0m \u001b[96m3\u001b[0m 4 5 6 7 8 9 17 18 19 \n",
            "10 11 12 13 14 15 0 1 2 \u001b[93m3\u001b[0m \u001b[93m16\u001b[0m 4 5 6 7 8 9 17 18 19 \n",
            "10 11 12 13 14 15 0 1 2 3 \u001b[96m16\u001b[0m \u001b[96m4\u001b[0m 5 6 7 8 9 17 18 19 \n",
            "10 11 12 13 14 15 0 1 2 3 \u001b[93m4\u001b[0m \u001b[93m16\u001b[0m 5 6 7 8 9 17 18 19 \n",
            "10 11 12 13 14 15 0 1 2 3 4 \u001b[96m16\u001b[0m \u001b[96m5\u001b[0m 6 7 8 9 17 18 19 \n",
            "10 11 12 13 14 15 0 1 2 3 4 \u001b[93m5\u001b[0m \u001b[93m16\u001b[0m 6 7 8 9 17 18 19 \n",
            "10 11 12 13 14 15 0 1 2 3 4 5 \u001b[96m16\u001b[0m \u001b[96m6\u001b[0m 7 8 9 17 18 19 \n",
            "10 11 12 13 14 15 0 1 2 3 4 5 \u001b[93m6\u001b[0m \u001b[93m16\u001b[0m 7 8 9 17 18 19 \n",
            "10 11 12 13 14 15 0 1 2 3 4 5 6 \u001b[96m16\u001b[0m \u001b[96m7\u001b[0m 8 9 17 18 19 \n",
            "10 11 12 13 14 15 0 1 2 3 4 5 6 \u001b[93m7\u001b[0m \u001b[93m16\u001b[0m 8 9 17 18 19 \n",
            "10 11 12 13 14 15 0 1 2 3 4 5 6 7 \u001b[96m16\u001b[0m \u001b[96m8\u001b[0m 9 17 18 19 \n",
            "10 11 12 13 14 15 0 1 2 3 4 5 6 7 \u001b[93m8\u001b[0m \u001b[93m16\u001b[0m 9 17 18 19 \n",
            "10 11 12 13 14 15 0 1 2 3 4 5 6 7 8 \u001b[96m16\u001b[0m \u001b[96m9\u001b[0m 17 18 19 \n",
            "10 11 12 13 14 15 0 1 2 3 4 5 6 7 8 \u001b[93m9\u001b[0m \u001b[93m16\u001b[0m 17 18 19 \n",
            "\u001b[96m10\u001b[0m \u001b[96m11\u001b[0m 12 13 14 15 0 1 2 3 4 5 6 7 8 9 16 17 18 19 \n",
            "10 \u001b[96m11\u001b[0m \u001b[96m12\u001b[0m 13 14 15 0 1 2 3 4 5 6 7 8 9 16 17 18 19 \n",
            "10 11 \u001b[96m12\u001b[0m \u001b[96m13\u001b[0m 14 15 0 1 2 3 4 5 6 7 8 9 16 17 18 19 \n",
            "10 11 12 \u001b[96m13\u001b[0m \u001b[96m14\u001b[0m 15 0 1 2 3 4 5 6 7 8 9 16 17 18 19 \n",
            "10 11 12 13 \u001b[96m14\u001b[0m \u001b[96m15\u001b[0m 0 1 2 3 4 5 6 7 8 9 16 17 18 19 \n",
            "10 11 12 13 14 \u001b[96m15\u001b[0m \u001b[96m0\u001b[0m 1 2 3 4 5 6 7 8 9 16 17 18 19 \n",
            "10 11 12 13 14 \u001b[93m0\u001b[0m \u001b[93m15\u001b[0m 1 2 3 4 5 6 7 8 9 16 17 18 19 \n",
            "10 11 12 13 14 0 \u001b[96m15\u001b[0m \u001b[96m1\u001b[0m 2 3 4 5 6 7 8 9 16 17 18 19 \n",
            "10 11 12 13 14 0 \u001b[93m1\u001b[0m \u001b[93m15\u001b[0m 2 3 4 5 6 7 8 9 16 17 18 19 \n",
            "10 11 12 13 14 0 1 \u001b[96m15\u001b[0m \u001b[96m2\u001b[0m 3 4 5 6 7 8 9 16 17 18 19 \n",
            "10 11 12 13 14 0 1 \u001b[93m2\u001b[0m \u001b[93m15\u001b[0m 3 4 5 6 7 8 9 16 17 18 19 \n",
            "10 11 12 13 14 0 1 2 \u001b[96m15\u001b[0m \u001b[96m3\u001b[0m 4 5 6 7 8 9 16 17 18 19 \n",
            "10 11 12 13 14 0 1 2 \u001b[93m3\u001b[0m \u001b[93m15\u001b[0m 4 5 6 7 8 9 16 17 18 19 \n",
            "10 11 12 13 14 0 1 2 3 \u001b[96m15\u001b[0m \u001b[96m4\u001b[0m 5 6 7 8 9 16 17 18 19 \n",
            "10 11 12 13 14 0 1 2 3 \u001b[93m4\u001b[0m \u001b[93m15\u001b[0m 5 6 7 8 9 16 17 18 19 \n",
            "10 11 12 13 14 0 1 2 3 4 \u001b[96m15\u001b[0m \u001b[96m5\u001b[0m 6 7 8 9 16 17 18 19 \n",
            "10 11 12 13 14 0 1 2 3 4 \u001b[93m5\u001b[0m \u001b[93m15\u001b[0m 6 7 8 9 16 17 18 19 \n",
            "10 11 12 13 14 0 1 2 3 4 5 \u001b[96m15\u001b[0m \u001b[96m6\u001b[0m 7 8 9 16 17 18 19 \n",
            "10 11 12 13 14 0 1 2 3 4 5 \u001b[93m6\u001b[0m \u001b[93m15\u001b[0m 7 8 9 16 17 18 19 \n",
            "10 11 12 13 14 0 1 2 3 4 5 6 \u001b[96m15\u001b[0m \u001b[96m7\u001b[0m 8 9 16 17 18 19 \n",
            "10 11 12 13 14 0 1 2 3 4 5 6 \u001b[93m7\u001b[0m \u001b[93m15\u001b[0m 8 9 16 17 18 19 \n",
            "10 11 12 13 14 0 1 2 3 4 5 6 7 \u001b[96m15\u001b[0m \u001b[96m8\u001b[0m 9 16 17 18 19 \n",
            "10 11 12 13 14 0 1 2 3 4 5 6 7 \u001b[93m8\u001b[0m \u001b[93m15\u001b[0m 9 16 17 18 19 \n",
            "10 11 12 13 14 0 1 2 3 4 5 6 7 8 \u001b[96m15\u001b[0m \u001b[96m9\u001b[0m 16 17 18 19 \n",
            "10 11 12 13 14 0 1 2 3 4 5 6 7 8 \u001b[93m9\u001b[0m \u001b[93m15\u001b[0m 16 17 18 19 \n",
            "\u001b[96m10\u001b[0m \u001b[96m11\u001b[0m 12 13 14 0 1 2 3 4 5 6 7 8 9 15 16 17 18 19 \n",
            "10 \u001b[96m11\u001b[0m \u001b[96m12\u001b[0m 13 14 0 1 2 3 4 5 6 7 8 9 15 16 17 18 19 \n",
            "10 11 \u001b[96m12\u001b[0m \u001b[96m13\u001b[0m 14 0 1 2 3 4 5 6 7 8 9 15 16 17 18 19 \n",
            "10 11 12 \u001b[96m13\u001b[0m \u001b[96m14\u001b[0m 0 1 2 3 4 5 6 7 8 9 15 16 17 18 19 \n",
            "10 11 12 13 \u001b[96m14\u001b[0m \u001b[96m0\u001b[0m 1 2 3 4 5 6 7 8 9 15 16 17 18 19 \n",
            "10 11 12 13 \u001b[93m0\u001b[0m \u001b[93m14\u001b[0m 1 2 3 4 5 6 7 8 9 15 16 17 18 19 \n",
            "10 11 12 13 0 \u001b[96m14\u001b[0m \u001b[96m1\u001b[0m 2 3 4 5 6 7 8 9 15 16 17 18 19 \n",
            "10 11 12 13 0 \u001b[93m1\u001b[0m \u001b[93m14\u001b[0m 2 3 4 5 6 7 8 9 15 16 17 18 19 \n",
            "10 11 12 13 0 1 \u001b[96m14\u001b[0m \u001b[96m2\u001b[0m 3 4 5 6 7 8 9 15 16 17 18 19 \n",
            "10 11 12 13 0 1 \u001b[93m2\u001b[0m \u001b[93m14\u001b[0m 3 4 5 6 7 8 9 15 16 17 18 19 \n",
            "10 11 12 13 0 1 2 \u001b[96m14\u001b[0m \u001b[96m3\u001b[0m 4 5 6 7 8 9 15 16 17 18 19 \n",
            "10 11 12 13 0 1 2 \u001b[93m3\u001b[0m \u001b[93m14\u001b[0m 4 5 6 7 8 9 15 16 17 18 19 \n",
            "10 11 12 13 0 1 2 3 \u001b[96m14\u001b[0m \u001b[96m4\u001b[0m 5 6 7 8 9 15 16 17 18 19 \n",
            "10 11 12 13 0 1 2 3 \u001b[93m4\u001b[0m \u001b[93m14\u001b[0m 5 6 7 8 9 15 16 17 18 19 \n",
            "10 11 12 13 0 1 2 3 4 \u001b[96m14\u001b[0m \u001b[96m5\u001b[0m 6 7 8 9 15 16 17 18 19 \n",
            "10 11 12 13 0 1 2 3 4 \u001b[93m5\u001b[0m \u001b[93m14\u001b[0m 6 7 8 9 15 16 17 18 19 \n",
            "10 11 12 13 0 1 2 3 4 5 \u001b[96m14\u001b[0m \u001b[96m6\u001b[0m 7 8 9 15 16 17 18 19 \n",
            "10 11 12 13 0 1 2 3 4 5 \u001b[93m6\u001b[0m \u001b[93m14\u001b[0m 7 8 9 15 16 17 18 19 \n",
            "10 11 12 13 0 1 2 3 4 5 6 \u001b[96m14\u001b[0m \u001b[96m7\u001b[0m 8 9 15 16 17 18 19 \n",
            "10 11 12 13 0 1 2 3 4 5 6 \u001b[93m7\u001b[0m \u001b[93m14\u001b[0m 8 9 15 16 17 18 19 \n",
            "10 11 12 13 0 1 2 3 4 5 6 7 \u001b[96m14\u001b[0m \u001b[96m8\u001b[0m 9 15 16 17 18 19 \n",
            "10 11 12 13 0 1 2 3 4 5 6 7 \u001b[93m8\u001b[0m \u001b[93m14\u001b[0m 9 15 16 17 18 19 \n",
            "10 11 12 13 0 1 2 3 4 5 6 7 8 \u001b[96m14\u001b[0m \u001b[96m9\u001b[0m 15 16 17 18 19 \n",
            "10 11 12 13 0 1 2 3 4 5 6 7 8 \u001b[93m9\u001b[0m \u001b[93m14\u001b[0m 15 16 17 18 19 \n",
            "\u001b[96m10\u001b[0m \u001b[96m11\u001b[0m 12 13 0 1 2 3 4 5 6 7 8 9 14 15 16 17 18 19 \n",
            "10 \u001b[96m11\u001b[0m \u001b[96m12\u001b[0m 13 0 1 2 3 4 5 6 7 8 9 14 15 16 17 18 19 \n",
            "10 11 \u001b[96m12\u001b[0m \u001b[96m13\u001b[0m 0 1 2 3 4 5 6 7 8 9 14 15 16 17 18 19 \n",
            "10 11 12 \u001b[96m13\u001b[0m \u001b[96m0\u001b[0m 1 2 3 4 5 6 7 8 9 14 15 16 17 18 19 \n",
            "10 11 12 \u001b[93m0\u001b[0m \u001b[93m13\u001b[0m 1 2 3 4 5 6 7 8 9 14 15 16 17 18 19 \n",
            "10 11 12 0 \u001b[96m13\u001b[0m \u001b[96m1\u001b[0m 2 3 4 5 6 7 8 9 14 15 16 17 18 19 \n",
            "10 11 12 0 \u001b[93m1\u001b[0m \u001b[93m13\u001b[0m 2 3 4 5 6 7 8 9 14 15 16 17 18 19 \n",
            "10 11 12 0 1 \u001b[96m13\u001b[0m \u001b[96m2\u001b[0m 3 4 5 6 7 8 9 14 15 16 17 18 19 \n",
            "10 11 12 0 1 \u001b[93m2\u001b[0m \u001b[93m13\u001b[0m 3 4 5 6 7 8 9 14 15 16 17 18 19 \n",
            "10 11 12 0 1 2 \u001b[96m13\u001b[0m \u001b[96m3\u001b[0m 4 5 6 7 8 9 14 15 16 17 18 19 \n",
            "10 11 12 0 1 2 \u001b[93m3\u001b[0m \u001b[93m13\u001b[0m 4 5 6 7 8 9 14 15 16 17 18 19 \n",
            "10 11 12 0 1 2 3 \u001b[96m13\u001b[0m \u001b[96m4\u001b[0m 5 6 7 8 9 14 15 16 17 18 19 \n",
            "10 11 12 0 1 2 3 \u001b[93m4\u001b[0m \u001b[93m13\u001b[0m 5 6 7 8 9 14 15 16 17 18 19 \n",
            "10 11 12 0 1 2 3 4 \u001b[96m13\u001b[0m \u001b[96m5\u001b[0m 6 7 8 9 14 15 16 17 18 19 \n",
            "10 11 12 0 1 2 3 4 \u001b[93m5\u001b[0m \u001b[93m13\u001b[0m 6 7 8 9 14 15 16 17 18 19 \n",
            "10 11 12 0 1 2 3 4 5 \u001b[96m13\u001b[0m \u001b[96m6\u001b[0m 7 8 9 14 15 16 17 18 19 \n",
            "10 11 12 0 1 2 3 4 5 \u001b[93m6\u001b[0m \u001b[93m13\u001b[0m 7 8 9 14 15 16 17 18 19 \n",
            "10 11 12 0 1 2 3 4 5 6 \u001b[96m13\u001b[0m \u001b[96m7\u001b[0m 8 9 14 15 16 17 18 19 \n",
            "10 11 12 0 1 2 3 4 5 6 \u001b[93m7\u001b[0m \u001b[93m13\u001b[0m 8 9 14 15 16 17 18 19 \n",
            "10 11 12 0 1 2 3 4 5 6 7 \u001b[96m13\u001b[0m \u001b[96m8\u001b[0m 9 14 15 16 17 18 19 \n",
            "10 11 12 0 1 2 3 4 5 6 7 \u001b[93m8\u001b[0m \u001b[93m13\u001b[0m 9 14 15 16 17 18 19 \n",
            "10 11 12 0 1 2 3 4 5 6 7 8 \u001b[96m13\u001b[0m \u001b[96m9\u001b[0m 14 15 16 17 18 19 \n",
            "10 11 12 0 1 2 3 4 5 6 7 8 \u001b[93m9\u001b[0m \u001b[93m13\u001b[0m 14 15 16 17 18 19 \n",
            "\u001b[96m10\u001b[0m \u001b[96m11\u001b[0m 12 0 1 2 3 4 5 6 7 8 9 13 14 15 16 17 18 19 \n",
            "10 \u001b[96m11\u001b[0m \u001b[96m12\u001b[0m 0 1 2 3 4 5 6 7 8 9 13 14 15 16 17 18 19 \n",
            "10 11 \u001b[96m12\u001b[0m \u001b[96m0\u001b[0m 1 2 3 4 5 6 7 8 9 13 14 15 16 17 18 19 \n",
            "10 11 \u001b[93m0\u001b[0m \u001b[93m12\u001b[0m 1 2 3 4 5 6 7 8 9 13 14 15 16 17 18 19 \n",
            "10 11 0 \u001b[96m12\u001b[0m \u001b[96m1\u001b[0m 2 3 4 5 6 7 8 9 13 14 15 16 17 18 19 \n",
            "10 11 0 \u001b[93m1\u001b[0m \u001b[93m12\u001b[0m 2 3 4 5 6 7 8 9 13 14 15 16 17 18 19 \n",
            "10 11 0 1 \u001b[96m12\u001b[0m \u001b[96m2\u001b[0m 3 4 5 6 7 8 9 13 14 15 16 17 18 19 \n",
            "10 11 0 1 \u001b[93m2\u001b[0m \u001b[93m12\u001b[0m 3 4 5 6 7 8 9 13 14 15 16 17 18 19 \n",
            "10 11 0 1 2 \u001b[96m12\u001b[0m \u001b[96m3\u001b[0m 4 5 6 7 8 9 13 14 15 16 17 18 19 \n",
            "10 11 0 1 2 \u001b[93m3\u001b[0m \u001b[93m12\u001b[0m 4 5 6 7 8 9 13 14 15 16 17 18 19 \n",
            "10 11 0 1 2 3 \u001b[96m12\u001b[0m \u001b[96m4\u001b[0m 5 6 7 8 9 13 14 15 16 17 18 19 \n",
            "10 11 0 1 2 3 \u001b[93m4\u001b[0m \u001b[93m12\u001b[0m 5 6 7 8 9 13 14 15 16 17 18 19 \n",
            "10 11 0 1 2 3 4 \u001b[96m12\u001b[0m \u001b[96m5\u001b[0m 6 7 8 9 13 14 15 16 17 18 19 \n",
            "10 11 0 1 2 3 4 \u001b[93m5\u001b[0m \u001b[93m12\u001b[0m 6 7 8 9 13 14 15 16 17 18 19 \n",
            "10 11 0 1 2 3 4 5 \u001b[96m12\u001b[0m \u001b[96m6\u001b[0m 7 8 9 13 14 15 16 17 18 19 \n",
            "10 11 0 1 2 3 4 5 \u001b[93m6\u001b[0m \u001b[93m12\u001b[0m 7 8 9 13 14 15 16 17 18 19 \n",
            "10 11 0 1 2 3 4 5 6 \u001b[96m12\u001b[0m \u001b[96m7\u001b[0m 8 9 13 14 15 16 17 18 19 \n",
            "10 11 0 1 2 3 4 5 6 \u001b[93m7\u001b[0m \u001b[93m12\u001b[0m 8 9 13 14 15 16 17 18 19 \n",
            "10 11 0 1 2 3 4 5 6 7 \u001b[96m12\u001b[0m \u001b[96m8\u001b[0m 9 13 14 15 16 17 18 19 \n",
            "10 11 0 1 2 3 4 5 6 7 \u001b[93m8\u001b[0m \u001b[93m12\u001b[0m 9 13 14 15 16 17 18 19 \n",
            "10 11 0 1 2 3 4 5 6 7 8 \u001b[96m12\u001b[0m \u001b[96m9\u001b[0m 13 14 15 16 17 18 19 \n",
            "10 11 0 1 2 3 4 5 6 7 8 \u001b[93m9\u001b[0m \u001b[93m12\u001b[0m 13 14 15 16 17 18 19 \n",
            "\u001b[96m10\u001b[0m \u001b[96m11\u001b[0m 0 1 2 3 4 5 6 7 8 9 12 13 14 15 16 17 18 19 \n",
            "10 \u001b[96m11\u001b[0m \u001b[96m0\u001b[0m 1 2 3 4 5 6 7 8 9 12 13 14 15 16 17 18 19 \n",
            "10 \u001b[93m0\u001b[0m \u001b[93m11\u001b[0m 1 2 3 4 5 6 7 8 9 12 13 14 15 16 17 18 19 \n",
            "10 0 \u001b[96m11\u001b[0m \u001b[96m1\u001b[0m 2 3 4 5 6 7 8 9 12 13 14 15 16 17 18 19 \n",
            "10 0 \u001b[93m1\u001b[0m \u001b[93m11\u001b[0m 2 3 4 5 6 7 8 9 12 13 14 15 16 17 18 19 \n",
            "10 0 1 \u001b[96m11\u001b[0m \u001b[96m2\u001b[0m 3 4 5 6 7 8 9 12 13 14 15 16 17 18 19 \n",
            "10 0 1 \u001b[93m2\u001b[0m \u001b[93m11\u001b[0m 3 4 5 6 7 8 9 12 13 14 15 16 17 18 19 \n",
            "10 0 1 2 \u001b[96m11\u001b[0m \u001b[96m3\u001b[0m 4 5 6 7 8 9 12 13 14 15 16 17 18 19 \n",
            "10 0 1 2 \u001b[93m3\u001b[0m \u001b[93m11\u001b[0m 4 5 6 7 8 9 12 13 14 15 16 17 18 19 \n",
            "10 0 1 2 3 \u001b[96m11\u001b[0m \u001b[96m4\u001b[0m 5 6 7 8 9 12 13 14 15 16 17 18 19 \n",
            "10 0 1 2 3 \u001b[93m4\u001b[0m \u001b[93m11\u001b[0m 5 6 7 8 9 12 13 14 15 16 17 18 19 \n",
            "10 0 1 2 3 4 \u001b[96m11\u001b[0m \u001b[96m5\u001b[0m 6 7 8 9 12 13 14 15 16 17 18 19 \n",
            "10 0 1 2 3 4 \u001b[93m5\u001b[0m \u001b[93m11\u001b[0m 6 7 8 9 12 13 14 15 16 17 18 19 \n",
            "10 0 1 2 3 4 5 \u001b[96m11\u001b[0m \u001b[96m6\u001b[0m 7 8 9 12 13 14 15 16 17 18 19 \n",
            "10 0 1 2 3 4 5 \u001b[93m6\u001b[0m \u001b[93m11\u001b[0m 7 8 9 12 13 14 15 16 17 18 19 \n",
            "10 0 1 2 3 4 5 6 \u001b[96m11\u001b[0m \u001b[96m7\u001b[0m 8 9 12 13 14 15 16 17 18 19 \n",
            "10 0 1 2 3 4 5 6 \u001b[93m7\u001b[0m \u001b[93m11\u001b[0m 8 9 12 13 14 15 16 17 18 19 \n",
            "10 0 1 2 3 4 5 6 7 \u001b[96m11\u001b[0m \u001b[96m8\u001b[0m 9 12 13 14 15 16 17 18 19 \n",
            "10 0 1 2 3 4 5 6 7 \u001b[93m8\u001b[0m \u001b[93m11\u001b[0m 9 12 13 14 15 16 17 18 19 \n",
            "10 0 1 2 3 4 5 6 7 8 \u001b[96m11\u001b[0m \u001b[96m9\u001b[0m 12 13 14 15 16 17 18 19 \n",
            "10 0 1 2 3 4 5 6 7 8 \u001b[93m9\u001b[0m \u001b[93m11\u001b[0m 12 13 14 15 16 17 18 19 \n",
            "\u001b[96m10\u001b[0m \u001b[96m0\u001b[0m 1 2 3 4 5 6 7 8 9 11 12 13 14 15 16 17 18 19 \n",
            "\u001b[93m0\u001b[0m \u001b[93m10\u001b[0m 1 2 3 4 5 6 7 8 9 11 12 13 14 15 16 17 18 19 \n",
            "0 \u001b[96m10\u001b[0m \u001b[96m1\u001b[0m 2 3 4 5 6 7 8 9 11 12 13 14 15 16 17 18 19 \n",
            "0 \u001b[93m1\u001b[0m \u001b[93m10\u001b[0m 2 3 4 5 6 7 8 9 11 12 13 14 15 16 17 18 19 \n",
            "0 1 \u001b[96m10\u001b[0m \u001b[96m2\u001b[0m 3 4 5 6 7 8 9 11 12 13 14 15 16 17 18 19 \n",
            "0 1 \u001b[93m2\u001b[0m \u001b[93m10\u001b[0m 3 4 5 6 7 8 9 11 12 13 14 15 16 17 18 19 \n",
            "0 1 2 \u001b[96m10\u001b[0m \u001b[96m3\u001b[0m 4 5 6 7 8 9 11 12 13 14 15 16 17 18 19 \n",
            "0 1 2 \u001b[93m3\u001b[0m \u001b[93m10\u001b[0m 4 5 6 7 8 9 11 12 13 14 15 16 17 18 19 \n",
            "0 1 2 3 \u001b[96m10\u001b[0m \u001b[96m4\u001b[0m 5 6 7 8 9 11 12 13 14 15 16 17 18 19 \n",
            "0 1 2 3 \u001b[93m4\u001b[0m \u001b[93m10\u001b[0m 5 6 7 8 9 11 12 13 14 15 16 17 18 19 \n",
            "0 1 2 3 4 \u001b[96m10\u001b[0m \u001b[96m5\u001b[0m 6 7 8 9 11 12 13 14 15 16 17 18 19 \n",
            "0 1 2 3 4 \u001b[93m5\u001b[0m \u001b[93m10\u001b[0m 6 7 8 9 11 12 13 14 15 16 17 18 19 \n",
            "0 1 2 3 4 5 \u001b[96m10\u001b[0m \u001b[96m6\u001b[0m 7 8 9 11 12 13 14 15 16 17 18 19 \n",
            "0 1 2 3 4 5 \u001b[93m6\u001b[0m \u001b[93m10\u001b[0m 7 8 9 11 12 13 14 15 16 17 18 19 \n",
            "0 1 2 3 4 5 6 \u001b[96m10\u001b[0m \u001b[96m7\u001b[0m 8 9 11 12 13 14 15 16 17 18 19 \n",
            "0 1 2 3 4 5 6 \u001b[93m7\u001b[0m \u001b[93m10\u001b[0m 8 9 11 12 13 14 15 16 17 18 19 \n",
            "0 1 2 3 4 5 6 7 \u001b[96m10\u001b[0m \u001b[96m8\u001b[0m 9 11 12 13 14 15 16 17 18 19 \n",
            "0 1 2 3 4 5 6 7 \u001b[93m8\u001b[0m \u001b[93m10\u001b[0m 9 11 12 13 14 15 16 17 18 19 \n",
            "0 1 2 3 4 5 6 7 8 \u001b[96m10\u001b[0m \u001b[96m9\u001b[0m 11 12 13 14 15 16 17 18 19 \n",
            "0 1 2 3 4 5 6 7 8 \u001b[93m9\u001b[0m \u001b[93m10\u001b[0m 11 12 13 14 15 16 17 18 19 \n",
            "\u001b[96m0\u001b[0m \u001b[96m1\u001b[0m 2 3 4 5 6 7 8 9 10 11 12 13 14 15 16 17 18 19 \n",
            "0 \u001b[96m1\u001b[0m \u001b[96m2\u001b[0m 3 4 5 6 7 8 9 10 11 12 13 14 15 16 17 18 19 \n",
            "0 1 \u001b[96m2\u001b[0m \u001b[96m3\u001b[0m 4 5 6 7 8 9 10 11 12 13 14 15 16 17 18 19 \n",
            "0 1 2 \u001b[96m3\u001b[0m \u001b[96m4\u001b[0m 5 6 7 8 9 10 11 12 13 14 15 16 17 18 19 \n",
            "0 1 2 3 \u001b[96m4\u001b[0m \u001b[96m5\u001b[0m 6 7 8 9 10 11 12 13 14 15 16 17 18 19 \n",
            "0 1 2 3 4 \u001b[96m5\u001b[0m \u001b[96m6\u001b[0m 7 8 9 10 11 12 13 14 15 16 17 18 19 \n",
            "0 1 2 3 4 5 \u001b[96m6\u001b[0m \u001b[96m7\u001b[0m 8 9 10 11 12 13 14 15 16 17 18 19 \n",
            "0 1 2 3 4 5 6 \u001b[96m7\u001b[0m \u001b[96m8\u001b[0m 9 10 11 12 13 14 15 16 17 18 19 \n",
            "0 1 2 3 4 5 6 7 \u001b[96m8\u001b[0m \u001b[96m9\u001b[0m 10 11 12 13 14 15 16 17 18 19 \n",
            "\u001b[96m0\u001b[0m \u001b[96m1\u001b[0m 2 3 4 5 6 7 8 9 10 11 12 13 14 15 16 17 18 19 \n",
            "0 \u001b[96m1\u001b[0m \u001b[96m2\u001b[0m 3 4 5 6 7 8 9 10 11 12 13 14 15 16 17 18 19 \n",
            "0 1 \u001b[96m2\u001b[0m \u001b[96m3\u001b[0m 4 5 6 7 8 9 10 11 12 13 14 15 16 17 18 19 \n",
            "0 1 2 \u001b[96m3\u001b[0m \u001b[96m4\u001b[0m 5 6 7 8 9 10 11 12 13 14 15 16 17 18 19 \n",
            "0 1 2 3 \u001b[96m4\u001b[0m \u001b[96m5\u001b[0m 6 7 8 9 10 11 12 13 14 15 16 17 18 19 \n",
            "0 1 2 3 4 \u001b[96m5\u001b[0m \u001b[96m6\u001b[0m 7 8 9 10 11 12 13 14 15 16 17 18 19 \n",
            "0 1 2 3 4 5 \u001b[96m6\u001b[0m \u001b[96m7\u001b[0m 8 9 10 11 12 13 14 15 16 17 18 19 \n",
            "0 1 2 3 4 5 6 \u001b[96m7\u001b[0m \u001b[96m8\u001b[0m 9 10 11 12 13 14 15 16 17 18 19 \n",
            "\u001b[96m0\u001b[0m \u001b[96m1\u001b[0m 2 3 4 5 6 7 8 9 10 11 12 13 14 15 16 17 18 19 \n",
            "0 \u001b[96m1\u001b[0m \u001b[96m2\u001b[0m 3 4 5 6 7 8 9 10 11 12 13 14 15 16 17 18 19 \n",
            "0 1 \u001b[96m2\u001b[0m \u001b[96m3\u001b[0m 4 5 6 7 8 9 10 11 12 13 14 15 16 17 18 19 \n",
            "0 1 2 \u001b[96m3\u001b[0m \u001b[96m4\u001b[0m 5 6 7 8 9 10 11 12 13 14 15 16 17 18 19 \n",
            "0 1 2 3 \u001b[96m4\u001b[0m \u001b[96m5\u001b[0m 6 7 8 9 10 11 12 13 14 15 16 17 18 19 \n",
            "0 1 2 3 4 \u001b[96m5\u001b[0m \u001b[96m6\u001b[0m 7 8 9 10 11 12 13 14 15 16 17 18 19 \n",
            "0 1 2 3 4 5 \u001b[96m6\u001b[0m \u001b[96m7\u001b[0m 8 9 10 11 12 13 14 15 16 17 18 19 \n",
            "\u001b[96m0\u001b[0m \u001b[96m1\u001b[0m 2 3 4 5 6 7 8 9 10 11 12 13 14 15 16 17 18 19 \n",
            "0 \u001b[96m1\u001b[0m \u001b[96m2\u001b[0m 3 4 5 6 7 8 9 10 11 12 13 14 15 16 17 18 19 \n",
            "0 1 \u001b[96m2\u001b[0m \u001b[96m3\u001b[0m 4 5 6 7 8 9 10 11 12 13 14 15 16 17 18 19 \n",
            "0 1 2 \u001b[96m3\u001b[0m \u001b[96m4\u001b[0m 5 6 7 8 9 10 11 12 13 14 15 16 17 18 19 \n",
            "0 1 2 3 \u001b[96m4\u001b[0m \u001b[96m5\u001b[0m 6 7 8 9 10 11 12 13 14 15 16 17 18 19 \n",
            "0 1 2 3 4 \u001b[96m5\u001b[0m \u001b[96m6\u001b[0m 7 8 9 10 11 12 13 14 15 16 17 18 19 \n",
            "\u001b[96m0\u001b[0m \u001b[96m1\u001b[0m 2 3 4 5 6 7 8 9 10 11 12 13 14 15 16 17 18 19 \n",
            "0 \u001b[96m1\u001b[0m \u001b[96m2\u001b[0m 3 4 5 6 7 8 9 10 11 12 13 14 15 16 17 18 19 \n",
            "0 1 \u001b[96m2\u001b[0m \u001b[96m3\u001b[0m 4 5 6 7 8 9 10 11 12 13 14 15 16 17 18 19 \n",
            "0 1 2 \u001b[96m3\u001b[0m \u001b[96m4\u001b[0m 5 6 7 8 9 10 11 12 13 14 15 16 17 18 19 \n",
            "0 1 2 3 \u001b[96m4\u001b[0m \u001b[96m5\u001b[0m 6 7 8 9 10 11 12 13 14 15 16 17 18 19 \n",
            "\u001b[96m0\u001b[0m \u001b[96m1\u001b[0m 2 3 4 5 6 7 8 9 10 11 12 13 14 15 16 17 18 19 \n",
            "0 \u001b[96m1\u001b[0m \u001b[96m2\u001b[0m 3 4 5 6 7 8 9 10 11 12 13 14 15 16 17 18 19 \n",
            "0 1 \u001b[96m2\u001b[0m \u001b[96m3\u001b[0m 4 5 6 7 8 9 10 11 12 13 14 15 16 17 18 19 \n",
            "0 1 2 \u001b[96m3\u001b[0m \u001b[96m4\u001b[0m 5 6 7 8 9 10 11 12 13 14 15 16 17 18 19 \n",
            "\u001b[96m0\u001b[0m \u001b[96m1\u001b[0m 2 3 4 5 6 7 8 9 10 11 12 13 14 15 16 17 18 19 \n",
            "0 \u001b[96m1\u001b[0m \u001b[96m2\u001b[0m 3 4 5 6 7 8 9 10 11 12 13 14 15 16 17 18 19 \n",
            "0 1 \u001b[96m2\u001b[0m \u001b[96m3\u001b[0m 4 5 6 7 8 9 10 11 12 13 14 15 16 17 18 19 \n",
            "\u001b[96m0\u001b[0m \u001b[96m1\u001b[0m 2 3 4 5 6 7 8 9 10 11 12 13 14 15 16 17 18 19 \n",
            "0 \u001b[96m1\u001b[0m \u001b[96m2\u001b[0m 3 4 5 6 7 8 9 10 11 12 13 14 15 16 17 18 19 \n",
            "\u001b[96m0\u001b[0m \u001b[96m1\u001b[0m 2 3 4 5 6 7 8 9 10 11 12 13 14 15 16 17 18 19 \n",
            "testcase #2: Ok\n",
            "testcase #3: [4, 2, 4, 2, 1]\n",
            "\u001b[96m4\u001b[0m \u001b[96m2\u001b[0m 4 2 1 \n",
            "\u001b[93m2\u001b[0m \u001b[93m4\u001b[0m 4 2 1 \n",
            "2 \u001b[96m4\u001b[0m \u001b[96m4\u001b[0m 2 1 \n",
            "2 4 \u001b[96m4\u001b[0m \u001b[96m2\u001b[0m 1 \n",
            "2 4 \u001b[93m2\u001b[0m \u001b[93m4\u001b[0m 1 \n",
            "2 4 2 \u001b[96m4\u001b[0m \u001b[96m1\u001b[0m \n",
            "2 4 2 \u001b[93m1\u001b[0m \u001b[93m4\u001b[0m \n",
            "\u001b[96m2\u001b[0m \u001b[96m4\u001b[0m 2 1 4 \n",
            "2 \u001b[96m4\u001b[0m \u001b[96m2\u001b[0m 1 4 \n",
            "2 \u001b[93m2\u001b[0m \u001b[93m4\u001b[0m 1 4 \n",
            "2 2 \u001b[96m4\u001b[0m \u001b[96m1\u001b[0m 4 \n",
            "2 2 \u001b[93m1\u001b[0m \u001b[93m4\u001b[0m 4 \n",
            "\u001b[96m2\u001b[0m \u001b[96m2\u001b[0m 1 4 4 \n",
            "2 \u001b[96m2\u001b[0m \u001b[96m1\u001b[0m 4 4 \n",
            "2 \u001b[93m1\u001b[0m \u001b[93m2\u001b[0m 4 4 \n",
            "\u001b[96m2\u001b[0m \u001b[96m1\u001b[0m 2 4 4 \n",
            "\u001b[93m1\u001b[0m \u001b[93m2\u001b[0m 2 4 4 \n",
            "testcase #2: Ok\n"
          ]
        }
      ]
    },
    {
      "cell_type": "markdown",
      "source": [
        "Сортировка подсчетом ( count sort ) O(N) и O(M), где M - кол-во различных элементов.\n",
        "Пример: упорядочить цифры в длинном числе, для этого заводим отдельный массив для подсчёта количества каждой цифры.\n",
        "\n"
      ],
      "metadata": {
        "id": "alNyoEN3yK6A"
      }
    },
    {
      "cell_type": "code",
      "source": [
        "n = int(input())\n",
        "F = [0]*10\n",
        "A = []\n",
        "# следующий цикл называется частотным анализом\n",
        "for i in range(n):\n",
        "  x = int(input())\n",
        "  F[x] += 1\n",
        "for i in range(10):\n",
        "  A += [i] * F[i]\n",
        "print(A)"
      ],
      "metadata": {
        "colab": {
          "base_uri": "https://localhost:8080/"
        },
        "id": "ZhY8rEs0zovt",
        "outputId": "4d7379f9-e18e-4848-f80b-210359de2faf"
      },
      "execution_count": null,
      "outputs": [
        {
          "output_type": "stream",
          "name": "stdout",
          "text": [
            "11\n",
            "6\n",
            "8\n",
            "9\n",
            "6\n",
            "5\n",
            "7\n",
            "8\n",
            "9\n",
            "4\n",
            "6\n",
            "4\n",
            "[9, 9, 9, 4, 4, 5, 6, 6, 6, 7, 8, 8, 9, 9]\n"
          ]
        }
      ]
    },
    {
      "cell_type": "code",
      "source": [
        "class bcolors:\n",
        "    HEADER = '\\033[95m'\n",
        "    OKBLUE = '\\033[94m'\n",
        "    OKCYAN = '\\033[96m'\n",
        "    OKGREEN = '\\033[92m'\n",
        "    WARNING = '\\033[93m'\n",
        "    FAIL = '\\033[91m'\n",
        "    ENDC = '\\033[0m'\n",
        "    BOLD = '\\033[1m'\n",
        "    UNDERLINE = '\\033[4m'\n",
        "\n",
        "\n",
        "print(bcolors.OKCYAN + 'Подкрашенный текст' + bcolors.ENDC)\n",
        "print('Подкраска текста отключена')"
      ],
      "metadata": {
        "colab": {
          "base_uri": "https://localhost:8080/"
        },
        "id": "yz7LutMH4jRO",
        "outputId": "904f01c9-35bf-49ae-dd28-3badbedf86bb"
      },
      "execution_count": null,
      "outputs": [
        {
          "output_type": "stream",
          "name": "stdout",
          "text": [
            "\u001b[96mПодкрашенный текст\u001b[0m\n",
            "Подкраска текста отключена\n"
          ]
        }
      ]
    },
    {
      "cell_type": "markdown",
      "source": [
        "# Лекция 7."
      ],
      "metadata": {
        "id": "oMim0rsrw9Mg"
      }
    },
    {
      "cell_type": "markdown",
      "source": [
        "## Рекурсия"
      ],
      "metadata": {
        "id": "4S0o-pbCxEjQ"
      }
    },
    {
      "cell_type": "markdown",
      "source": [
        "На примере матрёшки.  Все матрешки - рекуррентные случаи, кроме самой маленькой, это конечный случай.\n",
        "\n",
        "\n",
        "Когда придумываем задачу: \n",
        "1.   Продумываем рекуррентный случай (как будем решать задачу, уменьшая сложность)\n",
        "2.   Продумываем крайний случай (когда начнём сворачивать рекурсию) иначе просто переполним стек вызовов функций.\n",
        "\n",
        "Циклы и рекурсии взаимозаменяемы, в функцианальных языках может не быть циклов (Haskell)."
      ],
      "metadata": {
        "id": "NdpQapJfyT2Z"
      }
    },
    {
      "cell_type": "code",
      "source": [
        "\"\"\"Играем со стеком вызовов\"\"\"\n",
        "import sys\n",
        "import time\n",
        "import traceback\n",
        "\n",
        "def f(n):\n",
        "  print(n);\n",
        "  n += 1\n",
        "  if n < 964:\n",
        "    f(n)\n",
        "\n",
        "# узнаём размер стека вызовов функций\n",
        "print(sys.getrecursionlimit())\n",
        "time.sleep(2)\n",
        "# проверяем сколько раз сможем вызвать функцию\n",
        "f(1)\n",
        "# выясняем почему количество вызовов функций меньше размера стека\n",
        "traceback.print_stack()"
      ],
      "metadata": {
        "id": "-VfoakNn0uuS"
      },
      "execution_count": null,
      "outputs": []
    },
    {
      "cell_type": "code",
      "source": [
        "\"\"\"Рекурсивное создание матрёшки\"\"\"\n",
        "\n",
        "def matryoshka(n):\n",
        "  if n == 1:\n",
        "    print('mikroMatrona')\n",
        "  else:\n",
        "    print('Upside of Matron ', n)\n",
        "    # n -= 1   - Do not need to lower variable\n",
        "    matryoshka(n-1) # У каждой функции свой n, \n",
        "    # так как передаем атомарный тип данных int,\n",
        "    # а не ссылочный.\n",
        "    print('Downside of Matron ', n)\n",
        "\n",
        "\n",
        "matryoshka(5)"
      ],
      "metadata": {
        "colab": {
          "base_uri": "https://localhost:8080/"
        },
        "id": "Zq6Cz_m04ySb",
        "outputId": "78370b82-2d79-4e82-ef5b-9aee402c00e2"
      },
      "execution_count": null,
      "outputs": [
        {
          "output_type": "stream",
          "name": "stdout",
          "text": [
            "Upside of Matron  5\n",
            "Upside of Matron  4\n",
            "Upside of Matron  3\n",
            "Upside of Matron  2\n",
            "mikroMatrona\n",
            "Downside of Matron  2\n",
            "Downside of Matron  3\n",
            "Downside of Matron  4\n",
            "Downside of Matron  5\n"
          ]
        }
      ]
    },
    {
      "cell_type": "markdown",
      "source": [
        "Глубина рекурсии - количество вызовов, включая вызов извне функции"
      ],
      "metadata": {
        "id": "V-FPeDI89EbT"
      }
    },
    {
      "cell_type": "markdown",
      "source": [
        "*Variable Развертывание иттерируемого объекта. Пример: есть кортеж А из двух значений, есть функция f, принимающая 2 значения. Можем использовать \n",
        "```\n",
        "f(*A)\n",
        "```\n",
        "\n",
        "\n"
      ],
      "metadata": {
        "id": "JUFmuua9-fKS"
      }
    },
    {
      "cell_type": "code",
      "source": [
        "def mp(x, y):\n",
        "  return(x * y)  \n",
        "  \n",
        "\n",
        "a = (2, 5)\n",
        "b = [3, 6]\n",
        "# print(mp(a)) - error\n",
        "# print(mp(b)) -error\n",
        "print (mp(*a))  # пробел между назвнием функции и\n",
        "                # скобками параметров - не приводит \n",
        "                # к ошибке интерпретатора\n",
        "print(mp(*b))\n"
      ],
      "metadata": {
        "colab": {
          "base_uri": "https://localhost:8080/"
        },
        "id": "Z2SgMKYP_iWC",
        "outputId": "913f87ee-f2e4-4de7-ce53-5bf0b78bbf5d"
      },
      "execution_count": null,
      "outputs": [
        {
          "output_type": "stream",
          "name": "stdout",
          "text": [
            "10\n",
            "18\n"
          ]
        }
      ]
    },
    {
      "cell_type": "markdown",
      "source": [
        "Ещё одна сахарная возможность питона задать напрямую список для цикла for .. in"
      ],
      "metadata": {
        "id": "GLLccXAnD-wj"
      }
    },
    {
      "cell_type": "code",
      "source": [
        "def rectangle(a, b, c, d):\n",
        "  for m, n in (a, b), (b, c), (c, d), (d,a):  # m, n в списке кортежей, квадратные скобки здесь необязвтельны\n",
        "    print('Line ', m, ' to ', n)              # Были бы m, n, k, список был бы (a, b, c), (b, c, d) ... и т.д.\n",
        "    \n",
        "\n",
        "a = (0, 0)\n",
        "b = (1, 0)\n",
        "c = (1, 1)\n",
        "d = (0, 1)\n",
        "rectangle(a, b, c, d)"
      ],
      "metadata": {
        "colab": {
          "base_uri": "https://localhost:8080/"
        },
        "id": "gjnQYDmnEUay",
        "outputId": "164b8632-9d6a-48fa-8afa-a2bbdb7c8bc3"
      },
      "execution_count": null,
      "outputs": [
        {
          "output_type": "stream",
          "name": "stdout",
          "text": [
            "Line  (0, 0)  to  (1, 0)\n",
            "Line  (1, 0)  to  (1, 1)\n",
            "Line  (1, 1)  to  (0, 1)\n",
            "Line  (0, 1)  to  (0, 0)\n"
          ]
        }
      ]
    },
    {
      "cell_type": "markdown",
      "source": [
        "assert - оператор, вызывающий ошибку, если не выполняется условие. В примере применим для отсекания отрицательных чисел."
      ],
      "metadata": {
        "id": "wPoGfDy7JtA0"
      }
    },
    {
      "cell_type": "code",
      "source": [
        "def f(n:int):\n",
        "  assert n >= 0, 'Факториал отрицательных чисел не определён в данной задаче'\n",
        "  if n == 0:\n",
        "    return 1\n",
        "  return f(n-1) * n\n",
        "\n",
        "\n",
        "num = int(input())\n",
        "f(num)"
      ],
      "metadata": {
        "colab": {
          "base_uri": "https://localhost:8080/",
          "height": 597
        },
        "id": "M6qywvutE2Pu",
        "outputId": "8e89db51-8299-4948-8663-86c0c838514e"
      },
      "execution_count": null,
      "outputs": [
        {
          "output_type": "error",
          "ename": "KeyboardInterrupt",
          "evalue": "ignored",
          "traceback": [
            "\u001b[0;31m---------------------------------------------------------------------------\u001b[0m",
            "\u001b[0;31mKeyboardInterrupt\u001b[0m                         Traceback (most recent call last)",
            "\u001b[0;32m/usr/local/lib/python3.7/dist-packages/ipykernel/kernelbase.py\u001b[0m in \u001b[0;36m_input_request\u001b[0;34m(self, prompt, ident, parent, password)\u001b[0m\n\u001b[1;32m    728\u001b[0m             \u001b[0;32mtry\u001b[0m\u001b[0;34m:\u001b[0m\u001b[0;34m\u001b[0m\u001b[0;34m\u001b[0m\u001b[0m\n\u001b[0;32m--> 729\u001b[0;31m                 \u001b[0mident\u001b[0m\u001b[0;34m,\u001b[0m \u001b[0mreply\u001b[0m \u001b[0;34m=\u001b[0m \u001b[0mself\u001b[0m\u001b[0;34m.\u001b[0m\u001b[0msession\u001b[0m\u001b[0;34m.\u001b[0m\u001b[0mrecv\u001b[0m\u001b[0;34m(\u001b[0m\u001b[0mself\u001b[0m\u001b[0;34m.\u001b[0m\u001b[0mstdin_socket\u001b[0m\u001b[0;34m,\u001b[0m \u001b[0;36m0\u001b[0m\u001b[0;34m)\u001b[0m\u001b[0;34m\u001b[0m\u001b[0;34m\u001b[0m\u001b[0m\n\u001b[0m\u001b[1;32m    730\u001b[0m             \u001b[0;32mexcept\u001b[0m \u001b[0mException\u001b[0m\u001b[0;34m:\u001b[0m\u001b[0;34m\u001b[0m\u001b[0;34m\u001b[0m\u001b[0m\n",
            "\u001b[0;32m/usr/local/lib/python3.7/dist-packages/jupyter_client/session.py\u001b[0m in \u001b[0;36mrecv\u001b[0;34m(self, socket, mode, content, copy)\u001b[0m\n\u001b[1;32m    802\u001b[0m         \u001b[0;32mtry\u001b[0m\u001b[0;34m:\u001b[0m\u001b[0;34m\u001b[0m\u001b[0;34m\u001b[0m\u001b[0m\n\u001b[0;32m--> 803\u001b[0;31m             \u001b[0mmsg_list\u001b[0m \u001b[0;34m=\u001b[0m \u001b[0msocket\u001b[0m\u001b[0;34m.\u001b[0m\u001b[0mrecv_multipart\u001b[0m\u001b[0;34m(\u001b[0m\u001b[0mmode\u001b[0m\u001b[0;34m,\u001b[0m \u001b[0mcopy\u001b[0m\u001b[0;34m=\u001b[0m\u001b[0mcopy\u001b[0m\u001b[0;34m)\u001b[0m\u001b[0;34m\u001b[0m\u001b[0;34m\u001b[0m\u001b[0m\n\u001b[0m\u001b[1;32m    804\u001b[0m         \u001b[0;32mexcept\u001b[0m \u001b[0mzmq\u001b[0m\u001b[0;34m.\u001b[0m\u001b[0mZMQError\u001b[0m \u001b[0;32mas\u001b[0m \u001b[0me\u001b[0m\u001b[0;34m:\u001b[0m\u001b[0;34m\u001b[0m\u001b[0;34m\u001b[0m\u001b[0m\n",
            "\u001b[0;32m/usr/local/lib/python3.7/dist-packages/zmq/sugar/socket.py\u001b[0m in \u001b[0;36mrecv_multipart\u001b[0;34m(self, flags, copy, track)\u001b[0m\n\u001b[1;32m    624\u001b[0m         \"\"\"\n\u001b[0;32m--> 625\u001b[0;31m         \u001b[0mparts\u001b[0m \u001b[0;34m=\u001b[0m \u001b[0;34m[\u001b[0m\u001b[0mself\u001b[0m\u001b[0;34m.\u001b[0m\u001b[0mrecv\u001b[0m\u001b[0;34m(\u001b[0m\u001b[0mflags\u001b[0m\u001b[0;34m,\u001b[0m \u001b[0mcopy\u001b[0m\u001b[0;34m=\u001b[0m\u001b[0mcopy\u001b[0m\u001b[0;34m,\u001b[0m \u001b[0mtrack\u001b[0m\u001b[0;34m=\u001b[0m\u001b[0mtrack\u001b[0m\u001b[0;34m)\u001b[0m\u001b[0;34m]\u001b[0m\u001b[0;34m\u001b[0m\u001b[0;34m\u001b[0m\u001b[0m\n\u001b[0m\u001b[1;32m    626\u001b[0m         \u001b[0;31m# have first part already, only loop while more to receive\u001b[0m\u001b[0;34m\u001b[0m\u001b[0;34m\u001b[0m\u001b[0;34m\u001b[0m\u001b[0m\n",
            "\u001b[0;32mzmq/backend/cython/socket.pyx\u001b[0m in \u001b[0;36mzmq.backend.cython.socket.Socket.recv\u001b[0;34m()\u001b[0m\n",
            "\u001b[0;32mzmq/backend/cython/socket.pyx\u001b[0m in \u001b[0;36mzmq.backend.cython.socket.Socket.recv\u001b[0;34m()\u001b[0m\n",
            "\u001b[0;32mzmq/backend/cython/socket.pyx\u001b[0m in \u001b[0;36mzmq.backend.cython.socket._recv_copy\u001b[0;34m()\u001b[0m\n",
            "\u001b[0;32m/usr/local/lib/python3.7/dist-packages/zmq/backend/cython/checkrc.pxd\u001b[0m in \u001b[0;36mzmq.backend.cython.checkrc._check_rc\u001b[0;34m()\u001b[0m\n",
            "\u001b[0;31mKeyboardInterrupt\u001b[0m: ",
            "\nDuring handling of the above exception, another exception occurred:\n",
            "\u001b[0;31mKeyboardInterrupt\u001b[0m                         Traceback (most recent call last)",
            "\u001b[0;32m<ipython-input-49-5490ab0d7b05>\u001b[0m in \u001b[0;36m<module>\u001b[0;34m()\u001b[0m\n\u001b[1;32m      6\u001b[0m \u001b[0;34m\u001b[0m\u001b[0m\n\u001b[1;32m      7\u001b[0m \u001b[0;34m\u001b[0m\u001b[0m\n\u001b[0;32m----> 8\u001b[0;31m \u001b[0mnum\u001b[0m \u001b[0;34m=\u001b[0m \u001b[0mint\u001b[0m\u001b[0;34m(\u001b[0m\u001b[0minput\u001b[0m\u001b[0;34m(\u001b[0m\u001b[0;34m)\u001b[0m\u001b[0;34m)\u001b[0m\u001b[0;34m\u001b[0m\u001b[0;34m\u001b[0m\u001b[0m\n\u001b[0m\u001b[1;32m      9\u001b[0m \u001b[0mf\u001b[0m\u001b[0;34m(\u001b[0m\u001b[0mnum\u001b[0m\u001b[0;34m)\u001b[0m\u001b[0;34m\u001b[0m\u001b[0;34m\u001b[0m\u001b[0m\n",
            "\u001b[0;32m/usr/local/lib/python3.7/dist-packages/ipykernel/kernelbase.py\u001b[0m in \u001b[0;36mraw_input\u001b[0;34m(self, prompt)\u001b[0m\n\u001b[1;32m    702\u001b[0m             \u001b[0mself\u001b[0m\u001b[0;34m.\u001b[0m\u001b[0m_parent_ident\u001b[0m\u001b[0;34m,\u001b[0m\u001b[0;34m\u001b[0m\u001b[0;34m\u001b[0m\u001b[0m\n\u001b[1;32m    703\u001b[0m             \u001b[0mself\u001b[0m\u001b[0;34m.\u001b[0m\u001b[0m_parent_header\u001b[0m\u001b[0;34m,\u001b[0m\u001b[0;34m\u001b[0m\u001b[0;34m\u001b[0m\u001b[0m\n\u001b[0;32m--> 704\u001b[0;31m             \u001b[0mpassword\u001b[0m\u001b[0;34m=\u001b[0m\u001b[0;32mFalse\u001b[0m\u001b[0;34m,\u001b[0m\u001b[0;34m\u001b[0m\u001b[0;34m\u001b[0m\u001b[0m\n\u001b[0m\u001b[1;32m    705\u001b[0m         )\n\u001b[1;32m    706\u001b[0m \u001b[0;34m\u001b[0m\u001b[0m\n",
            "\u001b[0;32m/usr/local/lib/python3.7/dist-packages/ipykernel/kernelbase.py\u001b[0m in \u001b[0;36m_input_request\u001b[0;34m(self, prompt, ident, parent, password)\u001b[0m\n\u001b[1;32m    732\u001b[0m             \u001b[0;32mexcept\u001b[0m \u001b[0mKeyboardInterrupt\u001b[0m\u001b[0;34m:\u001b[0m\u001b[0;34m\u001b[0m\u001b[0;34m\u001b[0m\u001b[0m\n\u001b[1;32m    733\u001b[0m                 \u001b[0;31m# re-raise KeyboardInterrupt, to truncate traceback\u001b[0m\u001b[0;34m\u001b[0m\u001b[0;34m\u001b[0m\u001b[0;34m\u001b[0m\u001b[0m\n\u001b[0;32m--> 734\u001b[0;31m                 \u001b[0;32mraise\u001b[0m \u001b[0mKeyboardInterrupt\u001b[0m\u001b[0;34m\u001b[0m\u001b[0;34m\u001b[0m\u001b[0m\n\u001b[0m\u001b[1;32m    735\u001b[0m             \u001b[0;32melse\u001b[0m\u001b[0;34m:\u001b[0m\u001b[0;34m\u001b[0m\u001b[0;34m\u001b[0m\u001b[0m\n\u001b[1;32m    736\u001b[0m                 \u001b[0;32mbreak\u001b[0m\u001b[0;34m\u001b[0m\u001b[0;34m\u001b[0m\u001b[0m\n",
            "\u001b[0;31mKeyboardInterrupt\u001b[0m: "
          ]
        }
      ]
    },
    {
      "cell_type": "markdown",
      "source": [
        "Алгоритм Евклида для нахождения НОД.\n",
        "Есть а и в, их разница также должна делиться на НОД, Поэтому (при а > в) НОД(а, в) = НОД((а-в), в) и так можно делать пока один из члены не станут равны, это и будет НОД."
      ],
      "metadata": {
        "id": "aLVLAAqgOMCs"
      }
    },
    {
      "cell_type": "code",
      "source": [
        "''' Почему данный кусок кода выводит результат без print??? '''\n",
        "\n",
        "\n",
        "def gcd (a, b): # В объявлении функции также допускаются пробелы\n",
        "  if a == b:\n",
        "    return a\n",
        "  elif a > b:\n",
        "    return gcd(a-b, b)\n",
        "  else: # a < b\n",
        "    return gcd(b-a, a)\n",
        "\n",
        "\n",
        "a = int(input())\n",
        "b = int(input())\n",
        "gcd(a,b)"
      ],
      "metadata": {
        "id": "0kT1mt9APFhl"
      },
      "execution_count": null,
      "outputs": []
    },
    {
      "cell_type": "markdown",
      "source": [
        "Алгоритм через остаток от деления"
      ],
      "metadata": {
        "id": "PgeONZ6nQolM"
      }
    },
    {
      "cell_type": "code",
      "source": [
        "def gcd(a, b):\n",
        "  if b == 0:\n",
        "    return a\n",
        "  return gcd(b, a % b)\n",
        "  \n",
        "\n",
        "a = int(input())\n",
        "b = int(input())\n",
        "gcd(a, b) # Test \n",
        "\"\"\"if a > b:\n",
        "  print(gcd(a, b))\n",
        "else:\n",
        "  print(gcd(b, a))\"\"\""
      ],
      "metadata": {
        "id": "zeF2gqBcQ5Dj"
      },
      "execution_count": null,
      "outputs": []
    },
    {
      "cell_type": "markdown",
      "source": [
        "Быстрое возведение в степень.\n",
        "a^n = a*a*a*...a  n раз\n",
        "рекуррентный случай a^n - a^(n-1) * a"
      ],
      "metadata": {
        "id": "r2JRIwYNWK3U"
      }
    },
    {
      "cell_type": "code",
      "source": [
        "def pow(a:float, n:int):\n",
        "  if n == 0:\n",
        "    return 1\n",
        "  else:\n",
        "    return pow(a,n-1) * a\n",
        "\n",
        "\n",
        "pow(2, 5)"
      ],
      "metadata": {
        "id": "ZQwBSxNNWu1s"
      },
      "execution_count": null,
      "outputs": []
    },
    {
      "cell_type": "markdown",
      "source": [
        "a^2*k = (a^2)^k"
      ],
      "metadata": {
        "id": "9A7WWxWfXSBM"
      }
    },
    {
      "cell_type": "code",
      "source": [
        "def pow(a:float, n:int):\n",
        "  if n == 0:\n",
        "    return 1\n",
        "  elif n % 2:\n",
        "    return pow(a,n-1) * a\n",
        "  else:\n",
        "    return pow(a**2,n//2)\n",
        "\n",
        "\n",
        "pow(2, 5)"
      ],
      "metadata": {
        "id": "poAIY97vXgkN"
      },
      "execution_count": null,
      "outputs": []
    },
    {
      "cell_type": "markdown",
      "source": [
        "Ханойские башни \n",
        "n блинов на i-ом столбике,\n",
        "столбики i, k, tmp\n",
        "n-ый блин в tmp,\n",
        "n-1 в k столбик. Если на i столбике нет блинов, конец\n",
        "Иначе n-2[i] -> tmp, n[k] -> tmp, n-1[k] -> i, n[tmp] -> i, n-2[tmp] - > k, предыдущий случай."
      ],
      "metadata": {
        "id": "hYUOjAteX4Uc"
      }
    },
    {
      "cell_type": "code",
      "source": [
        "\"\"\" Сам не догадался продумывать алгоритм с конца, менять временный столбец\n",
        "    в рекуррентных частях и передавать уменьшающееся число дисков для переноса\n",
        "    (так как len() не будет работать, потому что мы ещё не переносили диски,\n",
        "    а только собираем последовательность переноса).\n",
        "    Несмотря на то, что алгоритм написал сам, после объяснения трёх принципов,\n",
        "    всё равно в голове пока не укладывается. Также поражает простота кода\n",
        "    после моих попыток идти от начала, а не с конца. \n",
        "    \n",
        "    С видимостью переменных пока также есть проблемы, если в функции передаем \n",
        "    атомарные типы данных и в самой функции пытаемся их увеличить/уменьшить,\n",
        "    функция считает что это необъявленная локальная переменная, при простом\n",
        "    тспользовании данной переменной, например в функции принт, спокойно \n",
        "    печатается глобальная переменная. Если мы используем структурные изменяемые\n",
        "    типы данных, питон вообще не ругается, спокойно работает с глобальным\n",
        "    списком, итерирует его элементы. Кортеж не изменяемый тип данных, поэтому\n",
        "    мы не можем просто так изменить один из его элементов, если мы присваеваем \n",
        "    ему новое значение, функция считает его локальной переменной, но это \n",
        "    логично. Глобальные атомарные переменные приходится определять в функции \n",
        "    как \"global_variable_name\" но правильнее, наверное, будет передавать ее в \n",
        "    функцию аргументом  \"\"\"\n",
        "def disk_from_a_to_b(a, b):\n",
        "  if len(a) != 0:\n",
        "    disk = a[-1]\n",
        "    if len(b) == 0 or b[-1] > disk: # we can do it cause 'or' in python is lazy\n",
        "      a.pop()         # This and next function must be a transaction\n",
        "      b.append(disk)  \n",
        "    else:\n",
        "      assert False, ('Нельзя класть большой диск (' + str(disk) +\n",
        "                    ') на меньший (' + str(b[-1]) + ')')\n",
        "  else:\n",
        "    assert False, 'Пытаешься снять диск с пустого столбика'\n",
        "  print_columns()\n",
        "\n",
        "def print_columns():\n",
        "  global operations_count\n",
        "  print(i)\n",
        "  print(k)\n",
        "  print(tmp)\n",
        "  operations_count += 1\n",
        "  print('Number of operations is ', operations_count)\n",
        "  print('~~~~~~~~~~~~~~~~~~~~')\n",
        "\n",
        "\n",
        "def rec_solution(n, a, b):\n",
        "  i = whole[a]\n",
        "  k = whole[b]\n",
        "  if n == 1:\n",
        "    disk_from_a_to_b(i, k)\n",
        "    return\n",
        "  else:\n",
        "    tmp_index = 3-a-b\n",
        "    tmp = whole[tmp_index]\n",
        "    print('1) Планируем перенос ', n-1, ' дисков с ', a, ' столба на ', tmp_index )\n",
        "    rec_solution(n-1, a, tmp_index)\n",
        "    print('1) Выполнили планируемый перенос ', n-1, ' дисков с ', a, ' столба на ', tmp_index )\n",
        "    print('2) Планируем перенос ', 1, ' диска с ', a, ' столба на ', b )\n",
        "    rec_solution(1, a, b)\n",
        "    print('2) Выполнили планируемый перенос перенос ', 1, ' диска с ', a, ' столба на ', b )\n",
        "    print('3) Планируем перенос ', n-1, ' дисков с ', tmp_index, ' столба на ', b )\n",
        "    rec_solution(n-1, tmp_index, b)\n",
        "    print('3) Выполнили планируемый перенос перенос ', n-1, ' дисков с ', tmp_index, ' столба на ', b )\n",
        "  \n",
        "\n",
        "n = int(input())\n",
        "i = [x for x in range(n, 0, -1)]\n",
        "k = []\n",
        "tmp = []\n",
        "whole =[i, k, tmp]\n",
        "print('~~~~~~~~~~~~~~~~~~~~')\n",
        "operations_count = -1\n",
        "print_columns()\n",
        "# Перекладываем последний диск из нулевого в первый элемент списка whole\n",
        "print('Планируем перенос ', n, ' дисков с ', 0, ' столба на ', 1 )\n",
        "rec_solution(n, 0, 1)\n",
        "print('Global operations_count = ', operations_count)"
      ],
      "metadata": {
        "colab": {
          "base_uri": "https://localhost:8080/"
        },
        "id": "Cl8eOlhCbdQ9",
        "outputId": "1f763048-bb88-4d96-d0d6-4110e7b8deac"
      },
      "execution_count": null,
      "outputs": [
        {
          "output_type": "stream",
          "name": "stdout",
          "text": [
            "2\n",
            "~~~~~~~~~~~~~~~~~~~~\n",
            "[2, 1]\n",
            "[]\n",
            "[]\n",
            "Number of operations is  0\n",
            "~~~~~~~~~~~~~~~~~~~~\n",
            "Планируем перенос  2  дисков с  0  столба на  1\n",
            "1) Планируем перенос  1  дисков с  0  столба на  2\n",
            "[2]\n",
            "[]\n",
            "[1]\n",
            "Number of operations is  1\n",
            "~~~~~~~~~~~~~~~~~~~~\n",
            "1) Выполнили планируемый перенос  1  дисков с  0  столба на  2\n",
            "2) Планируем перенос  1  диска с  0  столба на  1\n",
            "[]\n",
            "[2]\n",
            "[1]\n",
            "Number of operations is  2\n",
            "~~~~~~~~~~~~~~~~~~~~\n",
            "2) Выполнили планируемый перенос перенос  1  диска с  0  столба на  1\n",
            "3) Планируем перенос  1  дисков с  2  столба на  1\n",
            "[]\n",
            "[2, 1]\n",
            "[]\n",
            "Number of operations is  3\n",
            "~~~~~~~~~~~~~~~~~~~~\n",
            "3) Выполнили планируемый перенос перенос  1  дисков с  2  столба на  1\n",
            "Global operations_count =  3\n"
          ]
        }
      ]
    },
    {
      "cell_type": "markdown",
      "source": [
        ""
      ],
      "metadata": {
        "id": "wXA0mdd0mwGy"
      }
    },
    {
      "cell_type": "markdown",
      "source": [
        "# Лекция 8."
      ],
      "metadata": {
        "id": "sKz_ShAXmEGN"
      }
    },
    {
      "cell_type": "markdown",
      "source": [
        "## Генерация всех перестановок"
      ],
      "metadata": {
        "id": "HA6Mg6j7mJK0"
      }
    },
    {
      "cell_type": "markdown",
      "source": [
        "{1, 2, 3 ... N} - числа\n",
        "\n",
        "{[N]x[N-1]...[2]x[1]} = N! различных позиций.\n",
        "\n",
        "Упрощённый случай:\n",
        "все числа \n",
        "от [0],[0]...[0] до [N-1],[N-1]...[N-1] (от 111 до 999 для десятичной с-мы счичления)"
      ],
      "metadata": {
        "id": "xmJGfLnAmw-S"
      }
    },
    {
      "cell_type": "code",
      "source": [
        "def generate_numbers(N:\"int система счисления\",\n",
        "                     M:\"int длина\",\n",
        "                     prefix = []): # prefix = [], данные на лекции необязательны\n",
        "  \"\"\" Генерирует все числа с лидирующими незнчащими нулями в N-ричной системе \n",
        "      счисления (N<=10) длины M\n",
        "  \"\"\"\n",
        "  # prefix = prefix or [] # Должен вернуть prefix, если он не None, иначе []\n",
        "                          # При prefix=[] в аргументах, данная конструкция \n",
        "                          # не нужна.\n",
        "  if M == 0:\n",
        "    print(*prefix)\n",
        "    return\n",
        "  for digit in range(N):\n",
        "    prefix.append(digit)\n",
        "    generate_numbers(N, M-1, prefix)\n",
        "    prefix.pop() # Освобождаем место для следующего digit в цикле for\n",
        "\n",
        "\n",
        "def find(number, A):\n",
        "  \"\"\" Ищет х в А и возвращает True, усли такой есть\n",
        "      False, если такого нет\n",
        "  \"\"\"\n",
        "  flag = False\n",
        "  for x in A:\n",
        "    if number == x:\n",
        "      flag = True\n",
        "      break\n",
        "  return flag\n",
        "\n",
        "\n",
        "def generate_permutations(N:int, M:int=-1, prefix=None): # M:int=N не используем\n",
        "# так как может появить ошибка интерпретатора, так как M ссылается на \n",
        "# формальный параметр, который ещё не инициализирован.\n",
        "  \"\"\" Генерация всех перестановок N чисел в M позициях, с префиксом prefix\n",
        "  \"\"\"\n",
        "  M = N if M == -1 else M # поумолчанию N чисел в N позициях\n",
        "  prefix = prefix or []\n",
        "  if M ==0:\n",
        "    print(*prefix) # Разворачивания через * считают не очень хорошим способом,\n",
        "    # особенно для больших массивов.\n",
        "    return\n",
        "  for number in range(1, N+1):\n",
        "    if find(number,prefix):\n",
        "      continue\n",
        "    prefix.append(number)\n",
        "    generate_permutations(N, M-1, prefix)\n",
        "    prefix.pop()\n",
        "\n",
        "\n",
        "generate_numbers(3, 3)\n",
        "print('')\n",
        "generate_permutations(3)\n",
        "\n"
      ],
      "metadata": {
        "colab": {
          "base_uri": "https://localhost:8080/"
        },
        "id": "MKFWMhBkokCu",
        "outputId": "b5271cc8-db30-4231-bb5e-28fa7fac87f2"
      },
      "execution_count": null,
      "outputs": [
        {
          "output_type": "stream",
          "name": "stdout",
          "text": [
            "0 0 0\n",
            "0 0 1\n",
            "0 0 2\n",
            "0 1 0\n",
            "0 1 1\n",
            "0 1 2\n",
            "0 2 0\n",
            "0 2 1\n",
            "0 2 2\n",
            "1 0 0\n",
            "1 0 1\n",
            "1 0 2\n",
            "1 1 0\n",
            "1 1 1\n",
            "1 1 2\n",
            "1 2 0\n",
            "1 2 1\n",
            "1 2 2\n",
            "2 0 0\n",
            "2 0 1\n",
            "2 0 2\n",
            "2 1 0\n",
            "2 1 1\n",
            "2 1 2\n",
            "2 2 0\n",
            "2 2 1\n",
            "2 2 2\n",
            "\n",
            "1 2 3\n",
            "1 3 2\n",
            "2 1 3\n",
            "2 3 1\n",
            "3 1 2\n",
            "3 2 1\n"
          ]
        }
      ]
    },
    {
      "cell_type": "markdown",
      "source": [
        "## Рекурретные сортировки\n"
      ],
      "metadata": {
        "id": "HJODR4M4D-BB"
      }
    },
    {
      "cell_type": "markdown",
      "source": [
        "\n",
        "\n",
        "1.   Быстрая сортровка Тони Хоара\n",
        "  *    W(N log2(N));\n",
        "  *    На некоторых выборках сложность растёт до O(N^2);\n",
        "  *    Сортирующее действие выполняется на прямом ходу рекурсии;\n",
        "  *    Не требует дополнительной памяти;\n",
        "  *    Алгоритмы \"разделяй и властвуй\"\n",
        "\n",
        "2.   Сортировка слиянием\n",
        "  *    O(N log2(N))\n",
        "  *    Сортирующее действие выполняется на обратном ходу рекурсии\n",
        "  *    Требует дополнительной памяти O(N)\n",
        "\n",
        "\n"
      ],
      "metadata": {
        "id": "SeJ6DOPkEEyP"
      }
    },
    {
      "cell_type": "markdown",
      "source": [
        "# Лекция 9."
      ],
      "metadata": {
        "id": "ZF_TnolOITjA"
      }
    },
    {
      "cell_type": "markdown",
      "source": [
        "## Сортировка слиянием\n",
        "Слияние отсортированных масивовю"
      ],
      "metadata": {
        "id": "SGHJe_wU2tmW"
      }
    },
    {
      "cell_type": "code",
      "source": [
        "def merge(A:list, B: list):\n",
        "  C = [0]*(len(A)+len(B))\n",
        "  i = k = n = 0;\n",
        "  while i<len(A) and k<len(B):\n",
        "    if A[i] <= B[k]: # \"<=\" используем для устойчивости функции \n",
        "      C[n] = A[i]\n",
        "      i += 1\n",
        "      n += 1\n",
        "    else:\n",
        "      C[n] = B[k]\n",
        "      k += 1\n",
        "      n += 1\n",
        "    # В одном из списков счетчик дошёл до конца, поэтому в цикле у него\n",
        "    # не будет итераций и мы можем отказаться от условия для выяснеения \n",
        "    # какой из списков закончился\n",
        "  while i < len(A):\n",
        "    C[n] = A[i]\n",
        "    i += 1\n",
        "    n += 1\n",
        "  while k < len(B):\n",
        "    C[n] = B[k]\n",
        "    k += 1\n",
        "    n += 1\n",
        "  return C\n",
        "\n",
        "\n",
        "# Рекуррентная функция (очень неэкономная по памяти из-за нашей реализации\n",
        "#  функции merge )\n",
        "def merge_sort(A):\n",
        "  if len(A) <= 1:\n",
        "    return\n",
        "  middle = len(A)//2\n",
        "  L = [A[i] for i in range(0, middle)]\n",
        "  print(' L ', L)\n",
        "  R = [A[i] for i in range(middle, len(A))]\n",
        "  print(' R ', R)\n",
        "  merge_sort(L)\n",
        "  merge_sort(R)\n",
        "  C=merge(L, R)\n",
        "  for i in range(len(A)):\n",
        "    A[i] = C[i]\n",
        "\n",
        "\n",
        "b = [3, 5, 8, 3, 26, 9, 52, 2, 0, 9, 7, 99, 5, 4, 3, 3, 21]\n",
        "s = [5, 4, 3, 2, 1, 0]\n",
        "merge_sort(s)\n",
        "print(s)\n",
        "merge_sort(b)\n",
        "print(b)\n"
      ],
      "metadata": {
        "colab": {
          "base_uri": "https://localhost:8080/"
        },
        "id": "WGrC2GGN276Q",
        "outputId": "c0a17bc8-927c-413a-8c0d-91c0848920f7"
      },
      "execution_count": null,
      "outputs": [
        {
          "output_type": "stream",
          "name": "stdout",
          "text": [
            "[0, 1, 2, 3, 4, 5]\n",
            "[0, 2, 3, 3, 3, 3, 4, 5, 5, 7, 8, 9, 9, 21, 26, 52, 99]\n"
          ]
        }
      ]
    },
    {
      "cell_type": "markdown",
      "source": [
        "Сортировка называется устойчивой если она не меняет порядок равных элементов."
      ],
      "metadata": {
        "id": "Zb8RIFPV4Gck"
      }
    },
    {
      "cell_type": "markdown",
      "source": [
        "## Сортировка Тони Хоара (QuickSort)\n"
      ],
      "metadata": {
        "id": "O_4JKZJ1FY5I"
      }
    },
    {
      "cell_type": "code",
      "source": [
        "def hoar_sort(A):\n",
        "  if len(A) <= 1:\n",
        "    return # return equal to return None\n",
        "  barrier = A[0]\n",
        "  print('Barrier ', barrier)\n",
        "  L = []\n",
        "  M = []\n",
        "  R = []\n",
        "  for x in A:\n",
        "    if x < barrier:\n",
        "      L.append(x)\n",
        "    elif x == barrier:\n",
        "      M.append(x)\n",
        "    else:\n",
        "      R.append(x)\n",
        "  print(' L ', L)\n",
        "  print(' M ', M)\n",
        "  print(' R ', R)\n",
        "  hoar_sort(L)\n",
        "  hoar_sort(R)\n",
        "  k = 0\n",
        "  for x in L + M + R:\n",
        "    A[k] = x\n",
        "    k += 1\n",
        "\n",
        "\n",
        "b = [3, 5, 8, 3, 26, 9, 52, 2, 0, 9, 7, 99, 5, 4, 3, 3, 21]\n",
        "s = [5, 4, 3, 2, 1, 0]\n",
        "hoar_sort(s)\n",
        "print(s)\n",
        "print('~~~~~~~~~~~~~')\n",
        "hoar_sort(b)\n",
        "print(b)"
      ],
      "metadata": {
        "colab": {
          "base_uri": "https://localhost:8080/"
        },
        "id": "PsWNafgSMmeN",
        "outputId": "27f560d5-5809-434b-981a-83a0323cad8f"
      },
      "execution_count": null,
      "outputs": [
        {
          "output_type": "stream",
          "name": "stdout",
          "text": [
            "Barrier  5\n",
            " L  [4, 3, 2, 1, 0]\n",
            " M  [5]\n",
            " R  []\n",
            "Barrier  4\n",
            " L  [3, 2, 1, 0]\n",
            " M  [4]\n",
            " R  []\n",
            "Barrier  3\n",
            " L  [2, 1, 0]\n",
            " M  [3]\n",
            " R  []\n",
            "Barrier  2\n",
            " L  [1, 0]\n",
            " M  [2]\n",
            " R  []\n",
            "Barrier  1\n",
            " L  [0]\n",
            " M  [1]\n",
            " R  []\n",
            "[0, 1, 2, 3, 4, 5]\n",
            "~~~~~~~~~~~~~\n",
            "Barrier  3\n",
            " L  [2, 0]\n",
            " M  [3, 3, 3, 3]\n",
            " R  [5, 8, 26, 9, 52, 9, 7, 99, 5, 4, 21]\n",
            "Barrier  2\n",
            " L  [0]\n",
            " M  [2]\n",
            " R  []\n",
            "Barrier  5\n",
            " L  [4]\n",
            " M  [5, 5]\n",
            " R  [8, 26, 9, 52, 9, 7, 99, 21]\n",
            "Barrier  8\n",
            " L  [7]\n",
            " M  [8]\n",
            " R  [26, 9, 52, 9, 99, 21]\n",
            "Barrier  26\n",
            " L  [9, 9, 21]\n",
            " M  [26]\n",
            " R  [52, 99]\n",
            "Barrier  9\n",
            " L  []\n",
            " M  [9, 9]\n",
            " R  [21]\n",
            "Barrier  52\n",
            " L  []\n",
            " M  [52]\n",
            " R  [99]\n",
            "[0, 2, 3, 3, 3, 3, 4, 5, 5, 7, 8, 9, 9, 21, 26, 52, 99]\n"
          ]
        }
      ]
    },
    {
      "cell_type": "markdown",
      "source": [
        "##  Проверка упорядоченности массива за O(N)"
      ],
      "metadata": {
        "id": "fUel1BarQaDQ"
      }
    },
    {
      "cell_type": "code",
      "source": [
        "def check_sorted(A, ascending=True):\n",
        "  \"\"\" Проверка отсортированнности за O(len(A))\"\"\"\n",
        "  flag = True\n",
        "  s = 2 * int(ascending) - 1 # s=1 если аскендинг Истина и s=-1, если Ложь\n",
        "  for i in range(len(A)-1):\n",
        "    if s*A[i] > s*A[i+1]:\n",
        "      flag = False\n",
        "      break\n",
        "  return flag\n",
        "\n",
        "print(check_sorted(s, ascending=False))"
      ],
      "metadata": {
        "colab": {
          "base_uri": "https://localhost:8080/"
        },
        "id": "Q2_KXA4AQnXY",
        "outputId": "571f1804-6d08-43c5-8244-1cf8741e7dd9"
      },
      "execution_count": null,
      "outputs": [
        {
          "output_type": "stream",
          "name": "stdout",
          "text": [
            "False\n"
          ]
        }
      ]
    },
    {
      "cell_type": "markdown",
      "source": [
        "## Бинарный поиск в массиве"
      ],
      "metadata": {
        "id": "0qCbplkdTASq"
      }
    },
    {
      "cell_type": "markdown",
      "source": [
        "Применяется к **отсортированному массиву**, делением пополам. Скорость поиска высока O(log2(N))\n",
        "\n",
        "Что будем искать в нашей реализации:\n",
        "\n",
        "left_bound - до искомого числа\n",
        "\n",
        "right_bound - после.\n",
        "\n",
        "[1, 2, 2, 3, 4, 5, 5, 5, 7, 7]\n",
        "\n",
        "для 5 lb=4, rb=8\n",
        "\n",
        "для 6 lb=7, rb=8\n",
        "\n",
        "для -150 lb=-1, rb=0\n",
        "\n",
        "Т.е. наша реализация будет выдавать ответ даже если искомого числа нет в массиве.\n",
        "\n",
        "Для поиска делим пополам и смотрим, в каких частях наши искомые bound'ы."
      ],
      "metadata": {
        "id": "v0OzNtPrUCbp"
      }
    },
    {
      "cell_type": "code",
      "source": [
        "def left_bound(A, key:\"искомый элемент\"):\n",
        "  left = -1\n",
        "  right = len(A)\n",
        "  while right - left > 1:\n",
        "    middle = (left + right) // 2\n",
        "    if A[middle] < key:\n",
        "      left = middle\n",
        "    else:\n",
        "      right = middle\n",
        "  return left\n",
        "\n",
        "\n",
        "def right_bound(A, key:\"искомый элемент\"):\n",
        "  left = -1\n",
        "  right = len(A)\n",
        "  while right - left > 1:\n",
        "    middle = (left + right) // 2\n",
        "    if A[middle] <= key:\n",
        "      left = middle\n",
        "    else:\n",
        "      right = middle\n",
        "  return right\n",
        "\n",
        "\n",
        "def find_binary(A, key):\n",
        "  lb = left_bound(A, key)\n",
        "  rb = right_bound(A, key)\n",
        "  return [lb, rb]\n",
        "\n",
        "\n",
        "l = [1, 2, 2, 3, 4, 5, 5, 5, 7, 7]\n",
        "print(find_binary(l, 5))\n",
        "print(find_binary(l, -111))\n",
        "print(find_binary(l, 95))\n",
        "print(find_binary(l, 6))\n",
        "\n"
      ],
      "metadata": {
        "colab": {
          "base_uri": "https://localhost:8080/"
        },
        "id": "DYMClF_5TKUI",
        "outputId": "ff74ab9d-13d0-4d5d-e585-e6e5fc4f06b6"
      },
      "execution_count": null,
      "outputs": [
        {
          "output_type": "stream",
          "name": "stdout",
          "text": [
            "[4, 8]\n",
            "[-1, 0]\n",
            "[9, 10]\n",
            "[7, 8]\n"
          ]
        }
      ]
    },
    {
      "cell_type": "markdown",
      "source": [
        "# Лекция 10"
      ],
      "metadata": {
        "id": "dqtD3aadXBPf"
      }
    },
    {
      "cell_type": "markdown",
      "source": [
        "## Динамическое программирование"
      ],
      "metadata": {
        "id": "D4ltbSz4DLVI"
      }
    },
    {
      "cell_type": "markdown",
      "source": [
        "Напишем реккурентный алгоритм для чисел фибоначчи."
      ],
      "metadata": {
        "id": "k5CttlhlK-z_"
      }
    },
    {
      "cell_type": "code",
      "source": [
        "def fib_recursive(n):\n",
        "  if n <= 1:\n",
        "    return n\n",
        "  return (fib_recursive(n-1) + fib_recursive(n-2))\n",
        "\n",
        "\n",
        "print(fib_recursive(111))"
      ],
      "metadata": {
        "id": "6wHQtiJuLFVG"
      },
      "execution_count": null,
      "outputs": []
    },
    {
      "cell_type": "markdown",
      "source": [
        "Сложность данного алгоритма растет очень быстро как O(fib(n)).\n",
        "\n",
        "Поэтому реализуем другой алгоритм:"
      ],
      "metadata": {
        "id": "U-BN14zzMDQm"
      }
    },
    {
      "cell_type": "code",
      "source": [
        "def fib_simple(n):\n",
        "  fib = [0, 1] + [0] * (n-1)\n",
        "  for i in range(2, n+1):\n",
        "    fib[i] = fib[i-2] + fib[i-1]\n",
        "  return fib[n]\n",
        "\n",
        "\n",
        "print(fib_simple(111))"
      ],
      "metadata": {
        "colab": {
          "base_uri": "https://localhost:8080/"
        },
        "id": "T0E7E5a6MtOW",
        "outputId": "d819d578-1c0a-446c-b572-e546ff38a191"
      },
      "execution_count": null,
      "outputs": [
        {
          "output_type": "stream",
          "name": "stdout",
          "text": [
            "70492524767089125814114\n"
          ]
        }
      ]
    },
    {
      "cell_type": "markdown",
      "source": [
        "Данный пример выворачивания рекурсивной функции и является динамическим программированием"
      ],
      "metadata": {
        "id": "YS14wkbcQQTH"
      }
    },
    {
      "cell_type": "markdown",
      "source": [
        "Рассмотрим другую задачу.\n",
        "\n",
        "Кузнечик находится в 1, прыгает +1, +2, +3, на пути есть запрещённые клетки.\n",
        "\n",
        "Необхожимо найти количество траекторий, ведущих к N.\n",
        "\n",
        "(вариант с прыжками +1 и +2 - сводится к тойже функции поиска чисел фибоначи)"
      ],
      "metadata": {
        "id": "RIa-nvvIQc0I"
      }
    },
    {
      "cell_type": "code",
      "source": [
        "def count_trajectories(N, allowed:list):\n",
        "  k = [0, 1, int(allowed[2])] + [0]*(N-2)\n",
        "  for i in range(3, N+1):\n",
        "    if allowed[i]:\n",
        "      k[i] = k[i-1] + k[i-2] + k[i-3]\n",
        "  print(k)\n",
        "  return k[n]\n",
        "\n",
        "\n",
        "n = 10\n",
        "allowed = [True] * (n+1)\n",
        "print(allowed)\n",
        "print(count_trajectories(n, allowed))\n",
        "allowed[2] = allowed[3] = allowed[8] = allowed[5] = False\n",
        "print(allowed)\n",
        "print(count_trajectories(n, allowed))"
      ],
      "metadata": {
        "colab": {
          "base_uri": "https://localhost:8080/"
        },
        "id": "ePz1f-EqRWVX",
        "outputId": "d3cfef4f-3e0e-4028-e365-f2b9412bdab6"
      },
      "execution_count": null,
      "outputs": [
        {
          "output_type": "stream",
          "name": "stdout",
          "text": [
            "[True, True, True, True, True, True, True, True, True, True, True]\n",
            "[0, 1, 1, 2, 4, 7, 13, 24, 44, 81, 149]\n",
            "149\n",
            "[True, True, False, False, True, False, True, True, False, True, True]\n",
            "[0, 1, 0, 0, 1, 0, 1, 2, 0, 3, 5]\n",
            "5\n"
          ]
        }
      ]
    },
    {
      "cell_type": "markdown",
      "source": [
        "Алгоритм работает, если есть непреодолимое поле запрещённых клеток, выдает ноль."
      ],
      "metadata": {
        "id": "Ju4JHy-5VAkB"
      }
    },
    {
      "cell_type": "markdown",
      "source": [
        "Теперь кузнечик хочет допрыгать сминимальной стоимостью достижения клетки N. Ограничим его прыжками +1 и +2.\n",
        "\n",
        "price[ i ] - плата за посещение клетки i.\n",
        "\n",
        "C[ i ] - cost, минимальная стоимость достижения клетки i.\n",
        "\n",
        "C[ i ] = price[ i ] + min(C[ i-1 ], C[ i-2 ])\n",
        "\n",
        "C[1] = price[1]\n",
        "\n",
        "C[2] = price[2] + price[1]\n"
      ],
      "metadata": {
        "id": "xaT_ndcjVcBn"
      }
    },
    {
      "cell_type": "code",
      "source": [
        "import random\n",
        "\n",
        "def count_min_cost(N, price:list):\n",
        "  C = [float(\"inf\"), price[1], price[2] + price[2]] + [0]*(n-2)\n",
        "  for i in range(3, N+1):\n",
        "    C[i] = price[i] + min(C[i-1],C[i-2])\n",
        "  return C[N]\n",
        "\n",
        "\n",
        "n = 11\n",
        "price = []\n",
        "for i in range(n+1):\n",
        "  price.append(round(random.random() * 1000))\n",
        "print(price)\n",
        "print(count_min_cost(n, price))"
      ],
      "metadata": {
        "colab": {
          "base_uri": "https://localhost:8080/"
        },
        "id": "yiku4iBLWE5Q",
        "outputId": "8f1c20ec-e789-45e2-d334-d1534b0520e7"
      },
      "execution_count": null,
      "outputs": [
        {
          "output_type": "stream",
          "name": "stdout",
          "text": [
            "[667, 220, 533, 503, 818, 231, 200, 941, 197, 743, 902, 128]\n",
            "2222\n"
          ]
        }
      ]
    },
    {
      "cell_type": "markdown",
      "source": [
        "## Двумерные массивы"
      ],
      "metadata": {
        "id": "pVeew8J9bLWA"
      }
    },
    {
      "cell_type": "markdown",
      "source": [
        "Двумерных массивов в питоне нет, выходы:\n",
        "\n",
        "\n",
        "1.   Линеаризация\n",
        "  Пусть N строк, M элементов в строке.\n",
        "  \n",
        "  `A[i,j] <-> A[i*M + j]`\n",
        "  \n",
        "  Требования - одинаковое количество элементов в строке.\n",
        "2.   Список списков\n",
        "  Список списков нельзя задавать следующим образом:\n",
        "\n",
        "  `A = [[0] * M] * N`\n",
        "  , потому что в этом случае умножение на N не пересоздает новые строки массива и все N строк просто ссылаются на массив `[0] * M`\n",
        "\n",
        "  Можно создавать следующим образом: `A = [[0]*M for i in range(N)]`\n",
        "\n"
      ],
      "metadata": {
        "id": "lxktTbkWbQlI"
      }
    }
  ]
}